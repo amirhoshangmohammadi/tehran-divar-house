{
 "cells": [
  {
   "cell_type": "markdown",
   "id": "f9672d93",
   "metadata": {
    "papermill": {
     "duration": 0.018759,
     "end_time": "2022-08-10T05:50:54.711419",
     "exception": false,
     "start_time": "2022-08-10T05:50:54.692660",
     "status": "completed"
    },
    "tags": []
   },
   "source": [
    "<img src=\"https://academy.divar.ir/real-estate/wp-content/uploads/2021/04/market-analysis-97-99.jpg\" width=80% />"
   ]
  },
  {
   "cell_type": "markdown",
   "id": "c68bf021",
   "metadata": {
    "papermill": {
     "duration": 0.017242,
     "end_time": "2022-08-10T05:50:54.747890",
     "exception": false,
     "start_time": "2022-08-10T05:50:54.730648",
     "status": "completed"
    },
    "tags": []
   },
   "source": [
    "<div class=\"alert alert-block alert-success\">\n",
    "    <h1 align=\"center\">House price prediction (Tehran) in Python</h1>\n",
    "    <h3 align=\"center\">Dataset is crawled from Divar.ir</h3>\n",
    "    <h4 align=\"center\"><a href=\"http://www.iran-machinelearning.ir\">Soheil Tehranipour</a></h5>\n",
    "</div>"
   ]
  },
  {
   "cell_type": "markdown",
   "id": "59e3243e",
   "metadata": {
    "papermill": {
     "duration": 0.017432,
     "end_time": "2022-08-10T05:50:54.782856",
     "exception": false,
     "start_time": "2022-08-10T05:50:54.765424",
     "status": "completed"
    },
    "tags": []
   },
   "source": [
    "# Topics:\n",
    "\n",
    "- [ ] Import the Dataset (House Prices in Tehran)\n",
    "- [ ] What about the Data ? (EDA)\n",
    "- [ ] Preprocessing (Handling Missing Values, Encoding data, Scale & Cross-validation)\n",
    "- [ ] Linear Regreassion in action \n",
    "- [ ] Multiple Linear Regreassion in action \n",
    "- [ ] Random forest in action (Regression)\n",
    "- [ ] XGBoost in action (Regression)"
   ]
  },
  {
   "cell_type": "markdown",
   "id": "9122abee",
   "metadata": {
    "papermill": {
     "duration": 0.016639,
     "end_time": "2022-08-10T05:50:54.816501",
     "exception": false,
     "start_time": "2022-08-10T05:50:54.799862",
     "status": "completed"
    },
    "tags": []
   },
   "source": [
    "# House Price Prediction in Action (Regression)"
   ]
  },
  {
   "cell_type": "markdown",
   "id": "ea69eb4f",
   "metadata": {
    "papermill": {
     "duration": 0.017298,
     "end_time": "2022-08-10T05:50:54.850780",
     "exception": false,
     "start_time": "2022-08-10T05:50:54.833482",
     "status": "completed"
    },
    "tags": []
   },
   "source": [
    "## Importing the libraries"
   ]
  },
  {
   "cell_type": "code",
   "execution_count": 31,
   "id": "ace47118",
   "metadata": {
    "execution": {
     "iopub.execute_input": "2022-08-10T05:50:54.892799Z",
     "iopub.status.busy": "2022-08-10T05:50:54.891705Z",
     "iopub.status.idle": "2022-08-10T05:50:54.899239Z",
     "shell.execute_reply": "2022-08-10T05:50:54.898227Z"
    },
    "papermill": {
     "duration": 0.038195,
     "end_time": "2022-08-10T05:50:54.907064",
     "exception": false,
     "start_time": "2022-08-10T05:50:54.868869",
     "status": "completed"
    },
    "tags": []
   },
   "outputs": [],
   "source": [
    "# !pip install xgboost"
   ]
  },
  {
   "cell_type": "code",
   "execution_count": 32,
   "id": "dfce3c30",
   "metadata": {
    "execution": {
     "iopub.execute_input": "2022-08-10T05:50:54.955060Z",
     "iopub.status.busy": "2022-08-10T05:50:54.954350Z",
     "iopub.status.idle": "2022-08-10T05:50:56.614572Z",
     "shell.execute_reply": "2022-08-10T05:50:56.613468Z"
    },
    "papermill": {
     "duration": 1.687424,
     "end_time": "2022-08-10T05:50:56.617565",
     "exception": false,
     "start_time": "2022-08-10T05:50:54.930141",
     "status": "completed"
    },
    "tags": []
   },
   "outputs": [],
   "source": [
    "%matplotlib inline\n",
    "import numpy as np\n",
    "import pandas as pd\n",
    "import matplotlib.pyplot as plt\n",
    "import seaborn as sns\n",
    "import re\n",
    "import time\n",
    "\n",
    "from sklearn.model_selection import train_test_split\n",
    "from sklearn.model_selection import cross_val_score, KFold\n",
    "from sklearn.metrics import mean_squared_error\n",
    "from sklearn.metrics import mean_absolute_error\n",
    "from sklearn.metrics import r2_score\n",
    "\n",
    "from sklearn.ensemble import RandomForestRegressor,ExtraTreesRegressor,GradientBoostingRegressor\n",
    "from sklearn.linear_model import  ElasticNet, Lasso, LinearRegression, Ridge\n",
    "from sklearn.neighbors import KNeighborsRegressor\n",
    "\n",
    "from sklearn.model_selection import GridSearchCV\n",
    "from sklearn.tree import DecisionTreeRegressor\n",
    "from xgboost import XGBRegressor\n",
    "\n",
    "import joblib\n",
    "\n",
    "import warnings\n",
    "warnings.filterwarnings('ignore')"
   ]
  },
  {
   "cell_type": "markdown",
   "id": "bce3c50f",
   "metadata": {
    "papermill": {
     "duration": 0.016717,
     "end_time": "2022-08-10T05:50:56.651393",
     "exception": false,
     "start_time": "2022-08-10T05:50:56.634676",
     "status": "completed"
    },
    "tags": []
   },
   "source": [
    "## Load and Prepare Data"
   ]
  },
  {
   "cell_type": "code",
   "execution_count": 33,
   "id": "66fba2f4",
   "metadata": {
    "execution": {
     "iopub.execute_input": "2022-08-10T05:50:56.688602Z",
     "iopub.status.busy": "2022-08-10T05:50:56.687770Z",
     "iopub.status.idle": "2022-08-10T05:50:56.751417Z",
     "shell.execute_reply": "2022-08-10T05:50:56.749987Z"
    },
    "papermill": {
     "duration": 0.086474,
     "end_time": "2022-08-10T05:50:56.754958",
     "exception": false,
     "start_time": "2022-08-10T05:50:56.668484",
     "status": "completed"
    },
    "scrolled": true,
    "tags": []
   },
   "outputs": [
    {
     "data": {
      "text/html": [
       "<div>\n",
       "<style scoped>\n",
       "    .dataframe tbody tr th:only-of-type {\n",
       "        vertical-align: middle;\n",
       "    }\n",
       "\n",
       "    .dataframe tbody tr th {\n",
       "        vertical-align: top;\n",
       "    }\n",
       "\n",
       "    .dataframe thead th {\n",
       "        text-align: right;\n",
       "    }\n",
       "</style>\n",
       "<table border=\"1\" class=\"dataframe\">\n",
       "  <thead>\n",
       "    <tr style=\"text-align: right;\">\n",
       "      <th></th>\n",
       "      <th>Area</th>\n",
       "      <th>Room</th>\n",
       "      <th>Parking</th>\n",
       "      <th>Warehouse</th>\n",
       "      <th>Elevator</th>\n",
       "      <th>Address</th>\n",
       "      <th>Price</th>\n",
       "      <th>Price(USD)</th>\n",
       "    </tr>\n",
       "  </thead>\n",
       "  <tbody>\n",
       "    <tr>\n",
       "      <th>0</th>\n",
       "      <td>63</td>\n",
       "      <td>1</td>\n",
       "      <td>True</td>\n",
       "      <td>True</td>\n",
       "      <td>True</td>\n",
       "      <td>Shahran</td>\n",
       "      <td>1850000000</td>\n",
       "      <td>61667</td>\n",
       "    </tr>\n",
       "    <tr>\n",
       "      <th>1</th>\n",
       "      <td>60</td>\n",
       "      <td>1</td>\n",
       "      <td>True</td>\n",
       "      <td>True</td>\n",
       "      <td>True</td>\n",
       "      <td>Shahran</td>\n",
       "      <td>1850000000</td>\n",
       "      <td>61667</td>\n",
       "    </tr>\n",
       "    <tr>\n",
       "      <th>2</th>\n",
       "      <td>79</td>\n",
       "      <td>2</td>\n",
       "      <td>True</td>\n",
       "      <td>True</td>\n",
       "      <td>True</td>\n",
       "      <td>Pardis</td>\n",
       "      <td>550000000</td>\n",
       "      <td>18333</td>\n",
       "    </tr>\n",
       "    <tr>\n",
       "      <th>3</th>\n",
       "      <td>95</td>\n",
       "      <td>2</td>\n",
       "      <td>True</td>\n",
       "      <td>True</td>\n",
       "      <td>True</td>\n",
       "      <td>Shahrake Qods</td>\n",
       "      <td>902500000</td>\n",
       "      <td>30083</td>\n",
       "    </tr>\n",
       "    <tr>\n",
       "      <th>4</th>\n",
       "      <td>123</td>\n",
       "      <td>2</td>\n",
       "      <td>True</td>\n",
       "      <td>True</td>\n",
       "      <td>True</td>\n",
       "      <td>Shahrake Gharb</td>\n",
       "      <td>7000000000</td>\n",
       "      <td>233333</td>\n",
       "    </tr>\n",
       "  </tbody>\n",
       "</table>\n",
       "</div>"
      ],
      "text/plain": [
       "  Area  Room  Parking  Warehouse  Elevator         Address       Price  \\\n",
       "0   63     1     True       True      True         Shahran  1850000000   \n",
       "1   60     1     True       True      True         Shahran  1850000000   \n",
       "2   79     2     True       True      True          Pardis   550000000   \n",
       "3   95     2     True       True      True   Shahrake Qods   902500000   \n",
       "4  123     2     True       True      True  Shahrake Gharb  7000000000   \n",
       "\n",
       "   Price(USD)  \n",
       "0       61667  \n",
       "1       61667  \n",
       "2       18333  \n",
       "3       30083  \n",
       "4      233333  "
      ]
     },
     "execution_count": 33,
     "metadata": {},
     "output_type": "execute_result"
    }
   ],
   "source": [
    "#Read the dataset and print the top 5 elements of the dataset\n",
    "df = pd.read_csv('tehranhouses.csv')\n",
    "df.head()"
   ]
  },
  {
   "cell_type": "code",
   "execution_count": 34,
   "id": "d63d38f9",
   "metadata": {
    "execution": {
     "iopub.execute_input": "2022-08-10T05:50:56.793590Z",
     "iopub.status.busy": "2022-08-10T05:50:56.792702Z",
     "iopub.status.idle": "2022-08-10T05:50:56.815749Z",
     "shell.execute_reply": "2022-08-10T05:50:56.814139Z"
    },
    "papermill": {
     "duration": 0.045649,
     "end_time": "2022-08-10T05:50:56.818571",
     "exception": false,
     "start_time": "2022-08-10T05:50:56.772922",
     "status": "completed"
    },
    "tags": []
   },
   "outputs": [
    {
     "data": {
      "text/html": [
       "<div>\n",
       "<style scoped>\n",
       "    .dataframe tbody tr th:only-of-type {\n",
       "        vertical-align: middle;\n",
       "    }\n",
       "\n",
       "    .dataframe tbody tr th {\n",
       "        vertical-align: top;\n",
       "    }\n",
       "\n",
       "    .dataframe thead th {\n",
       "        text-align: right;\n",
       "    }\n",
       "</style>\n",
       "<table border=\"1\" class=\"dataframe\">\n",
       "  <thead>\n",
       "    <tr style=\"text-align: right;\">\n",
       "      <th></th>\n",
       "      <th>Area</th>\n",
       "      <th>Room</th>\n",
       "      <th>Parking</th>\n",
       "      <th>Warehouse</th>\n",
       "      <th>Elevator</th>\n",
       "      <th>Address</th>\n",
       "      <th>Price</th>\n",
       "      <th>Price(USD)</th>\n",
       "    </tr>\n",
       "  </thead>\n",
       "  <tbody>\n",
       "    <tr>\n",
       "      <th>2553</th>\n",
       "      <td>75</td>\n",
       "      <td>2</td>\n",
       "      <td>False</td>\n",
       "      <td>False</td>\n",
       "      <td>False</td>\n",
       "      <td>Parand</td>\n",
       "      <td>245000000</td>\n",
       "      <td>8167</td>\n",
       "    </tr>\n",
       "    <tr>\n",
       "      <th>1583</th>\n",
       "      <td>66</td>\n",
       "      <td>2</td>\n",
       "      <td>True</td>\n",
       "      <td>False</td>\n",
       "      <td>True</td>\n",
       "      <td>Ostad Moein</td>\n",
       "      <td>1580000000</td>\n",
       "      <td>52667</td>\n",
       "    </tr>\n",
       "    <tr>\n",
       "      <th>1775</th>\n",
       "      <td>120</td>\n",
       "      <td>3</td>\n",
       "      <td>True</td>\n",
       "      <td>True</td>\n",
       "      <td>True</td>\n",
       "      <td>Persian Gulf Martyrs Lake</td>\n",
       "      <td>590000000</td>\n",
       "      <td>19667</td>\n",
       "    </tr>\n",
       "    <tr>\n",
       "      <th>877</th>\n",
       "      <td>138</td>\n",
       "      <td>3</td>\n",
       "      <td>True</td>\n",
       "      <td>True</td>\n",
       "      <td>True</td>\n",
       "      <td>Kahrizak</td>\n",
       "      <td>1242000000</td>\n",
       "      <td>41400</td>\n",
       "    </tr>\n",
       "    <tr>\n",
       "      <th>3468</th>\n",
       "      <td>81</td>\n",
       "      <td>2</td>\n",
       "      <td>True</td>\n",
       "      <td>True</td>\n",
       "      <td>True</td>\n",
       "      <td>West Ferdows Boulevard</td>\n",
       "      <td>4455000000</td>\n",
       "      <td>148500</td>\n",
       "    </tr>\n",
       "  </tbody>\n",
       "</table>\n",
       "</div>"
      ],
      "text/plain": [
       "     Area  Room  Parking  Warehouse  Elevator                    Address  \\\n",
       "2553   75     2    False      False     False                     Parand   \n",
       "1583   66     2     True      False      True                Ostad Moein   \n",
       "1775  120     3     True       True      True  Persian Gulf Martyrs Lake   \n",
       "877   138     3     True       True      True                   Kahrizak   \n",
       "3468   81     2     True       True      True     West Ferdows Boulevard   \n",
       "\n",
       "           Price  Price(USD)  \n",
       "2553   245000000        8167  \n",
       "1583  1580000000       52667  \n",
       "1775   590000000       19667  \n",
       "877   1242000000       41400  \n",
       "3468  4455000000      148500  "
      ]
     },
     "execution_count": 34,
     "metadata": {},
     "output_type": "execute_result"
    }
   ],
   "source": [
    "df.sample(5)"
   ]
  },
  {
   "cell_type": "code",
   "execution_count": 35,
   "id": "323bb81e",
   "metadata": {
    "execution": {
     "iopub.execute_input": "2022-08-10T05:50:56.860336Z",
     "iopub.status.busy": "2022-08-10T05:50:56.858672Z",
     "iopub.status.idle": "2022-08-10T05:50:56.869837Z",
     "shell.execute_reply": "2022-08-10T05:50:56.868028Z"
    },
    "papermill": {
     "duration": 0.036289,
     "end_time": "2022-08-10T05:50:56.873266",
     "exception": false,
     "start_time": "2022-08-10T05:50:56.836977",
     "status": "completed"
    },
    "tags": []
   },
   "outputs": [
    {
     "data": {
      "text/plain": [
       "pandas.core.frame.DataFrame"
      ]
     },
     "execution_count": 35,
     "metadata": {},
     "output_type": "execute_result"
    }
   ],
   "source": [
    "type(df)"
   ]
  },
  {
   "cell_type": "code",
   "execution_count": 36,
   "metadata": {},
   "outputs": [
    {
     "name": "stdout",
     "output_type": "stream",
     "text": [
      "Note: you may need to restart the kernel to use updated packages.\n"
     ]
    },
    {
     "name": "stderr",
     "output_type": "stream",
     "text": [
      "ERROR: Could not find a version that satisfies the requirement panel>=1.4.0 (from autoviz) (from versions: 0.0.1, 0.3.0, 0.3.1, 0.4.0, 0.5.1, 0.6.0, 0.6.2, 0.6.3, 0.6.4, 0.7.0, 0.8.0, 0.8.1, 0.8.2, 0.8.3, 0.9.0, 0.9.1, 0.9.2, 0.9.3, 0.9.4, 0.9.5, 0.9.6, 0.9.7, 0.10.0, 0.10.1, 0.10.2, 0.10.3rc1, 0.10.3, 0.11.0b1, 0.11.0rc3, 0.11.0rc4, 0.11.0rc5, 0.11.0rc6, 0.11.0rc7, 0.11.0, 0.11.1, 0.11.2a1, 0.11.2a2, 0.11.2a3, 0.11.2a4, 0.11.2, 0.11.3, 0.12.0a1, 0.12.0a2, 0.12.0a3, 0.12.0a4, 0.12.0a5, 0.12.0a6, 0.12.0a7, 0.12.0a8, 0.12.0a9, 0.12.0a10, 0.12.0a11, 0.12.0a12, 0.12.0a13, 0.12.0a15, 0.12.0a16, 0.12.0a17, 0.12.0a18, 0.12.0a20, 0.12.0a21, 0.12.0a22, 0.12.0rc1, 0.12.0rc2, 0.12.0rc3, 0.12.0rc4, 0.12.0rc5, 0.12.0rc6, 0.12.0rc7, 0.12.0rc8, 0.12.0rc10, 0.12.0rc11, 0.12.0rc12, 0.12.0rc13, 0.12.0, 0.12.1a1, 0.12.1rc1, 0.12.1rc2, 0.12.1rc3, 0.12.1rc4, 0.12.1, 0.12.2rc1, 0.12.2, 0.12.3rc1, 0.12.3, 0.12.4rc1, 0.12.4rc2, 0.12.4rc3, 0.12.4, 0.12.5rc1, 0.12.5rc2, 0.12.5rc3, 0.12.5, 0.12.6rc1, 0.12.6rc2, 0.12.6rc3, 0.12.6, 0.12.7rc2, 0.12.7, 0.13.0a1, 0.13.0a2, 0.13.0a3, 0.13.0a4, 0.13.0a5, 0.13.0a6, 0.13.0a7, 0.13.0a8, 0.13.0a9, 0.13.0a10, 0.13.0a11, 0.13.0a12, 0.13.0a13, 0.13.0a14, 0.13.0a15, 0.13.0a16, 0.13.0a17, 0.13.0a18, 0.13.0a19, 0.13.0a20, 0.13.0a21, 0.13.0a22, 0.13.0a23, 0.13.0a24, 0.13.0a25, 0.13.0a26, 0.13.0a27, 0.13.0a28, 0.13.0a29, 0.13.0a30, 0.13.0a31, 0.13.0a32, 0.13.0a36, 0.13.0a37, 0.13.0a38, 0.13.0a39, 0.13.0a40, 0.13.0a41, 0.13.0a42, 0.13.0a43, 0.13.0a44, 0.13.0a45, 0.13.0a46, 0.13.0a47, 0.13.0rc1, 0.13.0rc2, 0.13.0rc3, 0.13.0rc4, 0.13.0rc5, 0.13.0rc6, 0.13.0rc7, 0.13.0rc8, 0.13.0rc9, 0.13.0rc10, 0.13.0rc11, 0.13.0rc12, 0.13.0, 0.13.1a1, 0.13.1a2, 0.13.1a3, 0.13.1a4, 0.13.1a5, 0.13.1a6, 0.13.1a7, 0.13.1rc1, 0.13.1rc2, 0.13.1rc3, 0.13.1, 0.14.0a1, 0.14.0a2, 0.14.0a3, 0.14.0a4, 0.14.0a6, 0.14.0a7, 0.14.0a8, 0.14.0a9, 0.14.0a10, 0.14.0a11, 0.14.0a12, 0.14.0a13, 0.14.0a14, 0.14.0a15, 0.14.0a16, 0.14.0a17, 0.14.0a18, 0.14.0a19, 0.14.0a20, 0.14.0a21, 0.14.0a22, 0.14.0a23, 0.14.0a24, 0.14.0a25, 0.14.0a26, 0.14.0rc1, 0.14.0rc2, 0.14.0rc3, 0.14.0rc4, 0.14.0rc5, 0.14.0rc6, 0.14.0, 0.14.1a1, 0.14.1a2, 0.14.1rc1, 0.14.1rc2, 0.14.1rc3, 0.14.1, 0.14.2a1, 0.14.2a5, 0.14.2a6, 0.14.2b1, 0.14.2rc1, 0.14.2rc2, 0.14.2, 0.14.3a1, 0.14.3a2, 0.14.3rc1, 0.14.3rc2, 0.14.3rc3, 0.14.3, 0.14.4rc1, 0.14.4rc2, 0.14.4, 1.0.0a1, 1.0.0a2, 1.0.0a3, 1.0.0a4, 1.0.0a5, 1.0.0b1, 1.0.0b2, 1.0.0b3, 1.0.0b4, 1.0.0b5, 1.0.0b6, 1.0.0b7, 1.0.0b8, 1.0.0b9, 1.0.0b10, 1.0.0b11, 1.0.0b12, 1.0.0b13, 1.0.0b14, 1.0.0b15, 1.0.0b16, 1.0.0b17, 1.0.0b18, 1.0.0rc1, 1.0.0rc2, 1.0.0rc3, 1.0.0rc4, 1.0.0rc5, 1.0.0rc6, 1.0.0rc7, 1.0.0rc8, 1.0.0rc9, 1.0.0rc10, 1.0.0rc11, 1.0.0, 1.0.1, 1.0.2a1, 1.0.2, 1.0.3rc1, 1.0.3, 1.0.4rc1, 1.0.4rc2, 1.0.4rc3, 1.0.4, 1.1.0rc1, 1.1.0rc2, 1.1.0, 1.1.1rc1, 1.1.1, 1.2.0a1, 1.2.0a2, 1.2.0, 1.2.1a1, 1.2.1rc1, 1.2.1, 1.2.2a1, 1.2.2a2, 1.2.2a3, 1.2.2a4, 1.2.2rc1, 1.2.2, 1.2.3rc1, 1.2.3, 1.3.0a1, 1.3.0a2, 1.3.0a3, 1.3.0a5, 1.3.0a6, 1.3.0a7, 1.3.0a8, 1.3.0a9)\n",
      "ERROR: No matching distribution found for panel>=1.4.0 (from autoviz)\n",
      "WARNING: You are using pip version 20.2.3; however, version 25.0.1 is available.\n",
      "You should consider upgrading via the 'd:\\python-maktabkhone\\mashin karbordi\\6\\pycaretm\\Scripts\\python.exe -m pip install --upgrade pip' command.\n"
     ]
    }
   ],
   "source": [
    "pip install autoviz -q"
   ]
  },
  {
   "cell_type": "code",
   "execution_count": 37,
   "metadata": {},
   "outputs": [],
   "source": [
    "from pycaret.regression import *"
   ]
  },
  {
   "cell_type": "code",
   "execution_count": 38,
   "metadata": {},
   "outputs": [],
   "source": [
    "df=df.drop(\"Price(USD)\",axis=1)"
   ]
  },
  {
   "cell_type": "code",
   "execution_count": 39,
   "metadata": {},
   "outputs": [
    {
     "data": {
      "text/html": [
       "<div>\n",
       "<style scoped>\n",
       "    .dataframe tbody tr th:only-of-type {\n",
       "        vertical-align: middle;\n",
       "    }\n",
       "\n",
       "    .dataframe tbody tr th {\n",
       "        vertical-align: top;\n",
       "    }\n",
       "\n",
       "    .dataframe thead th {\n",
       "        text-align: right;\n",
       "    }\n",
       "</style>\n",
       "<table border=\"1\" class=\"dataframe\">\n",
       "  <thead>\n",
       "    <tr style=\"text-align: right;\">\n",
       "      <th></th>\n",
       "      <th>Area</th>\n",
       "      <th>Room</th>\n",
       "      <th>Parking</th>\n",
       "      <th>Warehouse</th>\n",
       "      <th>Elevator</th>\n",
       "      <th>Address</th>\n",
       "      <th>Price</th>\n",
       "    </tr>\n",
       "  </thead>\n",
       "  <tbody>\n",
       "    <tr>\n",
       "      <th>0</th>\n",
       "      <td>63</td>\n",
       "      <td>1</td>\n",
       "      <td>True</td>\n",
       "      <td>True</td>\n",
       "      <td>True</td>\n",
       "      <td>Shahran</td>\n",
       "      <td>1850000000</td>\n",
       "    </tr>\n",
       "    <tr>\n",
       "      <th>1</th>\n",
       "      <td>60</td>\n",
       "      <td>1</td>\n",
       "      <td>True</td>\n",
       "      <td>True</td>\n",
       "      <td>True</td>\n",
       "      <td>Shahran</td>\n",
       "      <td>1850000000</td>\n",
       "    </tr>\n",
       "    <tr>\n",
       "      <th>2</th>\n",
       "      <td>79</td>\n",
       "      <td>2</td>\n",
       "      <td>True</td>\n",
       "      <td>True</td>\n",
       "      <td>True</td>\n",
       "      <td>Pardis</td>\n",
       "      <td>550000000</td>\n",
       "    </tr>\n",
       "    <tr>\n",
       "      <th>3</th>\n",
       "      <td>95</td>\n",
       "      <td>2</td>\n",
       "      <td>True</td>\n",
       "      <td>True</td>\n",
       "      <td>True</td>\n",
       "      <td>Shahrake Qods</td>\n",
       "      <td>902500000</td>\n",
       "    </tr>\n",
       "    <tr>\n",
       "      <th>4</th>\n",
       "      <td>123</td>\n",
       "      <td>2</td>\n",
       "      <td>True</td>\n",
       "      <td>True</td>\n",
       "      <td>True</td>\n",
       "      <td>Shahrake Gharb</td>\n",
       "      <td>7000000000</td>\n",
       "    </tr>\n",
       "    <tr>\n",
       "      <th>...</th>\n",
       "      <td>...</td>\n",
       "      <td>...</td>\n",
       "      <td>...</td>\n",
       "      <td>...</td>\n",
       "      <td>...</td>\n",
       "      <td>...</td>\n",
       "      <td>...</td>\n",
       "    </tr>\n",
       "    <tr>\n",
       "      <th>3474</th>\n",
       "      <td>86</td>\n",
       "      <td>2</td>\n",
       "      <td>True</td>\n",
       "      <td>True</td>\n",
       "      <td>True</td>\n",
       "      <td>Southern Janatabad</td>\n",
       "      <td>3500000000</td>\n",
       "    </tr>\n",
       "    <tr>\n",
       "      <th>3475</th>\n",
       "      <td>83</td>\n",
       "      <td>2</td>\n",
       "      <td>True</td>\n",
       "      <td>True</td>\n",
       "      <td>True</td>\n",
       "      <td>Niavaran</td>\n",
       "      <td>6800000000</td>\n",
       "    </tr>\n",
       "    <tr>\n",
       "      <th>3476</th>\n",
       "      <td>75</td>\n",
       "      <td>2</td>\n",
       "      <td>False</td>\n",
       "      <td>False</td>\n",
       "      <td>False</td>\n",
       "      <td>Parand</td>\n",
       "      <td>365000000</td>\n",
       "    </tr>\n",
       "    <tr>\n",
       "      <th>3477</th>\n",
       "      <td>105</td>\n",
       "      <td>2</td>\n",
       "      <td>True</td>\n",
       "      <td>True</td>\n",
       "      <td>True</td>\n",
       "      <td>Dorous</td>\n",
       "      <td>5600000000</td>\n",
       "    </tr>\n",
       "    <tr>\n",
       "      <th>3478</th>\n",
       "      <td>82</td>\n",
       "      <td>2</td>\n",
       "      <td>False</td>\n",
       "      <td>True</td>\n",
       "      <td>True</td>\n",
       "      <td>Parand</td>\n",
       "      <td>360000000</td>\n",
       "    </tr>\n",
       "  </tbody>\n",
       "</table>\n",
       "<p>3479 rows × 7 columns</p>\n",
       "</div>"
      ],
      "text/plain": [
       "     Area  Room  Parking  Warehouse  Elevator             Address       Price\n",
       "0      63     1     True       True      True             Shahran  1850000000\n",
       "1      60     1     True       True      True             Shahran  1850000000\n",
       "2      79     2     True       True      True              Pardis   550000000\n",
       "3      95     2     True       True      True       Shahrake Qods   902500000\n",
       "4     123     2     True       True      True      Shahrake Gharb  7000000000\n",
       "...   ...   ...      ...        ...       ...                 ...         ...\n",
       "3474   86     2     True       True      True  Southern Janatabad  3500000000\n",
       "3475   83     2     True       True      True            Niavaran  6800000000\n",
       "3476   75     2    False      False     False              Parand   365000000\n",
       "3477  105     2     True       True      True              Dorous  5600000000\n",
       "3478   82     2    False       True      True              Parand   360000000\n",
       "\n",
       "[3479 rows x 7 columns]"
      ]
     },
     "execution_count": 39,
     "metadata": {},
     "output_type": "execute_result"
    }
   ],
   "source": [
    "df"
   ]
  },
  {
   "cell_type": "code",
   "execution_count": 40,
   "metadata": {},
   "outputs": [
    {
     "data": {
      "text/html": [
       "<style type=\"text/css\">\n",
       "#T_fc1c6_row10_col1, #T_fc1c6_row16_col1 {\n",
       "  background-color: lightgreen;\n",
       "}\n",
       "</style>\n",
       "<table id=\"T_fc1c6\">\n",
       "  <thead>\n",
       "    <tr>\n",
       "      <th class=\"blank level0\" >&nbsp;</th>\n",
       "      <th id=\"T_fc1c6_level0_col0\" class=\"col_heading level0 col0\" >Description</th>\n",
       "      <th id=\"T_fc1c6_level0_col1\" class=\"col_heading level0 col1\" >Value</th>\n",
       "    </tr>\n",
       "  </thead>\n",
       "  <tbody>\n",
       "    <tr>\n",
       "      <th id=\"T_fc1c6_level0_row0\" class=\"row_heading level0 row0\" >0</th>\n",
       "      <td id=\"T_fc1c6_row0_col0\" class=\"data row0 col0\" >Session id</td>\n",
       "      <td id=\"T_fc1c6_row0_col1\" class=\"data row0 col1\" >85</td>\n",
       "    </tr>\n",
       "    <tr>\n",
       "      <th id=\"T_fc1c6_level0_row1\" class=\"row_heading level0 row1\" >1</th>\n",
       "      <td id=\"T_fc1c6_row1_col0\" class=\"data row1 col0\" >Target</td>\n",
       "      <td id=\"T_fc1c6_row1_col1\" class=\"data row1 col1\" >Price</td>\n",
       "    </tr>\n",
       "    <tr>\n",
       "      <th id=\"T_fc1c6_level0_row2\" class=\"row_heading level0 row2\" >2</th>\n",
       "      <td id=\"T_fc1c6_row2_col0\" class=\"data row2 col0\" >Target type</td>\n",
       "      <td id=\"T_fc1c6_row2_col1\" class=\"data row2 col1\" >Regression</td>\n",
       "    </tr>\n",
       "    <tr>\n",
       "      <th id=\"T_fc1c6_level0_row3\" class=\"row_heading level0 row3\" >3</th>\n",
       "      <td id=\"T_fc1c6_row3_col0\" class=\"data row3 col0\" >Original data shape</td>\n",
       "      <td id=\"T_fc1c6_row3_col1\" class=\"data row3 col1\" >(3479, 7)</td>\n",
       "    </tr>\n",
       "    <tr>\n",
       "      <th id=\"T_fc1c6_level0_row4\" class=\"row_heading level0 row4\" >4</th>\n",
       "      <td id=\"T_fc1c6_row4_col0\" class=\"data row4 col0\" >Transformed data shape</td>\n",
       "      <td id=\"T_fc1c6_row4_col1\" class=\"data row4 col1\" >(3357, 7)</td>\n",
       "    </tr>\n",
       "    <tr>\n",
       "      <th id=\"T_fc1c6_level0_row5\" class=\"row_heading level0 row5\" >5</th>\n",
       "      <td id=\"T_fc1c6_row5_col0\" class=\"data row5 col0\" >Transformed train set shape</td>\n",
       "      <td id=\"T_fc1c6_row5_col1\" class=\"data row5 col1\" >(2313, 7)</td>\n",
       "    </tr>\n",
       "    <tr>\n",
       "      <th id=\"T_fc1c6_level0_row6\" class=\"row_heading level0 row6\" >6</th>\n",
       "      <td id=\"T_fc1c6_row6_col0\" class=\"data row6 col0\" >Transformed test set shape</td>\n",
       "      <td id=\"T_fc1c6_row6_col1\" class=\"data row6 col1\" >(1044, 7)</td>\n",
       "    </tr>\n",
       "    <tr>\n",
       "      <th id=\"T_fc1c6_level0_row7\" class=\"row_heading level0 row7\" >7</th>\n",
       "      <td id=\"T_fc1c6_row7_col0\" class=\"data row7 col0\" >Numeric features</td>\n",
       "      <td id=\"T_fc1c6_row7_col1\" class=\"data row7 col1\" >1</td>\n",
       "    </tr>\n",
       "    <tr>\n",
       "      <th id=\"T_fc1c6_level0_row8\" class=\"row_heading level0 row8\" >8</th>\n",
       "      <td id=\"T_fc1c6_row8_col0\" class=\"data row8 col0\" >Categorical features</td>\n",
       "      <td id=\"T_fc1c6_row8_col1\" class=\"data row8 col1\" >2</td>\n",
       "    </tr>\n",
       "    <tr>\n",
       "      <th id=\"T_fc1c6_level0_row9\" class=\"row_heading level0 row9\" >9</th>\n",
       "      <td id=\"T_fc1c6_row9_col0\" class=\"data row9 col0\" >Rows with missing values</td>\n",
       "      <td id=\"T_fc1c6_row9_col1\" class=\"data row9 col1\" >0.7%</td>\n",
       "    </tr>\n",
       "    <tr>\n",
       "      <th id=\"T_fc1c6_level0_row10\" class=\"row_heading level0 row10\" >10</th>\n",
       "      <td id=\"T_fc1c6_row10_col0\" class=\"data row10 col0\" >Preprocess</td>\n",
       "      <td id=\"T_fc1c6_row10_col1\" class=\"data row10 col1\" >True</td>\n",
       "    </tr>\n",
       "    <tr>\n",
       "      <th id=\"T_fc1c6_level0_row11\" class=\"row_heading level0 row11\" >11</th>\n",
       "      <td id=\"T_fc1c6_row11_col0\" class=\"data row11 col0\" >Imputation type</td>\n",
       "      <td id=\"T_fc1c6_row11_col1\" class=\"data row11 col1\" >simple</td>\n",
       "    </tr>\n",
       "    <tr>\n",
       "      <th id=\"T_fc1c6_level0_row12\" class=\"row_heading level0 row12\" >12</th>\n",
       "      <td id=\"T_fc1c6_row12_col0\" class=\"data row12 col0\" >Numeric imputation</td>\n",
       "      <td id=\"T_fc1c6_row12_col1\" class=\"data row12 col1\" >mean</td>\n",
       "    </tr>\n",
       "    <tr>\n",
       "      <th id=\"T_fc1c6_level0_row13\" class=\"row_heading level0 row13\" >13</th>\n",
       "      <td id=\"T_fc1c6_row13_col0\" class=\"data row13 col0\" >Categorical imputation</td>\n",
       "      <td id=\"T_fc1c6_row13_col1\" class=\"data row13 col1\" >mode</td>\n",
       "    </tr>\n",
       "    <tr>\n",
       "      <th id=\"T_fc1c6_level0_row14\" class=\"row_heading level0 row14\" >14</th>\n",
       "      <td id=\"T_fc1c6_row14_col0\" class=\"data row14 col0\" >Maximum one-hot encoding</td>\n",
       "      <td id=\"T_fc1c6_row14_col1\" class=\"data row14 col1\" >25</td>\n",
       "    </tr>\n",
       "    <tr>\n",
       "      <th id=\"T_fc1c6_level0_row15\" class=\"row_heading level0 row15\" >15</th>\n",
       "      <td id=\"T_fc1c6_row15_col0\" class=\"data row15 col0\" >Encoding method</td>\n",
       "      <td id=\"T_fc1c6_row15_col1\" class=\"data row15 col1\" >None</td>\n",
       "    </tr>\n",
       "    <tr>\n",
       "      <th id=\"T_fc1c6_level0_row16\" class=\"row_heading level0 row16\" >16</th>\n",
       "      <td id=\"T_fc1c6_row16_col0\" class=\"data row16 col0\" >Remove outliers</td>\n",
       "      <td id=\"T_fc1c6_row16_col1\" class=\"data row16 col1\" >True</td>\n",
       "    </tr>\n",
       "    <tr>\n",
       "      <th id=\"T_fc1c6_level0_row17\" class=\"row_heading level0 row17\" >17</th>\n",
       "      <td id=\"T_fc1c6_row17_col0\" class=\"data row17 col0\" >Outliers threshold</td>\n",
       "      <td id=\"T_fc1c6_row17_col1\" class=\"data row17 col1\" >0.050000</td>\n",
       "    </tr>\n",
       "    <tr>\n",
       "      <th id=\"T_fc1c6_level0_row18\" class=\"row_heading level0 row18\" >18</th>\n",
       "      <td id=\"T_fc1c6_row18_col0\" class=\"data row18 col0\" >Fold Generator</td>\n",
       "      <td id=\"T_fc1c6_row18_col1\" class=\"data row18 col1\" >KFold</td>\n",
       "    </tr>\n",
       "    <tr>\n",
       "      <th id=\"T_fc1c6_level0_row19\" class=\"row_heading level0 row19\" >19</th>\n",
       "      <td id=\"T_fc1c6_row19_col0\" class=\"data row19 col0\" >Fold Number</td>\n",
       "      <td id=\"T_fc1c6_row19_col1\" class=\"data row19 col1\" >10</td>\n",
       "    </tr>\n",
       "    <tr>\n",
       "      <th id=\"T_fc1c6_level0_row20\" class=\"row_heading level0 row20\" >20</th>\n",
       "      <td id=\"T_fc1c6_row20_col0\" class=\"data row20 col0\" >CPU Jobs</td>\n",
       "      <td id=\"T_fc1c6_row20_col1\" class=\"data row20 col1\" >-1</td>\n",
       "    </tr>\n",
       "    <tr>\n",
       "      <th id=\"T_fc1c6_level0_row21\" class=\"row_heading level0 row21\" >21</th>\n",
       "      <td id=\"T_fc1c6_row21_col0\" class=\"data row21 col0\" >Use GPU</td>\n",
       "      <td id=\"T_fc1c6_row21_col1\" class=\"data row21 col1\" >False</td>\n",
       "    </tr>\n",
       "    <tr>\n",
       "      <th id=\"T_fc1c6_level0_row22\" class=\"row_heading level0 row22\" >22</th>\n",
       "      <td id=\"T_fc1c6_row22_col0\" class=\"data row22 col0\" >Log Experiment</td>\n",
       "      <td id=\"T_fc1c6_row22_col1\" class=\"data row22 col1\" >False</td>\n",
       "    </tr>\n",
       "    <tr>\n",
       "      <th id=\"T_fc1c6_level0_row23\" class=\"row_heading level0 row23\" >23</th>\n",
       "      <td id=\"T_fc1c6_row23_col0\" class=\"data row23 col0\" >Experiment Name</td>\n",
       "      <td id=\"T_fc1c6_row23_col1\" class=\"data row23 col1\" >reg-default-name</td>\n",
       "    </tr>\n",
       "    <tr>\n",
       "      <th id=\"T_fc1c6_level0_row24\" class=\"row_heading level0 row24\" >24</th>\n",
       "      <td id=\"T_fc1c6_row24_col0\" class=\"data row24 col0\" >USI</td>\n",
       "      <td id=\"T_fc1c6_row24_col1\" class=\"data row24 col1\" >8bb0</td>\n",
       "    </tr>\n",
       "  </tbody>\n",
       "</table>\n"
      ],
      "text/plain": [
       "<pandas.io.formats.style.Styler at 0x297af3c7940>"
      ]
     },
     "metadata": {},
     "output_type": "display_data"
    },
    {
     "data": {
      "text/plain": [
       "<pycaret.regression.oop.RegressionExperiment at 0x29796647760>"
      ]
     },
     "execution_count": 40,
     "metadata": {},
     "output_type": "execute_result"
    }
   ],
   "source": [
    "setup(df,target='Price',session_id=85,remove_outliers=True)"
   ]
  },
  {
   "cell_type": "code",
   "execution_count": 41,
   "metadata": {},
   "outputs": [
    {
     "data": {
      "text/html": [
       "<div>\n",
       "<style scoped>\n",
       "    .dataframe tbody tr th:only-of-type {\n",
       "        vertical-align: middle;\n",
       "    }\n",
       "\n",
       "    .dataframe tbody tr th {\n",
       "        vertical-align: top;\n",
       "    }\n",
       "\n",
       "    .dataframe thead th {\n",
       "        text-align: right;\n",
       "    }\n",
       "</style>\n",
       "<table border=\"1\" class=\"dataframe\">\n",
       "  <thead>\n",
       "    <tr style=\"text-align: right;\">\n",
       "      <th></th>\n",
       "      <th>Name</th>\n",
       "      <th>Reference</th>\n",
       "      <th>Turbo</th>\n",
       "    </tr>\n",
       "    <tr>\n",
       "      <th>ID</th>\n",
       "      <th></th>\n",
       "      <th></th>\n",
       "      <th></th>\n",
       "    </tr>\n",
       "  </thead>\n",
       "  <tbody>\n",
       "    <tr>\n",
       "      <th>lr</th>\n",
       "      <td>Linear Regression</td>\n",
       "      <td>sklearn.linear_model._base.LinearRegression</td>\n",
       "      <td>True</td>\n",
       "    </tr>\n",
       "    <tr>\n",
       "      <th>lasso</th>\n",
       "      <td>Lasso Regression</td>\n",
       "      <td>sklearn.linear_model._coordinate_descent.Lasso</td>\n",
       "      <td>True</td>\n",
       "    </tr>\n",
       "    <tr>\n",
       "      <th>ridge</th>\n",
       "      <td>Ridge Regression</td>\n",
       "      <td>sklearn.linear_model._ridge.Ridge</td>\n",
       "      <td>True</td>\n",
       "    </tr>\n",
       "    <tr>\n",
       "      <th>en</th>\n",
       "      <td>Elastic Net</td>\n",
       "      <td>sklearn.linear_model._coordinate_descent.Elast...</td>\n",
       "      <td>True</td>\n",
       "    </tr>\n",
       "    <tr>\n",
       "      <th>lar</th>\n",
       "      <td>Least Angle Regression</td>\n",
       "      <td>sklearn.linear_model._least_angle.Lars</td>\n",
       "      <td>True</td>\n",
       "    </tr>\n",
       "    <tr>\n",
       "      <th>llar</th>\n",
       "      <td>Lasso Least Angle Regression</td>\n",
       "      <td>sklearn.linear_model._least_angle.LassoLars</td>\n",
       "      <td>True</td>\n",
       "    </tr>\n",
       "    <tr>\n",
       "      <th>omp</th>\n",
       "      <td>Orthogonal Matching Pursuit</td>\n",
       "      <td>sklearn.linear_model._omp.OrthogonalMatchingPu...</td>\n",
       "      <td>True</td>\n",
       "    </tr>\n",
       "    <tr>\n",
       "      <th>br</th>\n",
       "      <td>Bayesian Ridge</td>\n",
       "      <td>sklearn.linear_model._bayes.BayesianRidge</td>\n",
       "      <td>True</td>\n",
       "    </tr>\n",
       "    <tr>\n",
       "      <th>ard</th>\n",
       "      <td>Automatic Relevance Determination</td>\n",
       "      <td>sklearn.linear_model._bayes.ARDRegression</td>\n",
       "      <td>False</td>\n",
       "    </tr>\n",
       "    <tr>\n",
       "      <th>par</th>\n",
       "      <td>Passive Aggressive Regressor</td>\n",
       "      <td>sklearn.linear_model._passive_aggressive.Passi...</td>\n",
       "      <td>True</td>\n",
       "    </tr>\n",
       "    <tr>\n",
       "      <th>ransac</th>\n",
       "      <td>Random Sample Consensus</td>\n",
       "      <td>sklearn.linear_model._ransac.RANSACRegressor</td>\n",
       "      <td>False</td>\n",
       "    </tr>\n",
       "    <tr>\n",
       "      <th>tr</th>\n",
       "      <td>TheilSen Regressor</td>\n",
       "      <td>sklearn.linear_model._theil_sen.TheilSenRegressor</td>\n",
       "      <td>False</td>\n",
       "    </tr>\n",
       "    <tr>\n",
       "      <th>huber</th>\n",
       "      <td>Huber Regressor</td>\n",
       "      <td>sklearn.linear_model._huber.HuberRegressor</td>\n",
       "      <td>True</td>\n",
       "    </tr>\n",
       "    <tr>\n",
       "      <th>kr</th>\n",
       "      <td>Kernel Ridge</td>\n",
       "      <td>sklearn.kernel_ridge.KernelRidge</td>\n",
       "      <td>False</td>\n",
       "    </tr>\n",
       "    <tr>\n",
       "      <th>svm</th>\n",
       "      <td>Support Vector Regression</td>\n",
       "      <td>sklearn.svm._classes.SVR</td>\n",
       "      <td>False</td>\n",
       "    </tr>\n",
       "    <tr>\n",
       "      <th>knn</th>\n",
       "      <td>K Neighbors Regressor</td>\n",
       "      <td>sklearn.neighbors._regression.KNeighborsRegressor</td>\n",
       "      <td>True</td>\n",
       "    </tr>\n",
       "    <tr>\n",
       "      <th>dt</th>\n",
       "      <td>Decision Tree Regressor</td>\n",
       "      <td>sklearn.tree._classes.DecisionTreeRegressor</td>\n",
       "      <td>True</td>\n",
       "    </tr>\n",
       "    <tr>\n",
       "      <th>rf</th>\n",
       "      <td>Random Forest Regressor</td>\n",
       "      <td>sklearn.ensemble._forest.RandomForestRegressor</td>\n",
       "      <td>True</td>\n",
       "    </tr>\n",
       "    <tr>\n",
       "      <th>et</th>\n",
       "      <td>Extra Trees Regressor</td>\n",
       "      <td>sklearn.ensemble._forest.ExtraTreesRegressor</td>\n",
       "      <td>True</td>\n",
       "    </tr>\n",
       "    <tr>\n",
       "      <th>ada</th>\n",
       "      <td>AdaBoost Regressor</td>\n",
       "      <td>sklearn.ensemble._weight_boosting.AdaBoostRegr...</td>\n",
       "      <td>True</td>\n",
       "    </tr>\n",
       "    <tr>\n",
       "      <th>gbr</th>\n",
       "      <td>Gradient Boosting Regressor</td>\n",
       "      <td>sklearn.ensemble._gb.GradientBoostingRegressor</td>\n",
       "      <td>True</td>\n",
       "    </tr>\n",
       "    <tr>\n",
       "      <th>mlp</th>\n",
       "      <td>MLP Regressor</td>\n",
       "      <td>sklearn.neural_network._multilayer_perceptron....</td>\n",
       "      <td>False</td>\n",
       "    </tr>\n",
       "    <tr>\n",
       "      <th>xgboost</th>\n",
       "      <td>Extreme Gradient Boosting</td>\n",
       "      <td>xgboost.sklearn.XGBRegressor</td>\n",
       "      <td>True</td>\n",
       "    </tr>\n",
       "    <tr>\n",
       "      <th>lightgbm</th>\n",
       "      <td>Light Gradient Boosting Machine</td>\n",
       "      <td>lightgbm.sklearn.LGBMRegressor</td>\n",
       "      <td>True</td>\n",
       "    </tr>\n",
       "    <tr>\n",
       "      <th>catboost</th>\n",
       "      <td>CatBoost Regressor</td>\n",
       "      <td>catboost.core.CatBoostRegressor</td>\n",
       "      <td>True</td>\n",
       "    </tr>\n",
       "    <tr>\n",
       "      <th>dummy</th>\n",
       "      <td>Dummy Regressor</td>\n",
       "      <td>sklearn.dummy.DummyRegressor</td>\n",
       "      <td>True</td>\n",
       "    </tr>\n",
       "  </tbody>\n",
       "</table>\n",
       "</div>"
      ],
      "text/plain": [
       "                                       Name  \\\n",
       "ID                                            \n",
       "lr                        Linear Regression   \n",
       "lasso                      Lasso Regression   \n",
       "ridge                      Ridge Regression   \n",
       "en                              Elastic Net   \n",
       "lar                  Least Angle Regression   \n",
       "llar           Lasso Least Angle Regression   \n",
       "omp             Orthogonal Matching Pursuit   \n",
       "br                           Bayesian Ridge   \n",
       "ard       Automatic Relevance Determination   \n",
       "par            Passive Aggressive Regressor   \n",
       "ransac              Random Sample Consensus   \n",
       "tr                       TheilSen Regressor   \n",
       "huber                       Huber Regressor   \n",
       "kr                             Kernel Ridge   \n",
       "svm               Support Vector Regression   \n",
       "knn                   K Neighbors Regressor   \n",
       "dt                  Decision Tree Regressor   \n",
       "rf                  Random Forest Regressor   \n",
       "et                    Extra Trees Regressor   \n",
       "ada                      AdaBoost Regressor   \n",
       "gbr             Gradient Boosting Regressor   \n",
       "mlp                           MLP Regressor   \n",
       "xgboost           Extreme Gradient Boosting   \n",
       "lightgbm    Light Gradient Boosting Machine   \n",
       "catboost                 CatBoost Regressor   \n",
       "dummy                       Dummy Regressor   \n",
       "\n",
       "                                                  Reference  Turbo  \n",
       "ID                                                                  \n",
       "lr              sklearn.linear_model._base.LinearRegression   True  \n",
       "lasso        sklearn.linear_model._coordinate_descent.Lasso   True  \n",
       "ridge                     sklearn.linear_model._ridge.Ridge   True  \n",
       "en        sklearn.linear_model._coordinate_descent.Elast...   True  \n",
       "lar                  sklearn.linear_model._least_angle.Lars   True  \n",
       "llar            sklearn.linear_model._least_angle.LassoLars   True  \n",
       "omp       sklearn.linear_model._omp.OrthogonalMatchingPu...   True  \n",
       "br                sklearn.linear_model._bayes.BayesianRidge   True  \n",
       "ard               sklearn.linear_model._bayes.ARDRegression  False  \n",
       "par       sklearn.linear_model._passive_aggressive.Passi...   True  \n",
       "ransac         sklearn.linear_model._ransac.RANSACRegressor  False  \n",
       "tr        sklearn.linear_model._theil_sen.TheilSenRegressor  False  \n",
       "huber            sklearn.linear_model._huber.HuberRegressor   True  \n",
       "kr                         sklearn.kernel_ridge.KernelRidge  False  \n",
       "svm                                sklearn.svm._classes.SVR  False  \n",
       "knn       sklearn.neighbors._regression.KNeighborsRegressor   True  \n",
       "dt              sklearn.tree._classes.DecisionTreeRegressor   True  \n",
       "rf           sklearn.ensemble._forest.RandomForestRegressor   True  \n",
       "et             sklearn.ensemble._forest.ExtraTreesRegressor   True  \n",
       "ada       sklearn.ensemble._weight_boosting.AdaBoostRegr...   True  \n",
       "gbr          sklearn.ensemble._gb.GradientBoostingRegressor   True  \n",
       "mlp       sklearn.neural_network._multilayer_perceptron....  False  \n",
       "xgboost                        xgboost.sklearn.XGBRegressor   True  \n",
       "lightgbm                     lightgbm.sklearn.LGBMRegressor   True  \n",
       "catboost                    catboost.core.CatBoostRegressor   True  \n",
       "dummy                          sklearn.dummy.DummyRegressor   True  "
      ]
     },
     "execution_count": 41,
     "metadata": {},
     "output_type": "execute_result"
    }
   ],
   "source": [
    "models()"
   ]
  },
  {
   "cell_type": "code",
   "execution_count": 42,
   "metadata": {},
   "outputs": [
    {
     "data": {
      "text/html": [],
      "text/plain": [
       "<IPython.core.display.HTML object>"
      ]
     },
     "metadata": {},
     "output_type": "display_data"
    },
    {
     "data": {
      "text/html": [
       "<style type=\"text/css\">\n",
       "#T_d2b5c th {\n",
       "  text-align: left;\n",
       "}\n",
       "#T_d2b5c_row0_col0, #T_d2b5c_row0_col1, #T_d2b5c_row0_col5, #T_d2b5c_row0_col6, #T_d2b5c_row1_col0, #T_d2b5c_row1_col1, #T_d2b5c_row1_col2, #T_d2b5c_row1_col3, #T_d2b5c_row1_col4, #T_d2b5c_row1_col5, #T_d2b5c_row1_col6, #T_d2b5c_row2_col0, #T_d2b5c_row2_col1, #T_d2b5c_row2_col2, #T_d2b5c_row2_col3, #T_d2b5c_row2_col4, #T_d2b5c_row2_col6, #T_d2b5c_row3_col0, #T_d2b5c_row3_col1, #T_d2b5c_row3_col2, #T_d2b5c_row3_col3, #T_d2b5c_row3_col4, #T_d2b5c_row3_col5, #T_d2b5c_row3_col6, #T_d2b5c_row4_col0, #T_d2b5c_row4_col2, #T_d2b5c_row4_col3, #T_d2b5c_row4_col4, #T_d2b5c_row4_col5, #T_d2b5c_row4_col6, #T_d2b5c_row5_col0, #T_d2b5c_row5_col1, #T_d2b5c_row5_col2, #T_d2b5c_row5_col3, #T_d2b5c_row5_col4, #T_d2b5c_row5_col5, #T_d2b5c_row6_col0, #T_d2b5c_row6_col1, #T_d2b5c_row6_col2, #T_d2b5c_row6_col3, #T_d2b5c_row6_col4, #T_d2b5c_row6_col5, #T_d2b5c_row6_col6, #T_d2b5c_row7_col0, #T_d2b5c_row7_col1, #T_d2b5c_row7_col2, #T_d2b5c_row7_col3, #T_d2b5c_row7_col4, #T_d2b5c_row7_col5, #T_d2b5c_row7_col6, #T_d2b5c_row8_col0, #T_d2b5c_row8_col1, #T_d2b5c_row8_col2, #T_d2b5c_row8_col3, #T_d2b5c_row8_col4, #T_d2b5c_row8_col5, #T_d2b5c_row8_col6, #T_d2b5c_row9_col0, #T_d2b5c_row9_col1, #T_d2b5c_row9_col2, #T_d2b5c_row9_col3, #T_d2b5c_row9_col4, #T_d2b5c_row9_col5, #T_d2b5c_row9_col6, #T_d2b5c_row10_col0, #T_d2b5c_row10_col1, #T_d2b5c_row10_col2, #T_d2b5c_row10_col3, #T_d2b5c_row10_col4, #T_d2b5c_row10_col5, #T_d2b5c_row10_col6, #T_d2b5c_row11_col0, #T_d2b5c_row11_col1, #T_d2b5c_row11_col2, #T_d2b5c_row11_col3, #T_d2b5c_row11_col4, #T_d2b5c_row11_col5, #T_d2b5c_row11_col6, #T_d2b5c_row12_col0, #T_d2b5c_row12_col1, #T_d2b5c_row12_col2, #T_d2b5c_row12_col3, #T_d2b5c_row12_col4, #T_d2b5c_row12_col5, #T_d2b5c_row12_col6, #T_d2b5c_row13_col0, #T_d2b5c_row13_col1, #T_d2b5c_row13_col2, #T_d2b5c_row13_col3, #T_d2b5c_row13_col4, #T_d2b5c_row13_col5, #T_d2b5c_row13_col6, #T_d2b5c_row14_col0, #T_d2b5c_row14_col1, #T_d2b5c_row14_col2, #T_d2b5c_row14_col3, #T_d2b5c_row14_col4, #T_d2b5c_row14_col5, #T_d2b5c_row14_col6, #T_d2b5c_row15_col0, #T_d2b5c_row15_col1, #T_d2b5c_row15_col2, #T_d2b5c_row15_col3, #T_d2b5c_row15_col4, #T_d2b5c_row15_col5, #T_d2b5c_row15_col6, #T_d2b5c_row16_col0, #T_d2b5c_row16_col1, #T_d2b5c_row16_col2, #T_d2b5c_row16_col3, #T_d2b5c_row16_col4, #T_d2b5c_row16_col5, #T_d2b5c_row16_col6, #T_d2b5c_row17_col0, #T_d2b5c_row17_col1, #T_d2b5c_row17_col2, #T_d2b5c_row17_col3, #T_d2b5c_row17_col4, #T_d2b5c_row17_col5, #T_d2b5c_row17_col6, #T_d2b5c_row18_col0, #T_d2b5c_row18_col1, #T_d2b5c_row18_col2, #T_d2b5c_row18_col3, #T_d2b5c_row18_col4, #T_d2b5c_row18_col5, #T_d2b5c_row18_col6, #T_d2b5c_row19_col0, #T_d2b5c_row19_col1, #T_d2b5c_row19_col2, #T_d2b5c_row19_col3, #T_d2b5c_row19_col4, #T_d2b5c_row19_col5, #T_d2b5c_row19_col6 {\n",
       "  text-align: left;\n",
       "}\n",
       "#T_d2b5c_row0_col2, #T_d2b5c_row0_col3, #T_d2b5c_row0_col4, #T_d2b5c_row2_col5, #T_d2b5c_row4_col1, #T_d2b5c_row5_col6 {\n",
       "  text-align: left;\n",
       "  background-color: yellow;\n",
       "}\n",
       "#T_d2b5c_row0_col7, #T_d2b5c_row1_col7, #T_d2b5c_row2_col7, #T_d2b5c_row3_col7, #T_d2b5c_row4_col7, #T_d2b5c_row5_col7, #T_d2b5c_row6_col7, #T_d2b5c_row8_col7, #T_d2b5c_row9_col7, #T_d2b5c_row10_col7, #T_d2b5c_row11_col7, #T_d2b5c_row12_col7, #T_d2b5c_row13_col7, #T_d2b5c_row14_col7, #T_d2b5c_row15_col7, #T_d2b5c_row16_col7, #T_d2b5c_row17_col7, #T_d2b5c_row18_col7, #T_d2b5c_row19_col7 {\n",
       "  text-align: left;\n",
       "  background-color: lightgrey;\n",
       "}\n",
       "#T_d2b5c_row7_col7 {\n",
       "  text-align: left;\n",
       "  background-color: yellow;\n",
       "  background-color: lightgrey;\n",
       "}\n",
       "</style>\n",
       "<table id=\"T_d2b5c\">\n",
       "  <thead>\n",
       "    <tr>\n",
       "      <th class=\"blank level0\" >&nbsp;</th>\n",
       "      <th id=\"T_d2b5c_level0_col0\" class=\"col_heading level0 col0\" >Model</th>\n",
       "      <th id=\"T_d2b5c_level0_col1\" class=\"col_heading level0 col1\" >MAE</th>\n",
       "      <th id=\"T_d2b5c_level0_col2\" class=\"col_heading level0 col2\" >MSE</th>\n",
       "      <th id=\"T_d2b5c_level0_col3\" class=\"col_heading level0 col3\" >RMSE</th>\n",
       "      <th id=\"T_d2b5c_level0_col4\" class=\"col_heading level0 col4\" >R2</th>\n",
       "      <th id=\"T_d2b5c_level0_col5\" class=\"col_heading level0 col5\" >RMSLE</th>\n",
       "      <th id=\"T_d2b5c_level0_col6\" class=\"col_heading level0 col6\" >MAPE</th>\n",
       "      <th id=\"T_d2b5c_level0_col7\" class=\"col_heading level0 col7\" >TT (Sec)</th>\n",
       "    </tr>\n",
       "  </thead>\n",
       "  <tbody>\n",
       "    <tr>\n",
       "      <th id=\"T_d2b5c_level0_row0\" class=\"row_heading level0 row0\" >catboost</th>\n",
       "      <td id=\"T_d2b5c_row0_col0\" class=\"data row0 col0\" >CatBoost Regressor</td>\n",
       "      <td id=\"T_d2b5c_row0_col1\" class=\"data row0 col1\" >1787068173.7997</td>\n",
       "      <td id=\"T_d2b5c_row0_col2\" class=\"data row0 col2\" >32607070799563259904.0000</td>\n",
       "      <td id=\"T_d2b5c_row0_col3\" class=\"data row0 col3\" >5370151246.9630</td>\n",
       "      <td id=\"T_d2b5c_row0_col4\" class=\"data row0 col4\" >0.5414</td>\n",
       "      <td id=\"T_d2b5c_row0_col5\" class=\"data row0 col5\" >0.5069</td>\n",
       "      <td id=\"T_d2b5c_row0_col6\" class=\"data row0 col6\" >0.4474</td>\n",
       "      <td id=\"T_d2b5c_row0_col7\" class=\"data row0 col7\" >0.8770</td>\n",
       "    </tr>\n",
       "    <tr>\n",
       "      <th id=\"T_d2b5c_level0_row1\" class=\"row_heading level0 row1\" >et</th>\n",
       "      <td id=\"T_d2b5c_row1_col0\" class=\"data row1 col0\" >Extra Trees Regressor</td>\n",
       "      <td id=\"T_d2b5c_row1_col1\" class=\"data row1 col1\" >1817845651.8962</td>\n",
       "      <td id=\"T_d2b5c_row1_col2\" class=\"data row1 col2\" >33520492428413251584.0000</td>\n",
       "      <td id=\"T_d2b5c_row1_col3\" class=\"data row1 col3\" >5407713658.5829</td>\n",
       "      <td id=\"T_d2b5c_row1_col4\" class=\"data row1 col4\" >0.5387</td>\n",
       "      <td id=\"T_d2b5c_row1_col5\" class=\"data row1 col5\" >0.5174</td>\n",
       "      <td id=\"T_d2b5c_row1_col6\" class=\"data row1 col6\" >0.4342</td>\n",
       "      <td id=\"T_d2b5c_row1_col7\" class=\"data row1 col7\" >0.2890</td>\n",
       "    </tr>\n",
       "    <tr>\n",
       "      <th id=\"T_d2b5c_level0_row2\" class=\"row_heading level0 row2\" >lightgbm</th>\n",
       "      <td id=\"T_d2b5c_row2_col0\" class=\"data row2 col0\" >Light Gradient Boosting Machine</td>\n",
       "      <td id=\"T_d2b5c_row2_col1\" class=\"data row2 col1\" >1850921321.3913</td>\n",
       "      <td id=\"T_d2b5c_row2_col2\" class=\"data row2 col2\" >33901565924708720640.0000</td>\n",
       "      <td id=\"T_d2b5c_row2_col3\" class=\"data row2 col3\" >5473993494.4639</td>\n",
       "      <td id=\"T_d2b5c_row2_col4\" class=\"data row2 col4\" >0.5246</td>\n",
       "      <td id=\"T_d2b5c_row2_col5\" class=\"data row2 col5\" >0.4909</td>\n",
       "      <td id=\"T_d2b5c_row2_col6\" class=\"data row2 col6\" >0.4263</td>\n",
       "      <td id=\"T_d2b5c_row2_col7\" class=\"data row2 col7\" >0.2340</td>\n",
       "    </tr>\n",
       "    <tr>\n",
       "      <th id=\"T_d2b5c_level0_row3\" class=\"row_heading level0 row3\" >gbr</th>\n",
       "      <td id=\"T_d2b5c_row3_col0\" class=\"data row3 col0\" >Gradient Boosting Regressor</td>\n",
       "      <td id=\"T_d2b5c_row3_col1\" class=\"data row3 col1\" >1869615141.1658</td>\n",
       "      <td id=\"T_d2b5c_row3_col2\" class=\"data row3 col2\" >32771862574859378688.0000</td>\n",
       "      <td id=\"T_d2b5c_row3_col3\" class=\"data row3 col3\" >5452077188.9199</td>\n",
       "      <td id=\"T_d2b5c_row3_col4\" class=\"data row3 col4\" >0.5211</td>\n",
       "      <td id=\"T_d2b5c_row3_col5\" class=\"data row3 col5\" >0.5212</td>\n",
       "      <td id=\"T_d2b5c_row3_col6\" class=\"data row3 col6\" >0.4816</td>\n",
       "      <td id=\"T_d2b5c_row3_col7\" class=\"data row3 col7\" >0.1870</td>\n",
       "    </tr>\n",
       "    <tr>\n",
       "      <th id=\"T_d2b5c_level0_row4\" class=\"row_heading level0 row4\" >xgboost</th>\n",
       "      <td id=\"T_d2b5c_row4_col0\" class=\"data row4 col0\" >Extreme Gradient Boosting</td>\n",
       "      <td id=\"T_d2b5c_row4_col1\" class=\"data row4 col1\" >1786040719.9583</td>\n",
       "      <td id=\"T_d2b5c_row4_col2\" class=\"data row4 col2\" >33936436112262541312.0000</td>\n",
       "      <td id=\"T_d2b5c_row4_col3\" class=\"data row4 col3\" >5497412986.6424</td>\n",
       "      <td id=\"T_d2b5c_row4_col4\" class=\"data row4 col4\" >0.5201</td>\n",
       "      <td id=\"T_d2b5c_row4_col5\" class=\"data row4 col5\" >0.5249</td>\n",
       "      <td id=\"T_d2b5c_row4_col6\" class=\"data row4 col6\" >0.4220</td>\n",
       "      <td id=\"T_d2b5c_row4_col7\" class=\"data row4 col7\" >0.1600</td>\n",
       "    </tr>\n",
       "    <tr>\n",
       "      <th id=\"T_d2b5c_level0_row5\" class=\"row_heading level0 row5\" >rf</th>\n",
       "      <td id=\"T_d2b5c_row5_col0\" class=\"data row5 col0\" >Random Forest Regressor</td>\n",
       "      <td id=\"T_d2b5c_row5_col1\" class=\"data row5 col1\" >1834918436.3653</td>\n",
       "      <td id=\"T_d2b5c_row5_col2\" class=\"data row5 col2\" >35106093936664793088.0000</td>\n",
       "      <td id=\"T_d2b5c_row5_col3\" class=\"data row5 col3\" >5550384845.2397</td>\n",
       "      <td id=\"T_d2b5c_row5_col4\" class=\"data row5 col4\" >0.5137</td>\n",
       "      <td id=\"T_d2b5c_row5_col5\" class=\"data row5 col5\" >0.5014</td>\n",
       "      <td id=\"T_d2b5c_row5_col6\" class=\"data row5 col6\" >0.4146</td>\n",
       "      <td id=\"T_d2b5c_row5_col7\" class=\"data row5 col7\" >0.3010</td>\n",
       "    </tr>\n",
       "    <tr>\n",
       "      <th id=\"T_d2b5c_level0_row6\" class=\"row_heading level0 row6\" >knn</th>\n",
       "      <td id=\"T_d2b5c_row6_col0\" class=\"data row6 col0\" >K Neighbors Regressor</td>\n",
       "      <td id=\"T_d2b5c_row6_col1\" class=\"data row6 col1\" >2037573046.1581</td>\n",
       "      <td id=\"T_d2b5c_row6_col2\" class=\"data row6 col2\" >37179143718031081472.0000</td>\n",
       "      <td id=\"T_d2b5c_row6_col3\" class=\"data row6 col3\" >5747517834.8901</td>\n",
       "      <td id=\"T_d2b5c_row6_col4\" class=\"data row6 col4\" >0.4781</td>\n",
       "      <td id=\"T_d2b5c_row6_col5\" class=\"data row6 col5\" >0.5656</td>\n",
       "      <td id=\"T_d2b5c_row6_col6\" class=\"data row6 col6\" >0.5161</td>\n",
       "      <td id=\"T_d2b5c_row6_col7\" class=\"data row6 col7\" >0.1610</td>\n",
       "    </tr>\n",
       "    <tr>\n",
       "      <th id=\"T_d2b5c_level0_row7\" class=\"row_heading level0 row7\" >lasso</th>\n",
       "      <td id=\"T_d2b5c_row7_col0\" class=\"data row7 col0\" >Lasso Regression</td>\n",
       "      <td id=\"T_d2b5c_row7_col1\" class=\"data row7 col1\" >2601293634.5707</td>\n",
       "      <td id=\"T_d2b5c_row7_col2\" class=\"data row7 col2\" >36766956168881344512.0000</td>\n",
       "      <td id=\"T_d2b5c_row7_col3\" class=\"data row7 col3\" >5814135285.5933</td>\n",
       "      <td id=\"T_d2b5c_row7_col4\" class=\"data row7 col4\" >0.4616</td>\n",
       "      <td id=\"T_d2b5c_row7_col5\" class=\"data row7 col5\" >0.9709</td>\n",
       "      <td id=\"T_d2b5c_row7_col6\" class=\"data row7 col6\" >1.0037</td>\n",
       "      <td id=\"T_d2b5c_row7_col7\" class=\"data row7 col7\" >0.1200</td>\n",
       "    </tr>\n",
       "    <tr>\n",
       "      <th id=\"T_d2b5c_level0_row8\" class=\"row_heading level0 row8\" >lr</th>\n",
       "      <td id=\"T_d2b5c_row8_col0\" class=\"data row8 col0\" >Linear Regression</td>\n",
       "      <td id=\"T_d2b5c_row8_col1\" class=\"data row8 col1\" >2601293636.7989</td>\n",
       "      <td id=\"T_d2b5c_row8_col2\" class=\"data row8 col2\" >36766956358024577024.0000</td>\n",
       "      <td id=\"T_d2b5c_row8_col3\" class=\"data row8 col3\" >5814135307.9479</td>\n",
       "      <td id=\"T_d2b5c_row8_col4\" class=\"data row8 col4\" >0.4616</td>\n",
       "      <td id=\"T_d2b5c_row8_col5\" class=\"data row8 col5\" >0.9709</td>\n",
       "      <td id=\"T_d2b5c_row8_col6\" class=\"data row8 col6\" >1.0037</td>\n",
       "      <td id=\"T_d2b5c_row8_col7\" class=\"data row8 col7\" >0.4410</td>\n",
       "    </tr>\n",
       "    <tr>\n",
       "      <th id=\"T_d2b5c_level0_row9\" class=\"row_heading level0 row9\" >llar</th>\n",
       "      <td id=\"T_d2b5c_row9_col0\" class=\"data row9 col0\" >Lasso Least Angle Regression</td>\n",
       "      <td id=\"T_d2b5c_row9_col1\" class=\"data row9 col1\" >2601293634.5707</td>\n",
       "      <td id=\"T_d2b5c_row9_col2\" class=\"data row9 col2\" >36766956168881344512.0000</td>\n",
       "      <td id=\"T_d2b5c_row9_col3\" class=\"data row9 col3\" >5814135285.5933</td>\n",
       "      <td id=\"T_d2b5c_row9_col4\" class=\"data row9 col4\" >0.4616</td>\n",
       "      <td id=\"T_d2b5c_row9_col5\" class=\"data row9 col5\" >0.9709</td>\n",
       "      <td id=\"T_d2b5c_row9_col6\" class=\"data row9 col6\" >1.0037</td>\n",
       "      <td id=\"T_d2b5c_row9_col7\" class=\"data row9 col7\" >0.1210</td>\n",
       "    </tr>\n",
       "    <tr>\n",
       "      <th id=\"T_d2b5c_level0_row10\" class=\"row_heading level0 row10\" >lar</th>\n",
       "      <td id=\"T_d2b5c_row10_col0\" class=\"data row10 col0\" >Least Angle Regression</td>\n",
       "      <td id=\"T_d2b5c_row10_col1\" class=\"data row10 col1\" >2601293634.3637</td>\n",
       "      <td id=\"T_d2b5c_row10_col2\" class=\"data row10 col2\" >36766956164225085440.0000</td>\n",
       "      <td id=\"T_d2b5c_row10_col3\" class=\"data row10 col3\" >5814135285.2164</td>\n",
       "      <td id=\"T_d2b5c_row10_col4\" class=\"data row10 col4\" >0.4616</td>\n",
       "      <td id=\"T_d2b5c_row10_col5\" class=\"data row10 col5\" >0.9709</td>\n",
       "      <td id=\"T_d2b5c_row10_col6\" class=\"data row10 col6\" >1.0037</td>\n",
       "      <td id=\"T_d2b5c_row10_col7\" class=\"data row10 col7\" >0.1240</td>\n",
       "    </tr>\n",
       "    <tr>\n",
       "      <th id=\"T_d2b5c_level0_row11\" class=\"row_heading level0 row11\" >ridge</th>\n",
       "      <td id=\"T_d2b5c_row11_col0\" class=\"data row11 col0\" >Ridge Regression</td>\n",
       "      <td id=\"T_d2b5c_row11_col1\" class=\"data row11 col1\" >2601407945.8902</td>\n",
       "      <td id=\"T_d2b5c_row11_col2\" class=\"data row11 col2\" >36770395507393781760.0000</td>\n",
       "      <td id=\"T_d2b5c_row11_col3\" class=\"data row11 col3\" >5814406598.7613</td>\n",
       "      <td id=\"T_d2b5c_row11_col4\" class=\"data row11 col4\" >0.4615</td>\n",
       "      <td id=\"T_d2b5c_row11_col5\" class=\"data row11 col5\" >0.9685</td>\n",
       "      <td id=\"T_d2b5c_row11_col6\" class=\"data row11 col6\" >1.0038</td>\n",
       "      <td id=\"T_d2b5c_row11_col7\" class=\"data row11 col7\" >0.1300</td>\n",
       "    </tr>\n",
       "    <tr>\n",
       "      <th id=\"T_d2b5c_level0_row12\" class=\"row_heading level0 row12\" >dt</th>\n",
       "      <td id=\"T_d2b5c_row12_col0\" class=\"data row12 col0\" >Decision Tree Regressor</td>\n",
       "      <td id=\"T_d2b5c_row12_col1\" class=\"data row12 col1\" >2028999122.3910</td>\n",
       "      <td id=\"T_d2b5c_row12_col2\" class=\"data row12 col2\" >38201674295396753408.0000</td>\n",
       "      <td id=\"T_d2b5c_row12_col3\" class=\"data row12 col3\" >5866287435.4959</td>\n",
       "      <td id=\"T_d2b5c_row12_col4\" class=\"data row12 col4\" >0.4558</td>\n",
       "      <td id=\"T_d2b5c_row12_col5\" class=\"data row12 col5\" >0.5901</td>\n",
       "      <td id=\"T_d2b5c_row12_col6\" class=\"data row12 col6\" >0.4614</td>\n",
       "      <td id=\"T_d2b5c_row12_col7\" class=\"data row12 col7\" >0.1540</td>\n",
       "    </tr>\n",
       "    <tr>\n",
       "      <th id=\"T_d2b5c_level0_row13\" class=\"row_heading level0 row13\" >en</th>\n",
       "      <td id=\"T_d2b5c_row13_col0\" class=\"data row13 col0\" >Elastic Net</td>\n",
       "      <td id=\"T_d2b5c_row13_col1\" class=\"data row13 col1\" >2674066582.8184</td>\n",
       "      <td id=\"T_d2b5c_row13_col2\" class=\"data row13 col2\" >38251845064427806720.0000</td>\n",
       "      <td id=\"T_d2b5c_row13_col3\" class=\"data row13 col3\" >5932820383.9095</td>\n",
       "      <td id=\"T_d2b5c_row13_col4\" class=\"data row13 col4\" >0.4389</td>\n",
       "      <td id=\"T_d2b5c_row13_col5\" class=\"data row13 col5\" >0.9617</td>\n",
       "      <td id=\"T_d2b5c_row13_col6\" class=\"data row13 col6\" >1.0739</td>\n",
       "      <td id=\"T_d2b5c_row13_col7\" class=\"data row13 col7\" >0.1320</td>\n",
       "    </tr>\n",
       "    <tr>\n",
       "      <th id=\"T_d2b5c_level0_row14\" class=\"row_heading level0 row14\" >br</th>\n",
       "      <td id=\"T_d2b5c_row14_col0\" class=\"data row14 col0\" >Bayesian Ridge</td>\n",
       "      <td id=\"T_d2b5c_row14_col1\" class=\"data row14 col1\" >2736982300.8963</td>\n",
       "      <td id=\"T_d2b5c_row14_col2\" class=\"data row14 col2\" >39281545393724317696.0000</td>\n",
       "      <td id=\"T_d2b5c_row14_col3\" class=\"data row14 col3\" >6015645902.8880</td>\n",
       "      <td id=\"T_d2b5c_row14_col4\" class=\"data row14 col4\" >0.4226</td>\n",
       "      <td id=\"T_d2b5c_row14_col5\" class=\"data row14 col5\" >0.9722</td>\n",
       "      <td id=\"T_d2b5c_row14_col6\" class=\"data row14 col6\" >1.1318</td>\n",
       "      <td id=\"T_d2b5c_row14_col7\" class=\"data row14 col7\" >0.1410</td>\n",
       "    </tr>\n",
       "    <tr>\n",
       "      <th id=\"T_d2b5c_level0_row15\" class=\"row_heading level0 row15\" >omp</th>\n",
       "      <td id=\"T_d2b5c_row15_col0\" class=\"data row15 col0\" >Orthogonal Matching Pursuit</td>\n",
       "      <td id=\"T_d2b5c_row15_col1\" class=\"data row15 col1\" >2913330826.3867</td>\n",
       "      <td id=\"T_d2b5c_row15_col2\" class=\"data row15 col2\" >44353011505949229056.0000</td>\n",
       "      <td id=\"T_d2b5c_row15_col3\" class=\"data row15 col3\" >6434106598.4067</td>\n",
       "      <td id=\"T_d2b5c_row15_col4\" class=\"data row15 col4\" >0.3304</td>\n",
       "      <td id=\"T_d2b5c_row15_col5\" class=\"data row15 col5\" >0.8428</td>\n",
       "      <td id=\"T_d2b5c_row15_col6\" class=\"data row15 col6\" >1.0414</td>\n",
       "      <td id=\"T_d2b5c_row15_col7\" class=\"data row15 col7\" >0.1370</td>\n",
       "    </tr>\n",
       "    <tr>\n",
       "      <th id=\"T_d2b5c_level0_row16\" class=\"row_heading level0 row16\" >huber</th>\n",
       "      <td id=\"T_d2b5c_row16_col0\" class=\"data row16 col0\" >Huber Regressor</td>\n",
       "      <td id=\"T_d2b5c_row16_col1\" class=\"data row16 col1\" >2746601973.9604</td>\n",
       "      <td id=\"T_d2b5c_row16_col2\" class=\"data row16 col2\" >47458616553669443584.0000</td>\n",
       "      <td id=\"T_d2b5c_row16_col3\" class=\"data row16 col3\" >6620884837.9063</td>\n",
       "      <td id=\"T_d2b5c_row16_col4\" class=\"data row16 col4\" >0.3011</td>\n",
       "      <td id=\"T_d2b5c_row16_col5\" class=\"data row16 col5\" >0.7681</td>\n",
       "      <td id=\"T_d2b5c_row16_col6\" class=\"data row16 col6\" >0.9247</td>\n",
       "      <td id=\"T_d2b5c_row16_col7\" class=\"data row16 col7\" >0.1470</td>\n",
       "    </tr>\n",
       "    <tr>\n",
       "      <th id=\"T_d2b5c_level0_row17\" class=\"row_heading level0 row17\" >par</th>\n",
       "      <td id=\"T_d2b5c_row17_col0\" class=\"data row17 col0\" >Passive Aggressive Regressor</td>\n",
       "      <td id=\"T_d2b5c_row17_col1\" class=\"data row17 col1\" >3260248630.4688</td>\n",
       "      <td id=\"T_d2b5c_row17_col2\" class=\"data row17 col2\" >51205863203871948800.0000</td>\n",
       "      <td id=\"T_d2b5c_row17_col3\" class=\"data row17 col3\" >6923112985.5735</td>\n",
       "      <td id=\"T_d2b5c_row17_col4\" class=\"data row17 col4\" >0.2131</td>\n",
       "      <td id=\"T_d2b5c_row17_col5\" class=\"data row17 col5\" >0.8597</td>\n",
       "      <td id=\"T_d2b5c_row17_col6\" class=\"data row17 col6\" >1.0795</td>\n",
       "      <td id=\"T_d2b5c_row17_col7\" class=\"data row17 col7\" >0.1390</td>\n",
       "    </tr>\n",
       "    <tr>\n",
       "      <th id=\"T_d2b5c_level0_row18\" class=\"row_heading level0 row18\" >ada</th>\n",
       "      <td id=\"T_d2b5c_row18_col0\" class=\"data row18 col0\" >AdaBoost Regressor</td>\n",
       "      <td id=\"T_d2b5c_row18_col1\" class=\"data row18 col1\" >3777093373.0377</td>\n",
       "      <td id=\"T_d2b5c_row18_col2\" class=\"data row18 col2\" >47090090971174715392.0000</td>\n",
       "      <td id=\"T_d2b5c_row18_col3\" class=\"data row18 col3\" >6752086186.2145</td>\n",
       "      <td id=\"T_d2b5c_row18_col4\" class=\"data row18 col4\" >0.2058</td>\n",
       "      <td id=\"T_d2b5c_row18_col5\" class=\"data row18 col5\" >1.1235</td>\n",
       "      <td id=\"T_d2b5c_row18_col6\" class=\"data row18 col6\" >2.2608</td>\n",
       "      <td id=\"T_d2b5c_row18_col7\" class=\"data row18 col7\" >0.1680</td>\n",
       "    </tr>\n",
       "    <tr>\n",
       "      <th id=\"T_d2b5c_level0_row19\" class=\"row_heading level0 row19\" >dummy</th>\n",
       "      <td id=\"T_d2b5c_row19_col0\" class=\"data row19 col0\" >Dummy Regressor</td>\n",
       "      <td id=\"T_d2b5c_row19_col1\" class=\"data row19 col1\" >4360709873.8898</td>\n",
       "      <td id=\"T_d2b5c_row19_col2\" class=\"data row19 col2\" >65199410253431726080.0000</td>\n",
       "      <td id=\"T_d2b5c_row19_col3\" class=\"data row19 col3\" >7862235056.7631</td>\n",
       "      <td id=\"T_d2b5c_row19_col4\" class=\"data row19 col4\" >-0.0098</td>\n",
       "      <td id=\"T_d2b5c_row19_col5\" class=\"data row19 col5\" >1.2137</td>\n",
       "      <td id=\"T_d2b5c_row19_col6\" class=\"data row19 col6\" >2.2683</td>\n",
       "      <td id=\"T_d2b5c_row19_col7\" class=\"data row19 col7\" >0.1250</td>\n",
       "    </tr>\n",
       "  </tbody>\n",
       "</table>\n"
      ],
      "text/plain": [
       "<pandas.io.formats.style.Styler at 0x297af037250>"
      ]
     },
     "metadata": {},
     "output_type": "display_data"
    },
    {
     "data": {
      "text/html": [],
      "text/plain": [
       "<IPython.core.display.HTML object>"
      ]
     },
     "metadata": {},
     "output_type": "display_data"
    },
    {
     "data": {
      "text/plain": [
       "<catboost.core.CatBoostRegressor at 0x297afb1b850>"
      ]
     },
     "execution_count": 42,
     "metadata": {},
     "output_type": "execute_result"
    }
   ],
   "source": [
    "compare_models()"
   ]
  },
  {
   "cell_type": "code",
   "execution_count": 43,
   "metadata": {},
   "outputs": [
    {
     "data": {
      "text/html": [],
      "text/plain": [
       "<IPython.core.display.HTML object>"
      ]
     },
     "metadata": {},
     "output_type": "display_data"
    },
    {
     "data": {
      "text/html": [
       "<style type=\"text/css\">\n",
       "#T_3a4fe_row10_col0, #T_3a4fe_row10_col1, #T_3a4fe_row10_col2, #T_3a4fe_row10_col3, #T_3a4fe_row10_col4, #T_3a4fe_row10_col5 {\n",
       "  background: yellow;\n",
       "}\n",
       "</style>\n",
       "<table id=\"T_3a4fe\">\n",
       "  <thead>\n",
       "    <tr>\n",
       "      <th class=\"blank level0\" >&nbsp;</th>\n",
       "      <th id=\"T_3a4fe_level0_col0\" class=\"col_heading level0 col0\" >MAE</th>\n",
       "      <th id=\"T_3a4fe_level0_col1\" class=\"col_heading level0 col1\" >MSE</th>\n",
       "      <th id=\"T_3a4fe_level0_col2\" class=\"col_heading level0 col2\" >RMSE</th>\n",
       "      <th id=\"T_3a4fe_level0_col3\" class=\"col_heading level0 col3\" >R2</th>\n",
       "      <th id=\"T_3a4fe_level0_col4\" class=\"col_heading level0 col4\" >RMSLE</th>\n",
       "      <th id=\"T_3a4fe_level0_col5\" class=\"col_heading level0 col5\" >MAPE</th>\n",
       "    </tr>\n",
       "    <tr>\n",
       "      <th class=\"index_name level0\" >Fold</th>\n",
       "      <th class=\"blank col0\" >&nbsp;</th>\n",
       "      <th class=\"blank col1\" >&nbsp;</th>\n",
       "      <th class=\"blank col2\" >&nbsp;</th>\n",
       "      <th class=\"blank col3\" >&nbsp;</th>\n",
       "      <th class=\"blank col4\" >&nbsp;</th>\n",
       "      <th class=\"blank col5\" >&nbsp;</th>\n",
       "    </tr>\n",
       "  </thead>\n",
       "  <tbody>\n",
       "    <tr>\n",
       "      <th id=\"T_3a4fe_level0_row0\" class=\"row_heading level0 row0\" >0</th>\n",
       "      <td id=\"T_3a4fe_row0_col0\" class=\"data row0 col0\" >2479387095.1475</td>\n",
       "      <td id=\"T_3a4fe_row0_col1\" class=\"data row0 col1\" >51988547739873558528.0000</td>\n",
       "      <td id=\"T_3a4fe_row0_col2\" class=\"data row0 col2\" >7210308435.8350</td>\n",
       "      <td id=\"T_3a4fe_row0_col3\" class=\"data row0 col3\" >0.4964</td>\n",
       "      <td id=\"T_3a4fe_row0_col4\" class=\"data row0 col4\" >0.6233</td>\n",
       "      <td id=\"T_3a4fe_row0_col5\" class=\"data row0 col5\" >0.4693</td>\n",
       "    </tr>\n",
       "    <tr>\n",
       "      <th id=\"T_3a4fe_level0_row1\" class=\"row_heading level0 row1\" >1</th>\n",
       "      <td id=\"T_3a4fe_row1_col0\" class=\"data row1 col0\" >1815818174.9508</td>\n",
       "      <td id=\"T_3a4fe_row1_col1\" class=\"data row1 col1\" >46944923974259638272.0000</td>\n",
       "      <td id=\"T_3a4fe_row1_col2\" class=\"data row1 col2\" >6851636590.9365</td>\n",
       "      <td id=\"T_3a4fe_row1_col3\" class=\"data row1 col3\" >0.4959</td>\n",
       "      <td id=\"T_3a4fe_row1_col4\" class=\"data row1 col4\" >0.4994</td>\n",
       "      <td id=\"T_3a4fe_row1_col5\" class=\"data row1 col5\" >0.4204</td>\n",
       "    </tr>\n",
       "    <tr>\n",
       "      <th id=\"T_3a4fe_level0_row2\" class=\"row_heading level0 row2\" >2</th>\n",
       "      <td id=\"T_3a4fe_row2_col0\" class=\"data row2 col0\" >1499436240.7213</td>\n",
       "      <td id=\"T_3a4fe_row2_col1\" class=\"data row2 col1\" >21151433448621871104.0000</td>\n",
       "      <td id=\"T_3a4fe_row2_col2\" class=\"data row2 col2\" >4599068758.8491</td>\n",
       "      <td id=\"T_3a4fe_row2_col3\" class=\"data row2 col3\" >0.5200</td>\n",
       "      <td id=\"T_3a4fe_row2_col4\" class=\"data row2 col4\" >0.5420</td>\n",
       "      <td id=\"T_3a4fe_row2_col5\" class=\"data row2 col5\" >0.5832</td>\n",
       "    </tr>\n",
       "    <tr>\n",
       "      <th id=\"T_3a4fe_level0_row3\" class=\"row_heading level0 row3\" >3</th>\n",
       "      <td id=\"T_3a4fe_row3_col0\" class=\"data row3 col0\" >1790795397.4836</td>\n",
       "      <td id=\"T_3a4fe_row3_col1\" class=\"data row3 col1\" >51692290135028080640.0000</td>\n",
       "      <td id=\"T_3a4fe_row3_col2\" class=\"data row3 col2\" >7189735053.1872</td>\n",
       "      <td id=\"T_3a4fe_row3_col3\" class=\"data row3 col3\" >0.3209</td>\n",
       "      <td id=\"T_3a4fe_row3_col4\" class=\"data row3 col4\" >0.5222</td>\n",
       "      <td id=\"T_3a4fe_row3_col5\" class=\"data row3 col5\" >0.3671</td>\n",
       "    </tr>\n",
       "    <tr>\n",
       "      <th id=\"T_3a4fe_level0_row4\" class=\"row_heading level0 row4\" >4</th>\n",
       "      <td id=\"T_3a4fe_row4_col0\" class=\"data row4 col0\" >2119837128.0656</td>\n",
       "      <td id=\"T_3a4fe_row4_col1\" class=\"data row4 col1\" >40256157986120228864.0000</td>\n",
       "      <td id=\"T_3a4fe_row4_col2\" class=\"data row4 col2\" >6344774068.9579</td>\n",
       "      <td id=\"T_3a4fe_row4_col3\" class=\"data row4 col3\" >0.4099</td>\n",
       "      <td id=\"T_3a4fe_row4_col4\" class=\"data row4 col4\" >0.4992</td>\n",
       "      <td id=\"T_3a4fe_row4_col5\" class=\"data row4 col5\" >0.4068</td>\n",
       "    </tr>\n",
       "    <tr>\n",
       "      <th id=\"T_3a4fe_level0_row5\" class=\"row_heading level0 row5\" >5</th>\n",
       "      <td id=\"T_3a4fe_row5_col0\" class=\"data row5 col0\" >2285190611.5350</td>\n",
       "      <td id=\"T_3a4fe_row5_col1\" class=\"data row5 col1\" >48404015327652683776.0000</td>\n",
       "      <td id=\"T_3a4fe_row5_col2\" class=\"data row5 col2\" >6957299427.7703</td>\n",
       "      <td id=\"T_3a4fe_row5_col3\" class=\"data row5 col3\" >0.4076</td>\n",
       "      <td id=\"T_3a4fe_row5_col4\" class=\"data row5 col4\" >0.5484</td>\n",
       "      <td id=\"T_3a4fe_row5_col5\" class=\"data row5 col5\" >0.4099</td>\n",
       "    </tr>\n",
       "    <tr>\n",
       "      <th id=\"T_3a4fe_level0_row6\" class=\"row_heading level0 row6\" >6</th>\n",
       "      <td id=\"T_3a4fe_row6_col0\" class=\"data row6 col0\" >2065661687.1770</td>\n",
       "      <td id=\"T_3a4fe_row6_col1\" class=\"data row6 col1\" >53211517474756812800.0000</td>\n",
       "      <td id=\"T_3a4fe_row6_col2\" class=\"data row6 col2\" >7294622503.9242</td>\n",
       "      <td id=\"T_3a4fe_row6_col3\" class=\"data row6 col3\" >0.4073</td>\n",
       "      <td id=\"T_3a4fe_row6_col4\" class=\"data row6 col4\" >0.4827</td>\n",
       "      <td id=\"T_3a4fe_row6_col5\" class=\"data row6 col5\" >0.3888</td>\n",
       "    </tr>\n",
       "    <tr>\n",
       "      <th id=\"T_3a4fe_level0_row7\" class=\"row_heading level0 row7\" >7</th>\n",
       "      <td id=\"T_3a4fe_row7_col0\" class=\"data row7 col0\" >1316253740.0494</td>\n",
       "      <td id=\"T_3a4fe_row7_col1\" class=\"data row7 col1\" >11084801865211983872.0000</td>\n",
       "      <td id=\"T_3a4fe_row7_col2\" class=\"data row7 col2\" >3329384607.5832</td>\n",
       "      <td id=\"T_3a4fe_row7_col3\" class=\"data row7 col3\" >0.5942</td>\n",
       "      <td id=\"T_3a4fe_row7_col4\" class=\"data row7 col4\" >0.4347</td>\n",
       "      <td id=\"T_3a4fe_row7_col5\" class=\"data row7 col5\" >0.3541</td>\n",
       "    </tr>\n",
       "    <tr>\n",
       "      <th id=\"T_3a4fe_level0_row8\" class=\"row_heading level0 row8\" >8</th>\n",
       "      <td id=\"T_3a4fe_row8_col0\" class=\"data row8 col0\" >1466868110.7160</td>\n",
       "      <td id=\"T_3a4fe_row8_col1\" class=\"data row8 col1\" >11212804864307042304.0000</td>\n",
       "      <td id=\"T_3a4fe_row8_col2\" class=\"data row8 col2\" >3348552652.1629</td>\n",
       "      <td id=\"T_3a4fe_row8_col3\" class=\"data row8 col3\" >0.6780</td>\n",
       "      <td id=\"T_3a4fe_row8_col4\" class=\"data row8 col4\" >0.5097</td>\n",
       "      <td id=\"T_3a4fe_row8_col5\" class=\"data row8 col5\" >0.4051</td>\n",
       "    </tr>\n",
       "    <tr>\n",
       "      <th id=\"T_3a4fe_level0_row9\" class=\"row_heading level0 row9\" >9</th>\n",
       "      <td id=\"T_3a4fe_row9_col0\" class=\"data row9 col0\" >1021159013.7366</td>\n",
       "      <td id=\"T_3a4fe_row9_col1\" class=\"data row9 col1\" >3417868306793497088.0000</td>\n",
       "      <td id=\"T_3a4fe_row9_col2\" class=\"data row9 col2\" >1848747767.2180</td>\n",
       "      <td id=\"T_3a4fe_row9_col3\" class=\"data row9 col3\" >0.8706</td>\n",
       "      <td id=\"T_3a4fe_row9_col4\" class=\"data row9 col4\" >0.5873</td>\n",
       "      <td id=\"T_3a4fe_row9_col5\" class=\"data row9 col5\" >0.4151</td>\n",
       "    </tr>\n",
       "    <tr>\n",
       "      <th id=\"T_3a4fe_level0_row10\" class=\"row_heading level0 row10\" >Mean</th>\n",
       "      <td id=\"T_3a4fe_row10_col0\" class=\"data row10 col0\" >1786040719.9583</td>\n",
       "      <td id=\"T_3a4fe_row10_col1\" class=\"data row10 col1\" >33936436112262541312.0000</td>\n",
       "      <td id=\"T_3a4fe_row10_col2\" class=\"data row10 col2\" >5497412986.6424</td>\n",
       "      <td id=\"T_3a4fe_row10_col3\" class=\"data row10 col3\" >0.5201</td>\n",
       "      <td id=\"T_3a4fe_row10_col4\" class=\"data row10 col4\" >0.5249</td>\n",
       "      <td id=\"T_3a4fe_row10_col5\" class=\"data row10 col5\" >0.4220</td>\n",
       "    </tr>\n",
       "    <tr>\n",
       "      <th id=\"T_3a4fe_level0_row11\" class=\"row_heading level0 row11\" >Std</th>\n",
       "      <td id=\"T_3a4fe_row11_col0\" class=\"data row11 col0\" >437053103.6866</td>\n",
       "      <td id=\"T_3a4fe_row11_col1\" class=\"data row11 col1\" >18880011165401456640.0000</td>\n",
       "      <td id=\"T_3a4fe_row11_col2\" class=\"data row11 col2\" >1927404100.4828</td>\n",
       "      <td id=\"T_3a4fe_row11_col3\" class=\"data row11 col3\" >0.1522</td>\n",
       "      <td id=\"T_3a4fe_row11_col4\" class=\"data row11 col4\" >0.0509</td>\n",
       "      <td id=\"T_3a4fe_row11_col5\" class=\"data row11 col5\" >0.0614</td>\n",
       "    </tr>\n",
       "  </tbody>\n",
       "</table>\n"
      ],
      "text/plain": [
       "<pandas.io.formats.style.Styler at 0x297af7f0910>"
      ]
     },
     "metadata": {},
     "output_type": "display_data"
    },
    {
     "data": {
      "text/html": [],
      "text/plain": [
       "<IPython.core.display.HTML object>"
      ]
     },
     "metadata": {},
     "output_type": "display_data"
    }
   ],
   "source": [
    "my_model=create_model('xgboost')"
   ]
  },
  {
   "cell_type": "markdown",
   "id": "35b7084a",
   "metadata": {
    "papermill": {
     "duration": 0.024952,
     "end_time": "2022-08-10T05:50:56.920302",
     "exception": false,
     "start_time": "2022-08-10T05:50:56.895350",
     "status": "completed"
    },
    "tags": []
   },
   "source": [
    "# Explore the data (EDA)"
   ]
  },
  {
   "cell_type": "code",
   "execution_count": 44,
   "id": "a27c0ceb",
   "metadata": {
    "execution": {
     "iopub.execute_input": "2022-08-10T05:50:56.979962Z",
     "iopub.status.busy": "2022-08-10T05:50:56.978885Z",
     "iopub.status.idle": "2022-08-10T05:50:56.989548Z",
     "shell.execute_reply": "2022-08-10T05:50:56.987243Z"
    },
    "papermill": {
     "duration": 0.042136,
     "end_time": "2022-08-10T05:50:56.993764",
     "exception": false,
     "start_time": "2022-08-10T05:50:56.951628",
     "status": "completed"
    },
    "tags": []
   },
   "outputs": [
    {
     "data": {
      "text/plain": [
       "Index(['Area', 'Room', 'Parking', 'Warehouse', 'Elevator', 'Address', 'Price'], dtype='object')"
      ]
     },
     "execution_count": 44,
     "metadata": {},
     "output_type": "execute_result"
    }
   ],
   "source": [
    "df.columns"
   ]
  },
  {
   "cell_type": "code",
   "execution_count": 45,
   "id": "1e6c33dc",
   "metadata": {
    "execution": {
     "iopub.execute_input": "2022-08-10T05:50:57.033624Z",
     "iopub.status.busy": "2022-08-10T05:50:57.033133Z",
     "iopub.status.idle": "2022-08-10T05:50:57.059550Z",
     "shell.execute_reply": "2022-08-10T05:50:57.058228Z"
    },
    "papermill": {
     "duration": 0.048619,
     "end_time": "2022-08-10T05:50:57.062069",
     "exception": false,
     "start_time": "2022-08-10T05:50:57.013450",
     "status": "completed"
    },
    "tags": []
   },
   "outputs": [
    {
     "name": "stdout",
     "output_type": "stream",
     "text": [
      "<class 'pandas.core.frame.DataFrame'>\n",
      "RangeIndex: 3479 entries, 0 to 3478\n",
      "Data columns (total 7 columns):\n",
      " #   Column     Non-Null Count  Dtype \n",
      "---  ------     --------------  ----- \n",
      " 0   Area       3479 non-null   object\n",
      " 1   Room       3479 non-null   int64 \n",
      " 2   Parking    3479 non-null   bool  \n",
      " 3   Warehouse  3479 non-null   bool  \n",
      " 4   Elevator   3479 non-null   bool  \n",
      " 5   Address    3456 non-null   object\n",
      " 6   Price      3479 non-null   int64 \n",
      "dtypes: bool(3), int64(2), object(2)\n",
      "memory usage: 119.0+ KB\n"
     ]
    }
   ],
   "source": [
    "df.info()"
   ]
  },
  {
   "cell_type": "code",
   "execution_count": 46,
   "metadata": {},
   "outputs": [
    {
     "data": {
      "text/plain": [
       "(3479, 7)"
      ]
     },
     "execution_count": 46,
     "metadata": {},
     "output_type": "execute_result"
    }
   ],
   "source": [
    "df.shape"
   ]
  },
  {
   "cell_type": "code",
   "execution_count": 47,
   "id": "54e53093",
   "metadata": {
    "execution": {
     "iopub.execute_input": "2022-08-10T05:50:57.101049Z",
     "iopub.status.busy": "2022-08-10T05:50:57.100043Z",
     "iopub.status.idle": "2022-08-10T05:50:57.126236Z",
     "shell.execute_reply": "2022-08-10T05:50:57.124773Z"
    },
    "papermill": {
     "duration": 0.048505,
     "end_time": "2022-08-10T05:50:57.129098",
     "exception": false,
     "start_time": "2022-08-10T05:50:57.080593",
     "status": "completed"
    },
    "tags": []
   },
   "outputs": [
    {
     "data": {
      "text/html": [
       "<div>\n",
       "<style scoped>\n",
       "    .dataframe tbody tr th:only-of-type {\n",
       "        vertical-align: middle;\n",
       "    }\n",
       "\n",
       "    .dataframe tbody tr th {\n",
       "        vertical-align: top;\n",
       "    }\n",
       "\n",
       "    .dataframe thead th {\n",
       "        text-align: right;\n",
       "    }\n",
       "</style>\n",
       "<table border=\"1\" class=\"dataframe\">\n",
       "  <thead>\n",
       "    <tr style=\"text-align: right;\">\n",
       "      <th></th>\n",
       "      <th>Room</th>\n",
       "      <th>Price</th>\n",
       "    </tr>\n",
       "  </thead>\n",
       "  <tbody>\n",
       "    <tr>\n",
       "      <th>count</th>\n",
       "      <td>3479</td>\n",
       "      <td>3479</td>\n",
       "    </tr>\n",
       "    <tr>\n",
       "      <th>mean</th>\n",
       "      <td>2</td>\n",
       "      <td>5359022711</td>\n",
       "    </tr>\n",
       "    <tr>\n",
       "      <th>std</th>\n",
       "      <td>1</td>\n",
       "      <td>8099934524</td>\n",
       "    </tr>\n",
       "    <tr>\n",
       "      <th>min</th>\n",
       "      <td>0</td>\n",
       "      <td>3600000</td>\n",
       "    </tr>\n",
       "    <tr>\n",
       "      <th>25%</th>\n",
       "      <td>2</td>\n",
       "      <td>1418250000</td>\n",
       "    </tr>\n",
       "    <tr>\n",
       "      <th>50%</th>\n",
       "      <td>2</td>\n",
       "      <td>2900000000</td>\n",
       "    </tr>\n",
       "    <tr>\n",
       "      <th>75%</th>\n",
       "      <td>2</td>\n",
       "      <td>6000000000</td>\n",
       "    </tr>\n",
       "    <tr>\n",
       "      <th>max</th>\n",
       "      <td>5</td>\n",
       "      <td>92400000000</td>\n",
       "    </tr>\n",
       "  </tbody>\n",
       "</table>\n",
       "</div>"
      ],
      "text/plain": [
       "       Room       Price\n",
       "count  3479        3479\n",
       "mean      2  5359022711\n",
       "std       1  8099934524\n",
       "min       0     3600000\n",
       "25%       2  1418250000\n",
       "50%       2  2900000000\n",
       "75%       2  6000000000\n",
       "max       5 92400000000"
      ]
     },
     "execution_count": 47,
     "metadata": {},
     "output_type": "execute_result"
    }
   ],
   "source": [
    "df.describe()"
   ]
  },
  {
   "cell_type": "code",
   "execution_count": 48,
   "metadata": {},
   "outputs": [],
   "source": [
    "# eda()"
   ]
  },
  {
   "cell_type": "code",
   "execution_count": 49,
   "metadata": {},
   "outputs": [
    {
     "data": {
      "image/png": "[encoded data removed]",
      "text/plain": [
       "<Figure size 800x390 with 2 Axes>"
      ]
     },
     "metadata": {},
     "output_type": "display_data"
    }
   ],
   "source": [
    "interpret_model(my_model)"
   ]
  },
  {
   "cell_type": "code",
   "execution_count": 50,
   "metadata": {},
   "outputs": [
    {
     "data": {
      "text/html": [],
      "text/plain": [
       "<IPython.core.display.HTML object>"
      ]
     },
     "metadata": {},
     "output_type": "display_data"
    },
    {
     "data": {
      "image/png": "[encoded data removed]",
      "text/plain": [
       "<Figure size 800x500 with 1 Axes>"
      ]
     },
     "metadata": {},
     "output_type": "display_data"
    }
   ],
   "source": [
    "plot_model(estimator=my_model,plot='feature')"
   ]
  },
  {
   "cell_type": "code",
   "execution_count": null,
   "metadata": {},
   "outputs": [],
   "source": []
  },
  {
   "cell_type": "code",
   "execution_count": 51,
   "id": "b03fc0c0",
   "metadata": {
    "execution": {
     "iopub.execute_input": "2022-08-10T05:50:57.167138Z",
     "iopub.status.busy": "2022-08-10T05:50:57.166694Z",
     "iopub.status.idle": "2022-08-10T05:50:57.181068Z",
     "shell.execute_reply": "2022-08-10T05:50:57.179794Z"
    },
    "papermill": {
     "duration": 0.036283,
     "end_time": "2022-08-10T05:50:57.183463",
     "exception": false,
     "start_time": "2022-08-10T05:50:57.147180",
     "status": "completed"
    },
    "tags": []
   },
   "outputs": [],
   "source": [
    "df['Area'] = df['Area'].apply(lambda x: re.sub(',', '', x))\n",
    "df[\"Area\"] = pd.to_numeric(df[\"Area\"] , errors='coerce')"
   ]
  },
  {
   "cell_type": "code",
   "execution_count": 52,
   "id": "764bd179",
   "metadata": {
    "execution": {
     "iopub.execute_input": "2022-08-10T05:50:57.221714Z",
     "iopub.status.busy": "2022-08-10T05:50:57.221063Z",
     "iopub.status.idle": "2022-08-10T05:50:57.236370Z",
     "shell.execute_reply": "2022-08-10T05:50:57.234583Z"
    },
    "papermill": {
     "duration": 0.037496,
     "end_time": "2022-08-10T05:50:57.239208",
     "exception": false,
     "start_time": "2022-08-10T05:50:57.201712",
     "status": "completed"
    },
    "tags": []
   },
   "outputs": [
    {
     "name": "stdout",
     "output_type": "stream",
     "text": [
      "<class 'pandas.core.frame.DataFrame'>\n",
      "RangeIndex: 3479 entries, 0 to 3478\n",
      "Data columns (total 7 columns):\n",
      " #   Column     Non-Null Count  Dtype \n",
      "---  ------     --------------  ----- \n",
      " 0   Area       3479 non-null   int64 \n",
      " 1   Room       3479 non-null   int64 \n",
      " 2   Parking    3479 non-null   bool  \n",
      " 3   Warehouse  3479 non-null   bool  \n",
      " 4   Elevator   3479 non-null   bool  \n",
      " 5   Address    3456 non-null   object\n",
      " 6   Price      3479 non-null   int64 \n",
      "dtypes: bool(3), int64(3), object(1)\n",
      "memory usage: 119.0+ KB\n"
     ]
    }
   ],
   "source": [
    "df.info()"
   ]
  },
  {
   "cell_type": "code",
   "execution_count": 53,
   "id": "78e82372",
   "metadata": {
    "execution": {
     "iopub.execute_input": "2022-08-10T05:50:57.278078Z",
     "iopub.status.busy": "2022-08-10T05:50:57.277348Z",
     "iopub.status.idle": "2022-08-10T05:50:57.296712Z",
     "shell.execute_reply": "2022-08-10T05:50:57.295584Z"
    },
    "papermill": {
     "duration": 0.041308,
     "end_time": "2022-08-10T05:50:57.298982",
     "exception": false,
     "start_time": "2022-08-10T05:50:57.257674",
     "status": "completed"
    },
    "tags": []
   },
   "outputs": [
    {
     "data": {
      "text/html": [
       "<div>\n",
       "<style scoped>\n",
       "    .dataframe tbody tr th:only-of-type {\n",
       "        vertical-align: middle;\n",
       "    }\n",
       "\n",
       "    .dataframe tbody tr th {\n",
       "        vertical-align: top;\n",
       "    }\n",
       "\n",
       "    .dataframe thead th {\n",
       "        text-align: right;\n",
       "    }\n",
       "</style>\n",
       "<table border=\"1\" class=\"dataframe\">\n",
       "  <thead>\n",
       "    <tr style=\"text-align: right;\">\n",
       "      <th></th>\n",
       "      <th>Area</th>\n",
       "      <th>Room</th>\n",
       "      <th>Parking</th>\n",
       "      <th>Warehouse</th>\n",
       "      <th>Elevator</th>\n",
       "      <th>Address</th>\n",
       "      <th>Price</th>\n",
       "    </tr>\n",
       "  </thead>\n",
       "  <tbody>\n",
       "    <tr>\n",
       "      <th>0</th>\n",
       "      <td>63</td>\n",
       "      <td>1</td>\n",
       "      <td>True</td>\n",
       "      <td>True</td>\n",
       "      <td>True</td>\n",
       "      <td>Shahran</td>\n",
       "      <td>1850000000</td>\n",
       "    </tr>\n",
       "    <tr>\n",
       "      <th>1</th>\n",
       "      <td>60</td>\n",
       "      <td>1</td>\n",
       "      <td>True</td>\n",
       "      <td>True</td>\n",
       "      <td>True</td>\n",
       "      <td>Shahran</td>\n",
       "      <td>1850000000</td>\n",
       "    </tr>\n",
       "    <tr>\n",
       "      <th>2</th>\n",
       "      <td>79</td>\n",
       "      <td>2</td>\n",
       "      <td>True</td>\n",
       "      <td>True</td>\n",
       "      <td>True</td>\n",
       "      <td>Pardis</td>\n",
       "      <td>550000000</td>\n",
       "    </tr>\n",
       "    <tr>\n",
       "      <th>3</th>\n",
       "      <td>95</td>\n",
       "      <td>2</td>\n",
       "      <td>True</td>\n",
       "      <td>True</td>\n",
       "      <td>True</td>\n",
       "      <td>Shahrake Qods</td>\n",
       "      <td>902500000</td>\n",
       "    </tr>\n",
       "    <tr>\n",
       "      <th>4</th>\n",
       "      <td>123</td>\n",
       "      <td>2</td>\n",
       "      <td>True</td>\n",
       "      <td>True</td>\n",
       "      <td>True</td>\n",
       "      <td>Shahrake Gharb</td>\n",
       "      <td>7000000000</td>\n",
       "    </tr>\n",
       "    <tr>\n",
       "      <th>...</th>\n",
       "      <td>...</td>\n",
       "      <td>...</td>\n",
       "      <td>...</td>\n",
       "      <td>...</td>\n",
       "      <td>...</td>\n",
       "      <td>...</td>\n",
       "      <td>...</td>\n",
       "    </tr>\n",
       "    <tr>\n",
       "      <th>3474</th>\n",
       "      <td>86</td>\n",
       "      <td>2</td>\n",
       "      <td>True</td>\n",
       "      <td>True</td>\n",
       "      <td>True</td>\n",
       "      <td>Southern Janatabad</td>\n",
       "      <td>3500000000</td>\n",
       "    </tr>\n",
       "    <tr>\n",
       "      <th>3475</th>\n",
       "      <td>83</td>\n",
       "      <td>2</td>\n",
       "      <td>True</td>\n",
       "      <td>True</td>\n",
       "      <td>True</td>\n",
       "      <td>Niavaran</td>\n",
       "      <td>6800000000</td>\n",
       "    </tr>\n",
       "    <tr>\n",
       "      <th>3476</th>\n",
       "      <td>75</td>\n",
       "      <td>2</td>\n",
       "      <td>False</td>\n",
       "      <td>False</td>\n",
       "      <td>False</td>\n",
       "      <td>Parand</td>\n",
       "      <td>365000000</td>\n",
       "    </tr>\n",
       "    <tr>\n",
       "      <th>3477</th>\n",
       "      <td>105</td>\n",
       "      <td>2</td>\n",
       "      <td>True</td>\n",
       "      <td>True</td>\n",
       "      <td>True</td>\n",
       "      <td>Dorous</td>\n",
       "      <td>5600000000</td>\n",
       "    </tr>\n",
       "    <tr>\n",
       "      <th>3478</th>\n",
       "      <td>82</td>\n",
       "      <td>2</td>\n",
       "      <td>False</td>\n",
       "      <td>True</td>\n",
       "      <td>True</td>\n",
       "      <td>Parand</td>\n",
       "      <td>360000000</td>\n",
       "    </tr>\n",
       "  </tbody>\n",
       "</table>\n",
       "<p>3479 rows × 7 columns</p>\n",
       "</div>"
      ],
      "text/plain": [
       "      Area  Room  Parking  Warehouse  Elevator             Address       Price\n",
       "0       63     1     True       True      True             Shahran  1850000000\n",
       "1       60     1     True       True      True             Shahran  1850000000\n",
       "2       79     2     True       True      True              Pardis   550000000\n",
       "3       95     2     True       True      True       Shahrake Qods   902500000\n",
       "4      123     2     True       True      True      Shahrake Gharb  7000000000\n",
       "...    ...   ...      ...        ...       ...                 ...         ...\n",
       "3474    86     2     True       True      True  Southern Janatabad  3500000000\n",
       "3475    83     2     True       True      True            Niavaran  6800000000\n",
       "3476    75     2    False      False     False              Parand   365000000\n",
       "3477   105     2     True       True      True              Dorous  5600000000\n",
       "3478    82     2    False       True      True              Parand   360000000\n",
       "\n",
       "[3479 rows x 7 columns]"
      ]
     },
     "execution_count": 53,
     "metadata": {},
     "output_type": "execute_result"
    }
   ],
   "source": [
    "df"
   ]
  },
  {
   "cell_type": "code",
   "execution_count": 54,
   "metadata": {},
   "outputs": [
    {
     "data": {
      "text/html": [
       "<div>\n",
       "<style scoped>\n",
       "    .dataframe tbody tr th:only-of-type {\n",
       "        vertical-align: middle;\n",
       "    }\n",
       "\n",
       "    .dataframe tbody tr th {\n",
       "        vertical-align: top;\n",
       "    }\n",
       "\n",
       "    .dataframe thead th {\n",
       "        text-align: right;\n",
       "    }\n",
       "</style>\n",
       "<table border=\"1\" class=\"dataframe\">\n",
       "  <thead>\n",
       "    <tr style=\"text-align: right;\">\n",
       "      <th></th>\n",
       "      <th>Area</th>\n",
       "      <th>Room</th>\n",
       "      <th>Price</th>\n",
       "    </tr>\n",
       "  </thead>\n",
       "  <tbody>\n",
       "    <tr>\n",
       "      <th>count</th>\n",
       "      <td>3479</td>\n",
       "      <td>3479</td>\n",
       "      <td>3479</td>\n",
       "    </tr>\n",
       "    <tr>\n",
       "      <th>mean</th>\n",
       "      <td>8744000</td>\n",
       "      <td>2</td>\n",
       "      <td>5359022711</td>\n",
       "    </tr>\n",
       "    <tr>\n",
       "      <th>std</th>\n",
       "      <td>316726629</td>\n",
       "      <td>1</td>\n",
       "      <td>8099934524</td>\n",
       "    </tr>\n",
       "    <tr>\n",
       "      <th>min</th>\n",
       "      <td>30</td>\n",
       "      <td>0</td>\n",
       "      <td>3600000</td>\n",
       "    </tr>\n",
       "    <tr>\n",
       "      <th>25%</th>\n",
       "      <td>69</td>\n",
       "      <td>2</td>\n",
       "      <td>1418250000</td>\n",
       "    </tr>\n",
       "    <tr>\n",
       "      <th>50%</th>\n",
       "      <td>90</td>\n",
       "      <td>2</td>\n",
       "      <td>2900000000</td>\n",
       "    </tr>\n",
       "    <tr>\n",
       "      <th>75%</th>\n",
       "      <td>120</td>\n",
       "      <td>2</td>\n",
       "      <td>6000000000</td>\n",
       "    </tr>\n",
       "    <tr>\n",
       "      <th>max</th>\n",
       "      <td>16160000000</td>\n",
       "      <td>5</td>\n",
       "      <td>92400000000</td>\n",
       "    </tr>\n",
       "  </tbody>\n",
       "</table>\n",
       "</div>"
      ],
      "text/plain": [
       "             Area  Room       Price\n",
       "count        3479  3479        3479\n",
       "mean      8744000     2  5359022711\n",
       "std     316726629     1  8099934524\n",
       "min            30     0     3600000\n",
       "25%            69     2  1418250000\n",
       "50%            90     2  2900000000\n",
       "75%           120     2  6000000000\n",
       "max   16160000000     5 92400000000"
      ]
     },
     "execution_count": 54,
     "metadata": {},
     "output_type": "execute_result"
    }
   ],
   "source": [
    "df.describe()"
   ]
  },
  {
   "cell_type": "code",
   "execution_count": 55,
   "id": "b264b651",
   "metadata": {
    "execution": {
     "iopub.execute_input": "2022-08-10T05:50:57.337912Z",
     "iopub.status.busy": "2022-08-10T05:50:57.337130Z",
     "iopub.status.idle": "2022-08-10T05:50:57.343761Z",
     "shell.execute_reply": "2022-08-10T05:50:57.342743Z"
    },
    "papermill": {
     "duration": 0.028536,
     "end_time": "2022-08-10T05:50:57.345992",
     "exception": false,
     "start_time": "2022-08-10T05:50:57.317456",
     "status": "completed"
    },
    "tags": []
   },
   "outputs": [
    {
     "data": {
      "text/plain": [
       "(3479, 7)"
      ]
     },
     "execution_count": 55,
     "metadata": {},
     "output_type": "execute_result"
    }
   ],
   "source": [
    "df.shape"
   ]
  },
  {
   "cell_type": "code",
   "execution_count": 56,
   "id": "c5c54f74",
   "metadata": {
    "execution": {
     "iopub.execute_input": "2022-08-10T05:50:57.385618Z",
     "iopub.status.busy": "2022-08-10T05:50:57.385142Z",
     "iopub.status.idle": "2022-08-10T05:50:57.391571Z",
     "shell.execute_reply": "2022-08-10T05:50:57.390310Z"
    },
    "papermill": {
     "duration": 0.031099,
     "end_time": "2022-08-10T05:50:57.395749",
     "exception": false,
     "start_time": "2022-08-10T05:50:57.364650",
     "status": "completed"
    },
    "tags": []
   },
   "outputs": [
    {
     "name": "stdout",
     "output_type": "stream",
     "text": [
      "Area          int64\n",
      "Room          int64\n",
      "Parking        bool\n",
      "Warehouse      bool\n",
      "Elevator       bool\n",
      "Address      object\n",
      "Price         int64\n",
      "dtype: object\n"
     ]
    }
   ],
   "source": [
    "# check for data type\n",
    "print(df.dtypes)"
   ]
  },
  {
   "cell_type": "code",
   "execution_count": 57,
   "id": "e6f869c9",
   "metadata": {
    "execution": {
     "iopub.execute_input": "2022-08-10T05:50:57.436369Z",
     "iopub.status.busy": "2022-08-10T05:50:57.435535Z",
     "iopub.status.idle": "2022-08-10T05:50:57.446614Z",
     "shell.execute_reply": "2022-08-10T05:50:57.445341Z"
    },
    "papermill": {
     "duration": 0.034449,
     "end_time": "2022-08-10T05:50:57.449124",
     "exception": false,
     "start_time": "2022-08-10T05:50:57.414675",
     "status": "completed"
    },
    "tags": []
   },
   "outputs": [
    {
     "data": {
      "text/plain": [
       "Area          0\n",
       "Room          0\n",
       "Parking       0\n",
       "Warehouse     0\n",
       "Elevator      0\n",
       "Address      23\n",
       "Price         0\n",
       "dtype: int64"
      ]
     },
     "execution_count": 57,
     "metadata": {},
     "output_type": "execute_result"
    }
   ],
   "source": [
    "df.isnull().sum()"
   ]
  },
  {
   "cell_type": "code",
   "execution_count": 58,
   "metadata": {},
   "outputs": [
    {
     "data": {
      "text/plain": [
       "193"
      ]
     },
     "execution_count": 58,
     "metadata": {},
     "output_type": "execute_result"
    }
   ],
   "source": [
    "len(df.Address.unique())"
   ]
  },
  {
   "cell_type": "code",
   "execution_count": 59,
   "id": "daee6385",
   "metadata": {
    "execution": {
     "iopub.execute_input": "2022-08-10T05:50:57.490016Z",
     "iopub.status.busy": "2022-08-10T05:50:57.489289Z",
     "iopub.status.idle": "2022-08-10T05:50:57.497880Z",
     "shell.execute_reply": "2022-08-10T05:50:57.496825Z"
    },
    "papermill": {
     "duration": 0.032331,
     "end_time": "2022-08-10T05:50:57.500709",
     "exception": false,
     "start_time": "2022-08-10T05:50:57.468378",
     "status": "completed"
    },
    "tags": []
   },
   "outputs": [],
   "source": [
    "# I will drop missing values although it is not necessary because used models can manage missing values.\n",
    "df.dropna(inplace=True)"
   ]
  },
  {
   "cell_type": "code",
   "execution_count": 60,
   "id": "dbcfed44",
   "metadata": {
    "execution": {
     "iopub.execute_input": "2022-08-10T05:50:57.541272Z",
     "iopub.status.busy": "2022-08-10T05:50:57.540621Z",
     "iopub.status.idle": "2022-08-10T05:50:57.547194Z",
     "shell.execute_reply": "2022-08-10T05:50:57.545986Z"
    },
    "papermill": {
     "duration": 0.029328,
     "end_time": "2022-08-10T05:50:57.549479",
     "exception": false,
     "start_time": "2022-08-10T05:50:57.520151",
     "status": "completed"
    },
    "tags": []
   },
   "outputs": [
    {
     "data": {
      "text/plain": [
       "(3456, 7)"
      ]
     },
     "execution_count": 60,
     "metadata": {},
     "output_type": "execute_result"
    }
   ],
   "source": [
    "df.shape"
   ]
  },
  {
   "cell_type": "code",
   "execution_count": 61,
   "id": "bba02fb6",
   "metadata": {
    "execution": {
     "iopub.execute_input": "2022-08-10T05:50:57.589767Z",
     "iopub.status.busy": "2022-08-10T05:50:57.589057Z",
     "iopub.status.idle": "2022-08-10T05:50:57.597964Z",
     "shell.execute_reply": "2022-08-10T05:50:57.596888Z"
    },
    "papermill": {
     "duration": 0.031618,
     "end_time": "2022-08-10T05:50:57.600214",
     "exception": false,
     "start_time": "2022-08-10T05:50:57.568596",
     "status": "completed"
    },
    "tags": []
   },
   "outputs": [
    {
     "data": {
      "text/plain": [
       "True    85\n",
       "False   15\n",
       "Name: Parking, dtype: float64"
      ]
     },
     "execution_count": 61,
     "metadata": {},
     "output_type": "execute_result"
    }
   ],
   "source": [
    "df['Parking'].value_counts(normalize=True)*100"
   ]
  },
  {
   "cell_type": "code",
   "execution_count": 62,
   "id": "acefd2c9",
   "metadata": {
    "execution": {
     "iopub.execute_input": "2022-08-10T05:50:57.640066Z",
     "iopub.status.busy": "2022-08-10T05:50:57.639457Z",
     "iopub.status.idle": "2022-08-10T05:50:57.667955Z",
     "shell.execute_reply": "2022-08-10T05:50:57.666982Z"
    },
    "papermill": {
     "duration": 0.051214,
     "end_time": "2022-08-10T05:50:57.670183",
     "exception": false,
     "start_time": "2022-08-10T05:50:57.618969",
     "status": "completed"
    },
    "tags": []
   },
   "outputs": [
    {
     "data": {
      "text/html": [
       "<div>\n",
       "<style scoped>\n",
       "    .dataframe tbody tr th:only-of-type {\n",
       "        vertical-align: middle;\n",
       "    }\n",
       "\n",
       "    .dataframe tbody tr th {\n",
       "        vertical-align: top;\n",
       "    }\n",
       "\n",
       "    .dataframe thead th {\n",
       "        text-align: right;\n",
       "    }\n",
       "</style>\n",
       "<table border=\"1\" class=\"dataframe\">\n",
       "  <thead>\n",
       "    <tr style=\"text-align: right;\">\n",
       "      <th>Room</th>\n",
       "      <th>0</th>\n",
       "      <th>1</th>\n",
       "      <th>2</th>\n",
       "      <th>3</th>\n",
       "      <th>4</th>\n",
       "      <th>5</th>\n",
       "    </tr>\n",
       "    <tr>\n",
       "      <th>Parking</th>\n",
       "      <th></th>\n",
       "      <th></th>\n",
       "      <th></th>\n",
       "      <th></th>\n",
       "      <th></th>\n",
       "      <th></th>\n",
       "    </tr>\n",
       "  </thead>\n",
       "  <tbody>\n",
       "    <tr>\n",
       "      <th>False</th>\n",
       "      <td>8</td>\n",
       "      <td>243</td>\n",
       "      <td>244</td>\n",
       "      <td>26</td>\n",
       "      <td>1</td>\n",
       "      <td>5</td>\n",
       "    </tr>\n",
       "    <tr>\n",
       "      <th>True</th>\n",
       "      <td>2</td>\n",
       "      <td>426</td>\n",
       "      <td>1699</td>\n",
       "      <td>705</td>\n",
       "      <td>69</td>\n",
       "      <td>28</td>\n",
       "    </tr>\n",
       "  </tbody>\n",
       "</table>\n",
       "</div>"
      ],
      "text/plain": [
       "Room     0    1     2    3   4   5\n",
       "Parking                           \n",
       "False    8  243   244   26   1   5\n",
       "True     2  426  1699  705  69  28"
      ]
     },
     "execution_count": 62,
     "metadata": {},
     "output_type": "execute_result"
    }
   ],
   "source": [
    "pd.crosstab( df.Parking, df.Room )"
   ]
  },
  {
   "cell_type": "code",
   "execution_count": 63,
   "id": "add7360d",
   "metadata": {
    "execution": {
     "iopub.execute_input": "2022-08-10T05:50:57.710882Z",
     "iopub.status.busy": "2022-08-10T05:50:57.710207Z",
     "iopub.status.idle": "2022-08-10T05:50:57.717776Z",
     "shell.execute_reply": "2022-08-10T05:50:57.716642Z"
    },
    "papermill": {
     "duration": 0.030515,
     "end_time": "2022-08-10T05:50:57.720019",
     "exception": false,
     "start_time": "2022-08-10T05:50:57.689504",
     "status": "completed"
    },
    "tags": []
   },
   "outputs": [
    {
     "data": {
      "text/plain": [
       "1522"
      ]
     },
     "execution_count": 63,
     "metadata": {},
     "output_type": "execute_result"
    }
   ],
   "source": [
    "below_85 = df[ df.Area <= 85 ]\n",
    "len(below_85)"
   ]
  },
  {
   "cell_type": "code",
   "execution_count": 64,
   "id": "580e6062",
   "metadata": {
    "execution": {
     "iopub.execute_input": "2022-08-10T05:50:57.761274Z",
     "iopub.status.busy": "2022-08-10T05:50:57.760499Z",
     "iopub.status.idle": "2022-08-10T05:50:57.769657Z",
     "shell.execute_reply": "2022-08-10T05:50:57.768543Z"
    },
    "papermill": {
     "duration": 0.032817,
     "end_time": "2022-08-10T05:50:57.771916",
     "exception": false,
     "start_time": "2022-08-10T05:50:57.739099",
     "status": "completed"
    },
    "tags": []
   },
   "outputs": [
    {
     "data": {
      "text/plain": [
       "True     1104\n",
       "False     418\n",
       "Name: Parking, dtype: int64"
      ]
     },
     "execution_count": 64,
     "metadata": {},
     "output_type": "execute_result"
    }
   ],
   "source": [
    "df[ df.Area <= 85 ][\"Parking\"].value_counts( )"
   ]
  },
  {
   "cell_type": "code",
   "execution_count": 65,
   "id": "714d19e9",
   "metadata": {
    "execution": {
     "iopub.execute_input": "2022-08-10T05:50:57.814045Z",
     "iopub.status.busy": "2022-08-10T05:50:57.813356Z",
     "iopub.status.idle": "2022-08-10T05:50:57.821024Z",
     "shell.execute_reply": "2022-08-10T05:50:57.820181Z"
    },
    "papermill": {
     "duration": 0.031557,
     "end_time": "2022-08-10T05:50:57.823454",
     "exception": false,
     "start_time": "2022-08-10T05:50:57.791897",
     "status": "completed"
    },
    "scrolled": true,
    "tags": []
   },
   "outputs": [
    {
     "data": {
      "text/plain": [
       "array(['Shahran', 'Pardis', 'Shahrake Qods', 'Shahrake Gharb',\n",
       "       'North Program Organization', 'Andisheh', 'West Ferdows Boulevard',\n",
       "       'Narmak', 'Saadat Abad', 'Zafar', 'Islamshahr', 'Pirouzi',\n",
       "       'Shahrake Shahid Bagheri', 'Moniriyeh', 'Velenjak', 'Amirieh',\n",
       "       'Southern Janatabad', 'Salsabil', 'Zargandeh', 'Feiz Garden',\n",
       "       'Water Organization', 'ShahrAra', 'Gisha', 'Ray', 'Abbasabad',\n",
       "       'Ostad Moein', 'Farmanieh', 'Parand', 'Punak', 'Qasr-od-Dasht',\n",
       "       'Aqdasieh', 'Pakdasht', 'Railway', 'Central Janatabad',\n",
       "       'East Ferdows Boulevard', 'Pakdasht KhatunAbad', 'Sattarkhan',\n",
       "       'Baghestan', 'Shahryar', 'Northern Janatabad', 'Daryan No',\n",
       "       'Southern Program Organization', 'Rudhen', 'West Pars', 'Afsarieh',\n",
       "       'Marzdaran', 'Dorous', 'Sadeghieh', 'Chahardangeh', 'Baqershahr',\n",
       "       'Jeyhoon', 'Lavizan', 'Shams Abad', 'Fatemi',\n",
       "       'Keshavarz Boulevard', 'Kahrizak', 'Qarchak',\n",
       "       'Northren Jamalzadeh', 'Azarbaijan', 'Bahar',\n",
       "       'Persian Gulf Martyrs Lake', 'Beryanak', 'Heshmatieh',\n",
       "       'Elm-o-Sanat', 'Golestan', 'Shahr-e-Ziba', 'Pasdaran',\n",
       "       'Chardivari', 'Gheitarieh', 'Kamranieh', 'Gholhak', 'Heravi',\n",
       "       'Hashemi', 'Dehkade Olampic', 'Damavand', 'Republic', 'Zaferanieh',\n",
       "       'Qazvin Imamzadeh Hassan', 'Niavaran', 'Valiasr', 'Qalandari',\n",
       "       'Amir Bahador', 'Ekhtiarieh', 'Ekbatan', 'Absard', 'Haft Tir',\n",
       "       'Mahallati', 'Ozgol', 'Tajrish', 'Abazar', 'Koohsar', 'Hekmat',\n",
       "       'Parastar', 'Lavasan', 'Majidieh', 'Southern Chitgar', 'Karimkhan',\n",
       "       'Si Metri Ji', 'Karoon', 'Northern Chitgar', 'East Pars', 'Kook',\n",
       "       'Air force', 'Sohanak', 'Komeil', 'Azadshahr', 'Zibadasht',\n",
       "       'Amirabad', 'Dezashib', 'Elahieh', 'Mirdamad', 'Razi', 'Jordan',\n",
       "       'Mahmoudieh', 'Shahedshahr', 'Yaftabad', 'Mehran', 'Nasim Shahr',\n",
       "       'Tenant', 'Chardangeh', 'Fallah', 'Eskandari', 'Shahrakeh Naft',\n",
       "       'Ajudaniye', 'Tehransar', 'Nawab', 'Yousef Abad',\n",
       "       'Northern Suhrawardi', 'Villa', 'Hakimiyeh', 'Nezamabad',\n",
       "       'Garden of Saba', 'Tarasht', 'Azari', 'Shahrake Apadana', 'Araj',\n",
       "       'Vahidieh', 'Malard', 'Shahrake Azadi', 'Darband', 'Vanak',\n",
       "       'Tehran Now', 'Darabad', 'Eram', 'Atabak', 'Sabalan', 'SabaShahr',\n",
       "       'Shahrake Madaen', 'Waterfall', 'Ahang', 'Salehabad', 'Pishva',\n",
       "       'Enghelab', 'Islamshahr Elahieh', 'Ray - Montazeri',\n",
       "       'Firoozkooh Kuhsar', 'Ghoba', 'Mehrabad', 'Southern Suhrawardi',\n",
       "       'Abuzar', 'Dolatabad', 'Hor Square', 'Taslihat', 'Kazemabad',\n",
       "       'Robat Karim', 'Ray - Pilgosh', 'Ghiyamdasht', 'Telecommunication',\n",
       "       'Mirza Shirazi', 'Gandhi', 'Argentina', 'Seyed Khandan',\n",
       "       'Shahrake Quds', 'Safadasht', 'Khademabad Garden', 'Hassan Abad',\n",
       "       'Chidz', 'Khavaran', 'Boloorsazi', 'Mehrabad River River',\n",
       "       'Varamin - Beheshti', 'Shoosh', 'Thirteen November', 'Darakeh',\n",
       "       'Aliabad South', 'Alborz Complex', 'Firoozkooh', 'Vahidiyeh',\n",
       "       'Shadabad', 'Naziabad', 'Javadiyeh', 'Yakhchiabad'], dtype=object)"
      ]
     },
     "execution_count": 65,
     "metadata": {},
     "output_type": "execute_result"
    }
   ],
   "source": [
    "df.Address.unique()\n"
   ]
  },
  {
   "cell_type": "code",
   "execution_count": 66,
   "id": "be2b60a5",
   "metadata": {
    "execution": {
     "iopub.execute_input": "2022-08-10T05:50:57.866571Z",
     "iopub.status.busy": "2022-08-10T05:50:57.866108Z",
     "iopub.status.idle": "2022-08-10T05:50:57.874467Z",
     "shell.execute_reply": "2022-08-10T05:50:57.873207Z"
    },
    "papermill": {
     "duration": 0.033113,
     "end_time": "2022-08-10T05:50:57.876930",
     "exception": false,
     "start_time": "2022-08-10T05:50:57.843817",
     "status": "completed"
    },
    "tags": []
   },
   "outputs": [
    {
     "data": {
      "text/plain": [
       "192"
      ]
     },
     "execution_count": 66,
     "metadata": {},
     "output_type": "execute_result"
    }
   ],
   "source": [
    "len(df.Address.unique())"
   ]
  },
  {
   "cell_type": "code",
   "execution_count": 67,
   "id": "db2c9397",
   "metadata": {
    "execution": {
     "iopub.execute_input": "2022-08-10T05:50:57.918862Z",
     "iopub.status.busy": "2022-08-10T05:50:57.918443Z",
     "iopub.status.idle": "2022-08-10T05:50:57.926129Z",
     "shell.execute_reply": "2022-08-10T05:50:57.925252Z"
    },
    "papermill": {
     "duration": 0.031583,
     "end_time": "2022-08-10T05:50:57.928736",
     "exception": false,
     "start_time": "2022-08-10T05:50:57.897153",
     "status": "completed"
    },
    "tags": []
   },
   "outputs": [
    {
     "data": {
      "text/plain": [
       "5379956887"
      ]
     },
     "execution_count": 67,
     "metadata": {},
     "output_type": "execute_result"
    }
   ],
   "source": [
    "round(df.Price.mean())"
   ]
  },
  {
   "cell_type": "code",
   "execution_count": 68,
   "id": "7c0ac57a",
   "metadata": {
    "execution": {
     "iopub.execute_input": "2022-08-10T05:50:57.971254Z",
     "iopub.status.busy": "2022-08-10T05:50:57.970086Z",
     "iopub.status.idle": "2022-08-10T05:50:57.982527Z",
     "shell.execute_reply": "2022-08-10T05:50:57.981214Z"
    },
    "papermill": {
     "duration": 0.03658,
     "end_time": "2022-08-10T05:50:57.985009",
     "exception": false,
     "start_time": "2022-08-10T05:50:57.948429",
     "status": "completed"
    },
    "tags": []
   },
   "outputs": [
    {
     "data": {
      "text/plain": [
       "Room\n",
       "0    7860500000\n",
       "1    1707480867\n",
       "2    3330303037\n",
       "3   10938692886\n",
       "4   25600328571\n",
       "5   33734393939\n",
       "Name: Price, dtype: float64"
      ]
     },
     "execution_count": 68,
     "metadata": {},
     "output_type": "execute_result"
    }
   ],
   "source": [
    "df.groupby( 'Room' )['Price'].mean()"
   ]
  },
  {
   "cell_type": "code",
   "execution_count": 69,
   "id": "51360655",
   "metadata": {
    "execution": {
     "iopub.execute_input": "2022-08-10T05:50:58.027246Z",
     "iopub.status.busy": "2022-08-10T05:50:58.026790Z",
     "iopub.status.idle": "2022-08-10T05:50:58.032614Z",
     "shell.execute_reply": "2022-08-10T05:50:58.031447Z"
    },
    "papermill": {
     "duration": 0.029473,
     "end_time": "2022-08-10T05:50:58.034885",
     "exception": false,
     "start_time": "2022-08-10T05:50:58.005412",
     "status": "completed"
    },
    "tags": []
   },
   "outputs": [],
   "source": [
    "pd.set_option('display.float_format', lambda x: '%.f' % x)"
   ]
  },
  {
   "cell_type": "code",
   "execution_count": 70,
   "id": "eb043016",
   "metadata": {
    "execution": {
     "iopub.execute_input": "2022-08-10T05:50:58.076985Z",
     "iopub.status.busy": "2022-08-10T05:50:58.076229Z",
     "iopub.status.idle": "2022-08-10T05:50:58.090954Z",
     "shell.execute_reply": "2022-08-10T05:50:58.089795Z"
    },
    "papermill": {
     "duration": 0.038511,
     "end_time": "2022-08-10T05:50:58.093558",
     "exception": false,
     "start_time": "2022-08-10T05:50:58.055047",
     "status": "completed"
    },
    "tags": []
   },
   "outputs": [
    {
     "data": {
      "text/html": [
       "<div>\n",
       "<style scoped>\n",
       "    .dataframe tbody tr th:only-of-type {\n",
       "        vertical-align: middle;\n",
       "    }\n",
       "\n",
       "    .dataframe tbody tr th {\n",
       "        vertical-align: top;\n",
       "    }\n",
       "\n",
       "    .dataframe thead th {\n",
       "        text-align: right;\n",
       "    }\n",
       "</style>\n",
       "<table border=\"1\" class=\"dataframe\">\n",
       "  <thead>\n",
       "    <tr style=\"text-align: right;\">\n",
       "      <th></th>\n",
       "      <th>Room</th>\n",
       "      <th>Parking</th>\n",
       "      <th>Price</th>\n",
       "    </tr>\n",
       "  </thead>\n",
       "  <tbody>\n",
       "    <tr>\n",
       "      <th>0</th>\n",
       "      <td>0</td>\n",
       "      <td>False</td>\n",
       "      <td>9769750000</td>\n",
       "    </tr>\n",
       "    <tr>\n",
       "      <th>1</th>\n",
       "      <td>0</td>\n",
       "      <td>True</td>\n",
       "      <td>223500000</td>\n",
       "    </tr>\n",
       "    <tr>\n",
       "      <th>2</th>\n",
       "      <td>1</td>\n",
       "      <td>False</td>\n",
       "      <td>1139677778</td>\n",
       "    </tr>\n",
       "    <tr>\n",
       "      <th>3</th>\n",
       "      <td>1</td>\n",
       "      <td>True</td>\n",
       "      <td>2031368545</td>\n",
       "    </tr>\n",
       "    <tr>\n",
       "      <th>4</th>\n",
       "      <td>2</td>\n",
       "      <td>False</td>\n",
       "      <td>1501674180</td>\n",
       "    </tr>\n",
       "    <tr>\n",
       "      <th>5</th>\n",
       "      <td>2</td>\n",
       "      <td>True</td>\n",
       "      <td>3592919541</td>\n",
       "    </tr>\n",
       "    <tr>\n",
       "      <th>6</th>\n",
       "      <td>3</td>\n",
       "      <td>False</td>\n",
       "      <td>5107865385</td>\n",
       "    </tr>\n",
       "    <tr>\n",
       "      <th>7</th>\n",
       "      <td>3</td>\n",
       "      <td>True</td>\n",
       "      <td>11153730496</td>\n",
       "    </tr>\n",
       "    <tr>\n",
       "      <th>8</th>\n",
       "      <td>4</td>\n",
       "      <td>False</td>\n",
       "      <td>6200000000</td>\n",
       "    </tr>\n",
       "    <tr>\n",
       "      <th>9</th>\n",
       "      <td>4</td>\n",
       "      <td>True</td>\n",
       "      <td>25881492754</td>\n",
       "    </tr>\n",
       "    <tr>\n",
       "      <th>10</th>\n",
       "      <td>5</td>\n",
       "      <td>False</td>\n",
       "      <td>9999000000</td>\n",
       "    </tr>\n",
       "    <tr>\n",
       "      <th>11</th>\n",
       "      <td>5</td>\n",
       "      <td>True</td>\n",
       "      <td>37972857143</td>\n",
       "    </tr>\n",
       "  </tbody>\n",
       "</table>\n",
       "</div>"
      ],
      "text/plain": [
       "    Room  Parking       Price\n",
       "0      0    False  9769750000\n",
       "1      0     True   223500000\n",
       "2      1    False  1139677778\n",
       "3      1     True  2031368545\n",
       "4      2    False  1501674180\n",
       "5      2     True  3592919541\n",
       "6      3    False  5107865385\n",
       "7      3     True 11153730496\n",
       "8      4    False  6200000000\n",
       "9      4     True 25881492754\n",
       "10     5    False  9999000000\n",
       "11     5     True 37972857143"
      ]
     },
     "execution_count": 70,
     "metadata": {},
     "output_type": "execute_result"
    }
   ],
   "source": [
    "room_parking_room_mean_df = df.groupby( ['Room','Parking'] )['Price'].mean().reset_index()\n",
    "room_parking_room_mean_df"
   ]
  },
  {
   "cell_type": "code",
   "execution_count": 71,
   "id": "b4f7b60c",
   "metadata": {
    "execution": {
     "iopub.execute_input": "2022-08-10T05:50:58.136431Z",
     "iopub.status.busy": "2022-08-10T05:50:58.135692Z",
     "iopub.status.idle": "2022-08-10T05:50:58.140547Z",
     "shell.execute_reply": "2022-08-10T05:50:58.139571Z"
    },
    "papermill": {
     "duration": 0.028881,
     "end_time": "2022-08-10T05:50:58.142781",
     "exception": false,
     "start_time": "2022-08-10T05:50:58.113900",
     "status": "completed"
    },
    "tags": []
   },
   "outputs": [],
   "source": [
    "df2 = df.copy()"
   ]
  },
  {
   "cell_type": "markdown",
   "id": "18d69c7e",
   "metadata": {
    "papermill": {
     "duration": 0.020271,
     "end_time": "2022-08-10T05:50:58.183568",
     "exception": false,
     "start_time": "2022-08-10T05:50:58.163297",
     "status": "completed"
    },
    "tags": []
   },
   "source": [
    "<img src=\"https://miro.medium.com/max/673/1*qjgJioWHslZbbm9JW_rIDw.png\" width=60% />"
   ]
  },
  {
   "cell_type": "code",
   "execution_count": 72,
   "id": "cd4063a2",
   "metadata": {
    "execution": {
     "iopub.execute_input": "2022-08-10T05:50:58.226250Z",
     "iopub.status.busy": "2022-08-10T05:50:58.225514Z",
     "iopub.status.idle": "2022-08-10T05:50:58.235101Z",
     "shell.execute_reply": "2022-08-10T05:50:58.233716Z"
    },
    "papermill": {
     "duration": 0.033887,
     "end_time": "2022-08-10T05:50:58.237797",
     "exception": false,
     "start_time": "2022-08-10T05:50:58.203910",
     "status": "completed"
    },
    "tags": []
   },
   "outputs": [],
   "source": [
    "df2.loc[:, \"Price\"] =df[\"Price\"].map('{:,.0f}'.format)"
   ]
  },
  {
   "cell_type": "code",
   "execution_count": 73,
   "id": "737d39fa",
   "metadata": {
    "execution": {
     "iopub.execute_input": "2022-08-10T05:50:58.280958Z",
     "iopub.status.busy": "2022-08-10T05:50:58.280231Z",
     "iopub.status.idle": "2022-08-10T05:50:58.297219Z",
     "shell.execute_reply": "2022-08-10T05:50:58.296173Z"
    },
    "papermill": {
     "duration": 0.04118,
     "end_time": "2022-08-10T05:50:58.299530",
     "exception": false,
     "start_time": "2022-08-10T05:50:58.258350",
     "status": "completed"
    },
    "tags": []
   },
   "outputs": [
    {
     "data": {
      "text/html": [
       "<div>\n",
       "<style scoped>\n",
       "    .dataframe tbody tr th:only-of-type {\n",
       "        vertical-align: middle;\n",
       "    }\n",
       "\n",
       "    .dataframe tbody tr th {\n",
       "        vertical-align: top;\n",
       "    }\n",
       "\n",
       "    .dataframe thead th {\n",
       "        text-align: right;\n",
       "    }\n",
       "</style>\n",
       "<table border=\"1\" class=\"dataframe\">\n",
       "  <thead>\n",
       "    <tr style=\"text-align: right;\">\n",
       "      <th></th>\n",
       "      <th>Area</th>\n",
       "      <th>Room</th>\n",
       "      <th>Parking</th>\n",
       "      <th>Warehouse</th>\n",
       "      <th>Elevator</th>\n",
       "      <th>Address</th>\n",
       "      <th>Price</th>\n",
       "    </tr>\n",
       "  </thead>\n",
       "  <tbody>\n",
       "    <tr>\n",
       "      <th>0</th>\n",
       "      <td>63</td>\n",
       "      <td>1</td>\n",
       "      <td>True</td>\n",
       "      <td>True</td>\n",
       "      <td>True</td>\n",
       "      <td>Shahran</td>\n",
       "      <td>1,850,000,000</td>\n",
       "    </tr>\n",
       "    <tr>\n",
       "      <th>1</th>\n",
       "      <td>60</td>\n",
       "      <td>1</td>\n",
       "      <td>True</td>\n",
       "      <td>True</td>\n",
       "      <td>True</td>\n",
       "      <td>Shahran</td>\n",
       "      <td>1,850,000,000</td>\n",
       "    </tr>\n",
       "    <tr>\n",
       "      <th>2</th>\n",
       "      <td>79</td>\n",
       "      <td>2</td>\n",
       "      <td>True</td>\n",
       "      <td>True</td>\n",
       "      <td>True</td>\n",
       "      <td>Pardis</td>\n",
       "      <td>550,000,000</td>\n",
       "    </tr>\n",
       "    <tr>\n",
       "      <th>3</th>\n",
       "      <td>95</td>\n",
       "      <td>2</td>\n",
       "      <td>True</td>\n",
       "      <td>True</td>\n",
       "      <td>True</td>\n",
       "      <td>Shahrake Qods</td>\n",
       "      <td>902,500,000</td>\n",
       "    </tr>\n",
       "    <tr>\n",
       "      <th>4</th>\n",
       "      <td>123</td>\n",
       "      <td>2</td>\n",
       "      <td>True</td>\n",
       "      <td>True</td>\n",
       "      <td>True</td>\n",
       "      <td>Shahrake Gharb</td>\n",
       "      <td>7,000,000,000</td>\n",
       "    </tr>\n",
       "    <tr>\n",
       "      <th>...</th>\n",
       "      <td>...</td>\n",
       "      <td>...</td>\n",
       "      <td>...</td>\n",
       "      <td>...</td>\n",
       "      <td>...</td>\n",
       "      <td>...</td>\n",
       "      <td>...</td>\n",
       "    </tr>\n",
       "    <tr>\n",
       "      <th>3474</th>\n",
       "      <td>86</td>\n",
       "      <td>2</td>\n",
       "      <td>True</td>\n",
       "      <td>True</td>\n",
       "      <td>True</td>\n",
       "      <td>Southern Janatabad</td>\n",
       "      <td>3,500,000,000</td>\n",
       "    </tr>\n",
       "    <tr>\n",
       "      <th>3475</th>\n",
       "      <td>83</td>\n",
       "      <td>2</td>\n",
       "      <td>True</td>\n",
       "      <td>True</td>\n",
       "      <td>True</td>\n",
       "      <td>Niavaran</td>\n",
       "      <td>6,800,000,000</td>\n",
       "    </tr>\n",
       "    <tr>\n",
       "      <th>3476</th>\n",
       "      <td>75</td>\n",
       "      <td>2</td>\n",
       "      <td>False</td>\n",
       "      <td>False</td>\n",
       "      <td>False</td>\n",
       "      <td>Parand</td>\n",
       "      <td>365,000,000</td>\n",
       "    </tr>\n",
       "    <tr>\n",
       "      <th>3477</th>\n",
       "      <td>105</td>\n",
       "      <td>2</td>\n",
       "      <td>True</td>\n",
       "      <td>True</td>\n",
       "      <td>True</td>\n",
       "      <td>Dorous</td>\n",
       "      <td>5,600,000,000</td>\n",
       "    </tr>\n",
       "    <tr>\n",
       "      <th>3478</th>\n",
       "      <td>82</td>\n",
       "      <td>2</td>\n",
       "      <td>False</td>\n",
       "      <td>True</td>\n",
       "      <td>True</td>\n",
       "      <td>Parand</td>\n",
       "      <td>360,000,000</td>\n",
       "    </tr>\n",
       "  </tbody>\n",
       "</table>\n",
       "<p>3456 rows × 7 columns</p>\n",
       "</div>"
      ],
      "text/plain": [
       "      Area  Room  Parking  Warehouse  Elevator             Address  \\\n",
       "0       63     1     True       True      True             Shahran   \n",
       "1       60     1     True       True      True             Shahran   \n",
       "2       79     2     True       True      True              Pardis   \n",
       "3       95     2     True       True      True       Shahrake Qods   \n",
       "4      123     2     True       True      True      Shahrake Gharb   \n",
       "...    ...   ...      ...        ...       ...                 ...   \n",
       "3474    86     2     True       True      True  Southern Janatabad   \n",
       "3475    83     2     True       True      True            Niavaran   \n",
       "3476    75     2    False      False     False              Parand   \n",
       "3477   105     2     True       True      True              Dorous   \n",
       "3478    82     2    False       True      True              Parand   \n",
       "\n",
       "              Price  \n",
       "0     1,850,000,000  \n",
       "1     1,850,000,000  \n",
       "2       550,000,000  \n",
       "3       902,500,000  \n",
       "4     7,000,000,000  \n",
       "...             ...  \n",
       "3474  3,500,000,000  \n",
       "3475  6,800,000,000  \n",
       "3476    365,000,000  \n",
       "3477  5,600,000,000  \n",
       "3478    360,000,000  \n",
       "\n",
       "[3456 rows x 7 columns]"
      ]
     },
     "execution_count": 73,
     "metadata": {},
     "output_type": "execute_result"
    }
   ],
   "source": [
    "df2"
   ]
  },
  {
   "cell_type": "code",
   "execution_count": 74,
   "id": "e05c4509",
   "metadata": {
    "execution": {
     "iopub.execute_input": "2022-08-10T05:50:58.344056Z",
     "iopub.status.busy": "2022-08-10T05:50:58.343345Z",
     "iopub.status.idle": "2022-08-10T05:50:58.350859Z",
     "shell.execute_reply": "2022-08-10T05:50:58.349938Z"
    },
    "papermill": {
     "duration": 0.03241,
     "end_time": "2022-08-10T05:50:58.353090",
     "exception": false,
     "start_time": "2022-08-10T05:50:58.320680",
     "status": "completed"
    },
    "tags": []
   },
   "outputs": [
    {
     "data": {
      "text/plain": [
       "Area          int64\n",
       "Room          int64\n",
       "Parking        bool\n",
       "Warehouse      bool\n",
       "Elevator       bool\n",
       "Address      object\n",
       "Price         int64\n",
       "dtype: object"
      ]
     },
     "execution_count": 74,
     "metadata": {},
     "output_type": "execute_result"
    }
   ],
   "source": [
    "df.dtypes"
   ]
  },
  {
   "cell_type": "markdown",
   "id": "d58f7ed4",
   "metadata": {
    "papermill": {
     "duration": 0.022427,
     "end_time": "2022-08-10T05:50:58.396773",
     "exception": false,
     "start_time": "2022-08-10T05:50:58.374346",
     "status": "completed"
    },
    "tags": []
   },
   "source": [
    "# Visualizaion"
   ]
  },
  {
   "cell_type": "code",
   "execution_count": 75,
   "id": "8a2ae2d0",
   "metadata": {
    "execution": {
     "iopub.execute_input": "2022-08-10T05:50:58.441349Z",
     "iopub.status.busy": "2022-08-10T05:50:58.440590Z",
     "iopub.status.idle": "2022-08-10T05:50:58.817598Z",
     "shell.execute_reply": "2022-08-10T05:50:58.816215Z"
    },
    "papermill": {
     "duration": 0.40187,
     "end_time": "2022-08-10T05:50:58.820064",
     "exception": false,
     "start_time": "2022-08-10T05:50:58.418194",
     "status": "completed"
    },
    "tags": []
   },
   "outputs": [
    {
     "data": {
      "text/plain": [
       "<seaborn.axisgrid.FacetGrid at 0x297ac6f61c0>"
      ]
     },
     "execution_count": 75,
     "metadata": {},
     "output_type": "execute_result"
    },
    {
     "data": {
      "text/plain": [
       "<Figure size 800x500 with 0 Axes>"
      ]
     },
     "metadata": {},
     "output_type": "display_data"
    },
    {
     "data": {
      "image/png": "[encoded data removed]",
      "text/plain": [
       "<Figure size 500x500 with 1 Axes>"
      ]
     },
     "metadata": {},
     "output_type": "display_data"
    }
   ],
   "source": [
    "plt.figure(figsize=(8,5))\n",
    "sns.displot(df['Price'] , bins=30 , kde=True )"
   ]
  },
  {
   "cell_type": "code",
   "execution_count": 76,
   "id": "8bdd5d1a",
   "metadata": {
    "execution": {
     "iopub.execute_input": "2022-08-10T05:50:58.864501Z",
     "iopub.status.busy": "2022-08-10T05:50:58.863585Z",
     "iopub.status.idle": "2022-08-10T05:50:59.364826Z",
     "shell.execute_reply": "2022-08-10T05:50:59.363455Z"
    },
    "papermill": {
     "duration": 0.526357,
     "end_time": "2022-08-10T05:50:59.367408",
     "exception": false,
     "start_time": "2022-08-10T05:50:58.841051",
     "status": "completed"
    },
    "tags": []
   },
   "outputs": [
    {
     "data": {
      "text/plain": [
       "<AxesSubplot: >"
      ]
     },
     "execution_count": 76,
     "metadata": {},
     "output_type": "execute_result"
    },
    {
     "data": {
      "image/png": "[encoded data removed]",
      "text/plain": [
       "<Figure size 800x550 with 2 Axes>"
      ]
     },
     "metadata": {},
     "output_type": "display_data"
    }
   ],
   "source": [
    "sns.heatmap(df.corr(), annot=True,cmap='RdYlGn')"
   ]
  },
  {
   "cell_type": "code",
   "execution_count": 77,
   "id": "87141b11",
   "metadata": {
    "execution": {
     "iopub.execute_input": "2022-08-10T05:50:59.413288Z",
     "iopub.status.busy": "2022-08-10T05:50:59.412834Z",
     "iopub.status.idle": "2022-08-10T05:51:00.340078Z",
     "shell.execute_reply": "2022-08-10T05:51:00.338385Z"
    },
    "papermill": {
     "duration": 0.95333,
     "end_time": "2022-08-10T05:51:00.342665",
     "exception": false,
     "start_time": "2022-08-10T05:50:59.389335",
     "status": "completed"
    },
    "tags": []
   },
   "outputs": [
    {
     "data": {
      "image/png": "[encoded data removed]",
      "text/plain": [
       "<Figure size 1800x600 with 3 Axes>"
      ]
     },
     "metadata": {},
     "output_type": "display_data"
    }
   ],
   "source": [
    "fig, ax = plt.subplots(ncols=3, figsize=(18,6))\n",
    "\n",
    "colors = [['#ADEFD1FF', '#00203FFF'], ['#97BC62FF', '#2C5F2D'], ['#F5C7B8FF', '#FFA177FF']]\n",
    "explode = [0, 0.2]\n",
    "columns = ['Parking', 'Warehouse', 'Elevator']\n",
    "for i in range(3):\n",
    "        data = df[columns[i]].value_counts()\n",
    "        ax[i].pie(data, labels=data.values, explode=explode, colors=colors[i], shadow=True)\n",
    "        ax[i].legend(labels=data.index, fontsize='large')\n",
    "        ax[i].set_title('{} distribution'.format(columns[i]))"
   ]
  },
  {
   "cell_type": "code",
   "execution_count": 78,
   "id": "67c7e6b7",
   "metadata": {
    "execution": {
     "iopub.execute_input": "2022-08-10T05:51:00.391653Z",
     "iopub.status.busy": "2022-08-10T05:51:00.390962Z",
     "iopub.status.idle": "2022-08-10T05:51:00.399128Z",
     "shell.execute_reply": "2022-08-10T05:51:00.397945Z"
    },
    "papermill": {
     "duration": 0.036308,
     "end_time": "2022-08-10T05:51:00.401974",
     "exception": false,
     "start_time": "2022-08-10T05:51:00.365666",
     "status": "completed"
    },
    "tags": []
   },
   "outputs": [],
   "source": [
    "df3 = df['Address'].value_counts().copy()\n",
    "df3 = df3[:8]\n"
   ]
  },
  {
   "cell_type": "code",
   "execution_count": 79,
   "metadata": {},
   "outputs": [
    {
     "data": {
      "text/plain": [
       "Punak                     161\n",
       "Pardis                    146\n",
       "West Ferdows Boulevard    145\n",
       "Gheitarieh                141\n",
       "Shahran                   130\n",
       "Saadat Abad               129\n",
       "Parand                    127\n",
       "Shahr-e-Ziba              109\n",
       "Name: Address, dtype: int64"
      ]
     },
     "execution_count": 79,
     "metadata": {},
     "output_type": "execute_result"
    }
   ],
   "source": [
    "df3"
   ]
  },
  {
   "cell_type": "code",
   "execution_count": 80,
   "id": "e6d3072d",
   "metadata": {
    "execution": {
     "iopub.execute_input": "2022-08-10T05:51:00.450390Z",
     "iopub.status.busy": "2022-08-10T05:51:00.449409Z",
     "iopub.status.idle": "2022-08-10T05:51:00.736669Z",
     "shell.execute_reply": "2022-08-10T05:51:00.735642Z"
    },
    "papermill": {
     "duration": 0.314139,
     "end_time": "2022-08-10T05:51:00.739268",
     "exception": false,
     "start_time": "2022-08-10T05:51:00.425129",
     "status": "completed"
    },
    "tags": []
   },
   "outputs": [
    {
     "data": {
      "text/plain": [
       "Text(0.5, 1.0, 'Number of flats in location')"
      ]
     },
     "execution_count": 80,
     "metadata": {},
     "output_type": "execute_result"
    },
    {
     "data": {
      "image/png": "[encoded data removed]",
      "text/plain": [
       "<Figure size 600x1000 with 1 Axes>"
      ]
     },
     "metadata": {},
     "output_type": "display_data"
    }
   ],
   "source": [
    "fig, ax = plt.subplots(figsize=(6,10))\n",
    "sns.barplot(x=df3.values, y=df3.index,ax=ax)\n",
    "plt.xlabel('numerical amount of flats')\n",
    "plt.title('Number of flats in location')"
   ]
  },
  {
   "cell_type": "code",
   "execution_count": 81,
   "id": "bed1fac8",
   "metadata": {
    "execution": {
     "iopub.execute_input": "2022-08-10T05:51:00.789929Z",
     "iopub.status.busy": "2022-08-10T05:51:00.789230Z",
     "iopub.status.idle": "2022-08-10T05:51:00.795600Z",
     "shell.execute_reply": "2022-08-10T05:51:00.794702Z"
    },
    "papermill": {
     "duration": 0.034504,
     "end_time": "2022-08-10T05:51:00.798083",
     "exception": false,
     "start_time": "2022-08-10T05:51:00.763579",
     "status": "completed"
    },
    "scrolled": true,
    "tags": []
   },
   "outputs": [
    {
     "data": {
      "text/plain": [
       "Index(['Area', 'Room', 'Parking', 'Warehouse', 'Elevator', 'Address', 'Price'], dtype='object')"
      ]
     },
     "execution_count": 81,
     "metadata": {},
     "output_type": "execute_result"
    }
   ],
   "source": [
    "df.columns"
   ]
  },
  {
   "cell_type": "code",
   "execution_count": 82,
   "id": "b738518f",
   "metadata": {
    "execution": {
     "iopub.execute_input": "2022-08-10T05:51:00.847985Z",
     "iopub.status.busy": "2022-08-10T05:51:00.847259Z",
     "iopub.status.idle": "2022-08-10T05:51:00.859665Z",
     "shell.execute_reply": "2022-08-10T05:51:00.858699Z"
    },
    "papermill": {
     "duration": 0.040473,
     "end_time": "2022-08-10T05:51:00.862067",
     "exception": false,
     "start_time": "2022-08-10T05:51:00.821594",
     "status": "completed"
    },
    "tags": []
   },
   "outputs": [
    {
     "data": {
      "text/html": [
       "<div>\n",
       "<style scoped>\n",
       "    .dataframe tbody tr th:only-of-type {\n",
       "        vertical-align: middle;\n",
       "    }\n",
       "\n",
       "    .dataframe tbody tr th {\n",
       "        vertical-align: top;\n",
       "    }\n",
       "\n",
       "    .dataframe thead th {\n",
       "        text-align: right;\n",
       "    }\n",
       "</style>\n",
       "<table border=\"1\" class=\"dataframe\">\n",
       "  <thead>\n",
       "    <tr style=\"text-align: right;\">\n",
       "      <th></th>\n",
       "      <th>Address</th>\n",
       "    </tr>\n",
       "  </thead>\n",
       "  <tbody>\n",
       "    <tr>\n",
       "      <th>1707</th>\n",
       "      <td>Zaferanieh</td>\n",
       "    </tr>\n",
       "    <tr>\n",
       "      <th>1810</th>\n",
       "      <td>Abazar</td>\n",
       "    </tr>\n",
       "    <tr>\n",
       "      <th>430</th>\n",
       "      <td>Lavasan</td>\n",
       "    </tr>\n",
       "    <tr>\n",
       "      <th>819</th>\n",
       "      <td>Ekhtiarieh</td>\n",
       "    </tr>\n",
       "    <tr>\n",
       "      <th>1332</th>\n",
       "      <td>Niavaran</td>\n",
       "    </tr>\n",
       "    <tr>\n",
       "      <th>1694</th>\n",
       "      <td>Zafar</td>\n",
       "    </tr>\n",
       "    <tr>\n",
       "      <th>3051</th>\n",
       "      <td>Dorous</td>\n",
       "    </tr>\n",
       "    <tr>\n",
       "      <th>3107</th>\n",
       "      <td>Tajrish</td>\n",
       "    </tr>\n",
       "    <tr>\n",
       "      <th>831</th>\n",
       "      <td>Mahmoudieh</td>\n",
       "    </tr>\n",
       "    <tr>\n",
       "      <th>2394</th>\n",
       "      <td>Aqdasieh</td>\n",
       "    </tr>\n",
       "    <tr>\n",
       "      <th>2194</th>\n",
       "      <td>Niavaran</td>\n",
       "    </tr>\n",
       "    <tr>\n",
       "      <th>2706</th>\n",
       "      <td>Gandhi</td>\n",
       "    </tr>\n",
       "    <tr>\n",
       "      <th>1863</th>\n",
       "      <td>Elahieh</td>\n",
       "    </tr>\n",
       "    <tr>\n",
       "      <th>1407</th>\n",
       "      <td>North Program Organization</td>\n",
       "    </tr>\n",
       "    <tr>\n",
       "      <th>1635</th>\n",
       "      <td>Vanak</td>\n",
       "    </tr>\n",
       "    <tr>\n",
       "      <th>1270</th>\n",
       "      <td>Mirdamad</td>\n",
       "    </tr>\n",
       "    <tr>\n",
       "      <th>440</th>\n",
       "      <td>Niavaran</td>\n",
       "    </tr>\n",
       "    <tr>\n",
       "      <th>464</th>\n",
       "      <td>Farmanieh</td>\n",
       "    </tr>\n",
       "    <tr>\n",
       "      <th>431</th>\n",
       "      <td>Lavasan</td>\n",
       "    </tr>\n",
       "    <tr>\n",
       "      <th>583</th>\n",
       "      <td>Niavaran</td>\n",
       "    </tr>\n",
       "  </tbody>\n",
       "</table>\n",
       "</div>"
      ],
      "text/plain": [
       "                         Address\n",
       "1707                  Zaferanieh\n",
       "1810                      Abazar\n",
       "430                      Lavasan\n",
       "819                   Ekhtiarieh\n",
       "1332                    Niavaran\n",
       "1694                       Zafar\n",
       "3051                      Dorous\n",
       "3107                     Tajrish\n",
       "831                   Mahmoudieh\n",
       "2394                    Aqdasieh\n",
       "2194                    Niavaran\n",
       "2706                      Gandhi\n",
       "1863                     Elahieh\n",
       "1407  North Program Organization\n",
       "1635                       Vanak\n",
       "1270                    Mirdamad\n",
       "440                     Niavaran\n",
       "464                    Farmanieh\n",
       "431                      Lavasan\n",
       "583                     Niavaran"
      ]
     },
     "execution_count": 82,
     "metadata": {},
     "output_type": "execute_result"
    }
   ],
   "source": [
    "df.sort_values('Price',ascending=False)[['Address']].head(20)"
   ]
  },
  {
   "cell_type": "markdown",
   "id": "ce14afd5",
   "metadata": {
    "papermill": {
     "duration": 0.023414,
     "end_time": "2022-08-10T05:51:00.909317",
     "exception": false,
     "start_time": "2022-08-10T05:51:00.885903",
     "status": "completed"
    },
    "tags": []
   },
   "source": [
    "# Preprocessing"
   ]
  },
  {
   "cell_type": "markdown",
   "id": "a14d830c",
   "metadata": {
    "papermill": {
     "duration": 0.02361,
     "end_time": "2022-08-10T05:51:00.956546",
     "exception": false,
     "start_time": "2022-08-10T05:51:00.932936",
     "status": "completed"
    },
    "tags": []
   },
   "source": [
    "<img src=\"https://www.kdnuggets.com/wp-content/uploads/text-data-task-framework-preprocessing.png\" width=75% />"
   ]
  },
  {
   "cell_type": "code",
   "execution_count": 83,
   "id": "eecb1f4e",
   "metadata": {
    "execution": {
     "iopub.execute_input": "2022-08-10T05:51:01.006154Z",
     "iopub.status.busy": "2022-08-10T05:51:01.005464Z",
     "iopub.status.idle": "2022-08-10T05:51:01.014617Z",
     "shell.execute_reply": "2022-08-10T05:51:01.013666Z"
    },
    "papermill": {
     "duration": 0.036714,
     "end_time": "2022-08-10T05:51:01.016976",
     "exception": false,
     "start_time": "2022-08-10T05:51:00.980262",
     "status": "completed"
    },
    "tags": []
   },
   "outputs": [
    {
     "data": {
      "text/plain": [
       "Area         0\n",
       "Room         0\n",
       "Parking      0\n",
       "Warehouse    0\n",
       "Elevator     0\n",
       "Address      0\n",
       "Price        0\n",
       "dtype: int64"
      ]
     },
     "execution_count": 83,
     "metadata": {},
     "output_type": "execute_result"
    }
   ],
   "source": [
    "df.isnull().sum()"
   ]
  },
  {
   "cell_type": "code",
   "execution_count": 84,
   "id": "6c033c4e",
   "metadata": {
    "execution": {
     "iopub.execute_input": "2022-08-10T05:51:01.067226Z",
     "iopub.status.busy": "2022-08-10T05:51:01.066506Z",
     "iopub.status.idle": "2022-08-10T05:51:01.083503Z",
     "shell.execute_reply": "2022-08-10T05:51:01.082427Z"
    },
    "papermill": {
     "duration": 0.04505,
     "end_time": "2022-08-10T05:51:01.085780",
     "exception": false,
     "start_time": "2022-08-10T05:51:01.040730",
     "status": "completed"
    },
    "tags": []
   },
   "outputs": [
    {
     "data": {
      "text/html": [
       "<div>\n",
       "<style scoped>\n",
       "    .dataframe tbody tr th:only-of-type {\n",
       "        vertical-align: middle;\n",
       "    }\n",
       "\n",
       "    .dataframe tbody tr th {\n",
       "        vertical-align: top;\n",
       "    }\n",
       "\n",
       "    .dataframe thead th {\n",
       "        text-align: right;\n",
       "    }\n",
       "</style>\n",
       "<table border=\"1\" class=\"dataframe\">\n",
       "  <thead>\n",
       "    <tr style=\"text-align: right;\">\n",
       "      <th></th>\n",
       "      <th>Area</th>\n",
       "      <th>Room</th>\n",
       "      <th>Parking</th>\n",
       "      <th>Warehouse</th>\n",
       "      <th>Elevator</th>\n",
       "      <th>Address</th>\n",
       "      <th>Price</th>\n",
       "    </tr>\n",
       "  </thead>\n",
       "  <tbody>\n",
       "    <tr>\n",
       "      <th>0</th>\n",
       "      <td>63</td>\n",
       "      <td>1</td>\n",
       "      <td>True</td>\n",
       "      <td>True</td>\n",
       "      <td>True</td>\n",
       "      <td>Shahran</td>\n",
       "      <td>1850000000</td>\n",
       "    </tr>\n",
       "    <tr>\n",
       "      <th>1</th>\n",
       "      <td>60</td>\n",
       "      <td>1</td>\n",
       "      <td>True</td>\n",
       "      <td>True</td>\n",
       "      <td>True</td>\n",
       "      <td>Shahran</td>\n",
       "      <td>1850000000</td>\n",
       "    </tr>\n",
       "    <tr>\n",
       "      <th>2</th>\n",
       "      <td>79</td>\n",
       "      <td>2</td>\n",
       "      <td>True</td>\n",
       "      <td>True</td>\n",
       "      <td>True</td>\n",
       "      <td>Pardis</td>\n",
       "      <td>550000000</td>\n",
       "    </tr>\n",
       "    <tr>\n",
       "      <th>3</th>\n",
       "      <td>95</td>\n",
       "      <td>2</td>\n",
       "      <td>True</td>\n",
       "      <td>True</td>\n",
       "      <td>True</td>\n",
       "      <td>Shahrake Qods</td>\n",
       "      <td>902500000</td>\n",
       "    </tr>\n",
       "    <tr>\n",
       "      <th>4</th>\n",
       "      <td>123</td>\n",
       "      <td>2</td>\n",
       "      <td>True</td>\n",
       "      <td>True</td>\n",
       "      <td>True</td>\n",
       "      <td>Shahrake Gharb</td>\n",
       "      <td>7000000000</td>\n",
       "    </tr>\n",
       "    <tr>\n",
       "      <th>...</th>\n",
       "      <td>...</td>\n",
       "      <td>...</td>\n",
       "      <td>...</td>\n",
       "      <td>...</td>\n",
       "      <td>...</td>\n",
       "      <td>...</td>\n",
       "      <td>...</td>\n",
       "    </tr>\n",
       "    <tr>\n",
       "      <th>3474</th>\n",
       "      <td>86</td>\n",
       "      <td>2</td>\n",
       "      <td>True</td>\n",
       "      <td>True</td>\n",
       "      <td>True</td>\n",
       "      <td>Southern Janatabad</td>\n",
       "      <td>3500000000</td>\n",
       "    </tr>\n",
       "    <tr>\n",
       "      <th>3475</th>\n",
       "      <td>83</td>\n",
       "      <td>2</td>\n",
       "      <td>True</td>\n",
       "      <td>True</td>\n",
       "      <td>True</td>\n",
       "      <td>Niavaran</td>\n",
       "      <td>6800000000</td>\n",
       "    </tr>\n",
       "    <tr>\n",
       "      <th>3476</th>\n",
       "      <td>75</td>\n",
       "      <td>2</td>\n",
       "      <td>False</td>\n",
       "      <td>False</td>\n",
       "      <td>False</td>\n",
       "      <td>Parand</td>\n",
       "      <td>365000000</td>\n",
       "    </tr>\n",
       "    <tr>\n",
       "      <th>3477</th>\n",
       "      <td>105</td>\n",
       "      <td>2</td>\n",
       "      <td>True</td>\n",
       "      <td>True</td>\n",
       "      <td>True</td>\n",
       "      <td>Dorous</td>\n",
       "      <td>5600000000</td>\n",
       "    </tr>\n",
       "    <tr>\n",
       "      <th>3478</th>\n",
       "      <td>82</td>\n",
       "      <td>2</td>\n",
       "      <td>False</td>\n",
       "      <td>True</td>\n",
       "      <td>True</td>\n",
       "      <td>Parand</td>\n",
       "      <td>360000000</td>\n",
       "    </tr>\n",
       "  </tbody>\n",
       "</table>\n",
       "<p>3456 rows × 7 columns</p>\n",
       "</div>"
      ],
      "text/plain": [
       "      Area  Room  Parking  Warehouse  Elevator             Address       Price\n",
       "0       63     1     True       True      True             Shahran  1850000000\n",
       "1       60     1     True       True      True             Shahran  1850000000\n",
       "2       79     2     True       True      True              Pardis   550000000\n",
       "3       95     2     True       True      True       Shahrake Qods   902500000\n",
       "4      123     2     True       True      True      Shahrake Gharb  7000000000\n",
       "...    ...   ...      ...        ...       ...                 ...         ...\n",
       "3474    86     2     True       True      True  Southern Janatabad  3500000000\n",
       "3475    83     2     True       True      True            Niavaran  6800000000\n",
       "3476    75     2    False      False     False              Parand   365000000\n",
       "3477   105     2     True       True      True              Dorous  5600000000\n",
       "3478    82     2    False       True      True              Parand   360000000\n",
       "\n",
       "[3456 rows x 7 columns]"
      ]
     },
     "execution_count": 84,
     "metadata": {},
     "output_type": "execute_result"
    }
   ],
   "source": [
    "df"
   ]
  },
  {
   "cell_type": "markdown",
   "id": "29cbf364",
   "metadata": {
    "papermill": {
     "duration": 0.024074,
     "end_time": "2022-08-10T05:51:01.134178",
     "exception": false,
     "start_time": "2022-08-10T05:51:01.110104",
     "status": "completed"
    },
    "tags": []
   },
   "source": [
    "# Model Building"
   ]
  },
  {
   "cell_type": "code",
   "execution_count": 85,
   "id": "c619f723",
   "metadata": {
    "execution": {
     "iopub.execute_input": "2022-08-10T05:51:01.184956Z",
     "iopub.status.busy": "2022-08-10T05:51:01.184553Z",
     "iopub.status.idle": "2022-08-10T05:51:01.201392Z",
     "shell.execute_reply": "2022-08-10T05:51:01.200453Z"
    },
    "papermill": {
     "duration": 0.04508,
     "end_time": "2022-08-10T05:51:01.203831",
     "exception": false,
     "start_time": "2022-08-10T05:51:01.158751",
     "status": "completed"
    },
    "scrolled": true,
    "tags": []
   },
   "outputs": [
    {
     "data": {
      "text/html": [
       "<div>\n",
       "<style scoped>\n",
       "    .dataframe tbody tr th:only-of-type {\n",
       "        vertical-align: middle;\n",
       "    }\n",
       "\n",
       "    .dataframe tbody tr th {\n",
       "        vertical-align: top;\n",
       "    }\n",
       "\n",
       "    .dataframe thead th {\n",
       "        text-align: right;\n",
       "    }\n",
       "</style>\n",
       "<table border=\"1\" class=\"dataframe\">\n",
       "  <thead>\n",
       "    <tr style=\"text-align: right;\">\n",
       "      <th></th>\n",
       "      <th>Area</th>\n",
       "      <th>Room</th>\n",
       "      <th>Parking</th>\n",
       "      <th>Warehouse</th>\n",
       "      <th>Elevator</th>\n",
       "      <th>Address</th>\n",
       "      <th>Price</th>\n",
       "    </tr>\n",
       "  </thead>\n",
       "  <tbody>\n",
       "    <tr>\n",
       "      <th>0</th>\n",
       "      <td>63</td>\n",
       "      <td>1</td>\n",
       "      <td>1</td>\n",
       "      <td>1</td>\n",
       "      <td>1</td>\n",
       "      <td>Shahran</td>\n",
       "      <td>1850000000</td>\n",
       "    </tr>\n",
       "    <tr>\n",
       "      <th>1</th>\n",
       "      <td>60</td>\n",
       "      <td>1</td>\n",
       "      <td>1</td>\n",
       "      <td>1</td>\n",
       "      <td>1</td>\n",
       "      <td>Shahran</td>\n",
       "      <td>1850000000</td>\n",
       "    </tr>\n",
       "    <tr>\n",
       "      <th>2</th>\n",
       "      <td>79</td>\n",
       "      <td>2</td>\n",
       "      <td>1</td>\n",
       "      <td>1</td>\n",
       "      <td>1</td>\n",
       "      <td>Pardis</td>\n",
       "      <td>550000000</td>\n",
       "    </tr>\n",
       "    <tr>\n",
       "      <th>3</th>\n",
       "      <td>95</td>\n",
       "      <td>2</td>\n",
       "      <td>1</td>\n",
       "      <td>1</td>\n",
       "      <td>1</td>\n",
       "      <td>Shahrake Qods</td>\n",
       "      <td>902500000</td>\n",
       "    </tr>\n",
       "    <tr>\n",
       "      <th>4</th>\n",
       "      <td>123</td>\n",
       "      <td>2</td>\n",
       "      <td>1</td>\n",
       "      <td>1</td>\n",
       "      <td>1</td>\n",
       "      <td>Shahrake Gharb</td>\n",
       "      <td>7000000000</td>\n",
       "    </tr>\n",
       "  </tbody>\n",
       "</table>\n",
       "</div>"
      ],
      "text/plain": [
       "   Area  Room  Parking  Warehouse  Elevator         Address       Price\n",
       "0    63     1        1          1         1         Shahran  1850000000\n",
       "1    60     1        1          1         1         Shahran  1850000000\n",
       "2    79     2        1          1         1          Pardis   550000000\n",
       "3    95     2        1          1         1   Shahrake Qods   902500000\n",
       "4   123     2        1          1         1  Shahrake Gharb  7000000000"
      ]
     },
     "execution_count": 85,
     "metadata": {},
     "output_type": "execute_result"
    }
   ],
   "source": [
    "# df = df.drop(columns = ['Price(USD)'])\n",
    "boolean_features = ['Parking','Warehouse','Elevator']\n",
    "df[boolean_features] = df[boolean_features].astype('int64')\n",
    "\n",
    "df.head()"
   ]
  },
  {
   "cell_type": "code",
   "execution_count": 86,
   "id": "b1a342a3",
   "metadata": {
    "execution": {
     "iopub.execute_input": "2022-08-10T05:51:01.255585Z",
     "iopub.status.busy": "2022-08-10T05:51:01.254572Z",
     "iopub.status.idle": "2022-08-10T05:51:01.264179Z",
     "shell.execute_reply": "2022-08-10T05:51:01.263115Z"
    },
    "papermill": {
     "duration": 0.038648,
     "end_time": "2022-08-10T05:51:01.266994",
     "exception": false,
     "start_time": "2022-08-10T05:51:01.228346",
     "status": "completed"
    },
    "tags": []
   },
   "outputs": [
    {
     "name": "stdout",
     "output_type": "stream",
     "text": [
      "Skewness of features:\n",
      "Area        44\n",
      "Room         1\n",
      "Parking     -2\n",
      "Warehouse   -3\n",
      "Elevator    -1\n",
      "Price        5\n",
      "dtype: float64\n"
     ]
    }
   ],
   "source": [
    "print(f\"Skewness of features:\\n{df.skew()}\")\n"
   ]
  },
  {
   "cell_type": "code",
   "execution_count": 87,
   "id": "f9e24be0",
   "metadata": {
    "execution": {
     "iopub.execute_input": "2022-08-10T05:51:01.318052Z",
     "iopub.status.busy": "2022-08-10T05:51:01.317335Z",
     "iopub.status.idle": "2022-08-10T05:51:01.643093Z",
     "shell.execute_reply": "2022-08-10T05:51:01.642154Z"
    },
    "papermill": {
     "duration": 0.354232,
     "end_time": "2022-08-10T05:51:01.645338",
     "exception": false,
     "start_time": "2022-08-10T05:51:01.291106",
     "status": "completed"
    },
    "tags": []
   },
   "outputs": [
    {
     "data": {
      "text/plain": [
       "<AxesSubplot: xlabel='Price'>"
      ]
     },
     "execution_count": 87,
     "metadata": {},
     "output_type": "execute_result"
    },
    {
     "data": {
      "image/png": "[encoded data removed]",
      "text/plain": [
       "<Figure size 1600x800 with 2 Axes>"
      ]
     },
     "metadata": {},
     "output_type": "display_data"
    }
   ],
   "source": [
    "plt.figure(figsize = (16,8))\n",
    "\n",
    "plt.subplot(2,1,1)\n",
    "sns.boxplot(x = df['Area'])\n",
    "\n",
    "plt.subplot(2,1,2)\n",
    "sns.boxplot(x = df['Price'])"
   ]
  },
  {
   "cell_type": "code",
   "execution_count": 88,
   "id": "b91349d5",
   "metadata": {
    "execution": {
     "iopub.execute_input": "2022-08-10T05:51:01.709523Z",
     "iopub.status.busy": "2022-08-10T05:51:01.708376Z",
     "iopub.status.idle": "2022-08-10T05:51:01.719392Z",
     "shell.execute_reply": "2022-08-10T05:51:01.717363Z"
    },
    "papermill": {
     "duration": 0.052765,
     "end_time": "2022-08-10T05:51:01.723713",
     "exception": false,
     "start_time": "2022-08-10T05:51:01.670948",
     "status": "completed"
    },
    "tags": []
   },
   "outputs": [
    {
     "name": "stdout",
     "output_type": "stream",
     "text": [
      "Lower limit for area: -9.00\n",
      "Upper limit for area: 199.00\n",
      "Lower limit for price: -5,450,000,000.0\n",
      "Upper limit for price: 12,870,000,000.0\n"
     ]
    }
   ],
   "source": [
    "def lower_upper(x):\n",
    "    Q1 = np.percentile(x, 25)\n",
    "    Q3 = np.percentile(x, 75)\n",
    "    IQR = Q3 - Q1\n",
    "    lower = Q1 - 1.5 * IQR\n",
    "    upper = Q3 + 1.5 * IQR\n",
    "    \n",
    "    return lower, upper\n",
    "\n",
    "lower_area, upper_area = lower_upper(df['Area'])\n",
    "lower_price, upper_price = lower_upper(df['Price'])\n",
    "\n",
    "print(f\"Lower limit for area: {lower_area:0.2f}\")\n",
    "print(f\"Upper limit for area: {upper_area:0.2f}\")\n",
    "print(f\"Lower limit for price: {lower_price:,}\")\n",
    "print(f\"Upper limit for price: {upper_price:,}\")"
   ]
  },
  {
   "cell_type": "code",
   "execution_count": 89,
   "id": "f231bdaf",
   "metadata": {
    "execution": {
     "iopub.execute_input": "2022-08-10T05:51:01.775529Z",
     "iopub.status.busy": "2022-08-10T05:51:01.775044Z",
     "iopub.status.idle": "2022-08-10T05:51:01.785213Z",
     "shell.execute_reply": "2022-08-10T05:51:01.783813Z"
    },
    "papermill": {
     "duration": 0.039018,
     "end_time": "2022-08-10T05:51:01.787923",
     "exception": false,
     "start_time": "2022-08-10T05:51:01.748905",
     "status": "completed"
    },
    "tags": []
   },
   "outputs": [
    {
     "name": "stdout",
     "output_type": "stream",
     "text": [
      "Number of area outliers: 237\n",
      "Number of price outliers: 310\n",
      "Number of outliers: 366\n"
     ]
    }
   ],
   "source": [
    "area_outliers = np.where(df['Area'] > upper_area)\n",
    "price_outliers = np.where(df['Price'] > upper_price)\n",
    "# Return the unique, sorted array of values that are in either of the two input arrays.\n",
    "total_outliers = np.union1d(area_outliers, price_outliers)\n",
    "\n",
    "print(f\"Number of area outliers: {len(df.iloc[area_outliers])}\")\n",
    "print(f\"Number of price outliers: {len(df.iloc[price_outliers])}\")\n",
    "print(f\"Number of outliers: {len(df.iloc[total_outliers])}\")"
   ]
  },
  {
   "cell_type": "code",
   "execution_count": 90,
   "id": "00736429",
   "metadata": {
    "execution": {
     "iopub.execute_input": "2022-08-10T05:51:01.840260Z",
     "iopub.status.busy": "2022-08-10T05:51:01.839524Z",
     "iopub.status.idle": "2022-08-10T05:51:01.848375Z",
     "shell.execute_reply": "2022-08-10T05:51:01.847216Z"
    },
    "papermill": {
     "duration": 0.038184,
     "end_time": "2022-08-10T05:51:01.851081",
     "exception": false,
     "start_time": "2022-08-10T05:51:01.812897",
     "status": "completed"
    },
    "tags": []
   },
   "outputs": [
    {
     "data": {
      "text/plain": [
       "array([  25,   58,   83,  101,  145,  159,  160,  166,  173,  176,  187,\n",
       "        189,  193,  195,  196,  200,  210,  215,  218,  220,  226,  234,\n",
       "        235,  238,  260,  262,  264,  269,  270,  281,  283,  284,  297,\n",
       "        299,  315,  327,  329,  338,  339,  340,  342,  343,  344,  345,\n",
       "        346,  347,  348,  349,  351,  353,  355,  356,  362,  363,  364,\n",
       "        394,  410,  411,  412,  429,  430,  436,  439,  458,  463,  496,\n",
       "        512,  514,  515,  516,  525,  534,  547,  553,  559,  564,  565,\n",
       "        566,  567,  569,  572,  576,  577,  578,  579,  582,  599,  600,\n",
       "        610,  627,  635,  638,  640,  641,  648,  649,  652,  706,  712,\n",
       "        721,  729,  730,  731,  738,  739,  740,  753,  765,  792,  803,\n",
       "        804,  816,  819,  828,  834,  836,  849,  872,  876,  891,  955,\n",
       "        956,  962, 1005, 1006, 1012, 1021, 1022, 1028, 1031, 1033, 1103,\n",
       "       1110, 1114, 1128, 1136, 1137, 1148, 1174, 1175, 1228, 1230, 1231,\n",
       "       1232, 1258, 1260, 1265, 1266, 1270, 1282, 1287, 1305, 1306, 1307,\n",
       "       1308, 1309, 1318, 1323, 1327, 1328, 1337, 1340, 1344, 1345, 1347,\n",
       "       1350, 1352, 1354, 1361, 1384, 1396, 1397, 1401, 1402, 1403, 1410,\n",
       "       1420, 1421, 1422, 1423, 1424, 1428, 1430, 1432, 1433, 1438, 1439,\n",
       "       1458, 1478, 1480, 1483, 1521, 1526, 1529, 1540, 1541, 1546, 1559,\n",
       "       1560, 1562, 1581, 1582, 1585, 1598, 1607, 1619, 1629, 1636, 1638,\n",
       "       1643, 1644, 1646, 1652, 1659, 1676, 1687, 1688, 1694, 1701, 1705,\n",
       "       1715, 1717, 1720, 1734, 1761, 1762, 1772, 1785, 1800, 1803, 1804,\n",
       "       1814, 1820, 1821, 1847, 1851, 1855, 1856, 1861, 1864, 1876, 1878,\n",
       "       1905, 1909, 1911, 1912, 1913, 1924, 1935, 1963, 1966, 1967, 1977,\n",
       "       1978, 1979, 1980, 1982, 1986, 1987, 1988, 1989, 1990, 1995, 1996,\n",
       "       1997, 1999, 2000, 2004, 2007, 2009, 2011, 2013, 2022, 2023, 2025,\n",
       "       2084, 2102, 2133, 2160, 2161, 2168, 2169, 2184, 2226, 2255, 2263,\n",
       "       2264, 2267, 2271, 2303, 2309, 2320, 2323, 2339, 2346, 2349, 2350,\n",
       "       2353, 2356, 2358, 2359, 2360, 2363, 2382, 2383, 2389, 2455, 2463,\n",
       "       2465, 2468, 2489, 2506, 2519, 2548, 2564, 2567, 2571, 2585, 2615,\n",
       "       2627, 2634, 2676, 2680, 2693, 2709, 2765, 2788, 2796, 2836, 2877,\n",
       "       2931, 2946, 2955, 2977, 2986, 3002, 3036, 3041, 3049, 3061, 3073,\n",
       "       3092, 3096, 3100, 3117, 3125, 3167, 3168, 3177, 3197, 3221, 3227,\n",
       "       3237, 3238, 3247, 3250, 3253, 3271, 3306, 3314, 3345, 3352, 3367,\n",
       "       3373, 3415, 3419], dtype=int64)"
      ]
     },
     "execution_count": 90,
     "metadata": {},
     "output_type": "execute_result"
    }
   ],
   "source": [
    "total_outliers\n",
    "\n"
   ]
  },
  {
   "cell_type": "code",
   "execution_count": 91,
   "metadata": {},
   "outputs": [
    {
     "data": {
      "text/plain": [
       "dtype('int64')"
      ]
     },
     "execution_count": 91,
     "metadata": {},
     "output_type": "execute_result"
    }
   ],
   "source": [
    "total_outliers.dtype"
   ]
  },
  {
   "cell_type": "code",
   "execution_count": 92,
   "metadata": {},
   "outputs": [],
   "source": [
    "# total_outliers=np.delete(total_outliers,97)"
   ]
  },
  {
   "cell_type": "code",
   "execution_count": 93,
   "metadata": {},
   "outputs": [],
   "source": [
    "# total_outliers"
   ]
  },
  {
   "cell_type": "code",
   "execution_count": 94,
   "id": "7b09b2fd",
   "metadata": {
    "execution": {
     "iopub.execute_input": "2022-08-10T05:51:01.903889Z",
     "iopub.status.busy": "2022-08-10T05:51:01.903478Z",
     "iopub.status.idle": "2022-08-10T05:51:01.908731Z",
     "shell.execute_reply": "2022-08-10T05:51:01.907505Z"
    },
    "papermill": {
     "duration": 0.034926,
     "end_time": "2022-08-10T05:51:01.911593",
     "exception": false,
     "start_time": "2022-08-10T05:51:01.876667",
     "status": "completed"
    },
    "tags": []
   },
   "outputs": [],
   "source": [
    "# df = df.copy()\n",
    "# df.drop(total_outliers, inplace = True)\n",
    "# df.reset_index(drop = True, inplace = True)\n",
    "# print(f\"Shape of new dataset: {df.shape}\")"
   ]
  },
  {
   "cell_type": "code",
   "execution_count": 95,
   "id": "d3f25ec4",
   "metadata": {
    "execution": {
     "iopub.execute_input": "2022-08-10T05:51:01.964939Z",
     "iopub.status.busy": "2022-08-10T05:51:01.964261Z",
     "iopub.status.idle": "2022-08-10T05:51:01.969713Z",
     "shell.execute_reply": "2022-08-10T05:51:01.968610Z"
    },
    "papermill": {
     "duration": 0.035055,
     "end_time": "2022-08-10T05:51:01.972479",
     "exception": false,
     "start_time": "2022-08-10T05:51:01.937424",
     "status": "completed"
    },
    "tags": []
   },
   "outputs": [],
   "source": [
    "# print(f\"Skewness of features after drop outliers:\\n{df.skew()}\")\n"
   ]
  },
  {
   "cell_type": "code",
   "execution_count": 96,
   "id": "477fa400",
   "metadata": {
    "execution": {
     "iopub.execute_input": "2022-08-10T05:51:02.025714Z",
     "iopub.status.busy": "2022-08-10T05:51:02.024611Z",
     "iopub.status.idle": "2022-08-10T05:51:02.030471Z",
     "shell.execute_reply": "2022-08-10T05:51:02.029519Z"
    },
    "papermill": {
     "duration": 0.035063,
     "end_time": "2022-08-10T05:51:02.033053",
     "exception": false,
     "start_time": "2022-08-10T05:51:01.997990",
     "status": "completed"
    },
    "tags": []
   },
   "outputs": [
    {
     "data": {
      "text/plain": [
       "<AxesSubplot: xlabel='Price'>"
      ]
     },
     "execution_count": 96,
     "metadata": {},
     "output_type": "execute_result"
    },
    {
     "data": {
      "image/png": "[encoded data removed]",
      "text/plain": [
       "<Figure size 1600x800 with 2 Axes>"
      ]
     },
     "metadata": {},
     "output_type": "display_data"
    }
   ],
   "source": [
    "plt.figure(figsize = (16,8))\n",
    "\n",
    "plt.subplot(2,1,1)\n",
    "sns.boxplot(x = df['Area'])\n",
    "\n",
    "plt.subplot(2,1,2)\n",
    "sns.boxplot(x = df['Price'])"
   ]
  },
  {
   "cell_type": "code",
   "execution_count": 97,
   "id": "c6f35662",
   "metadata": {
    "execution": {
     "iopub.execute_input": "2022-08-10T05:51:02.086866Z",
     "iopub.status.busy": "2022-08-10T05:51:02.086428Z",
     "iopub.status.idle": "2022-08-10T05:51:02.091696Z",
     "shell.execute_reply": "2022-08-10T05:51:02.090380Z"
    },
    "papermill": {
     "duration": 0.034762,
     "end_time": "2022-08-10T05:51:02.094092",
     "exception": false,
     "start_time": "2022-08-10T05:51:02.059330",
     "status": "completed"
    },
    "tags": []
   },
   "outputs": [],
   "source": [
    "# house_price['Address']= le.fit_transform(house_price['Address'])\n"
   ]
  },
  {
   "cell_type": "code",
   "execution_count": 98,
   "id": "b744ba5e",
   "metadata": {
    "execution": {
     "iopub.execute_input": "2022-08-10T05:51:02.147680Z",
     "iopub.status.busy": "2022-08-10T05:51:02.146294Z",
     "iopub.status.idle": "2022-08-10T05:51:02.177957Z",
     "shell.execute_reply": "2022-08-10T05:51:02.176847Z"
    },
    "papermill": {
     "duration": 0.061167,
     "end_time": "2022-08-10T05:51:02.180451",
     "exception": false,
     "start_time": "2022-08-10T05:51:02.119284",
     "status": "completed"
    },
    "tags": []
   },
   "outputs": [
    {
     "data": {
      "text/html": [
       "<div>\n",
       "<style scoped>\n",
       "    .dataframe tbody tr th:only-of-type {\n",
       "        vertical-align: middle;\n",
       "    }\n",
       "\n",
       "    .dataframe tbody tr th {\n",
       "        vertical-align: top;\n",
       "    }\n",
       "\n",
       "    .dataframe thead th {\n",
       "        text-align: right;\n",
       "    }\n",
       "</style>\n",
       "<table border=\"1\" class=\"dataframe\">\n",
       "  <thead>\n",
       "    <tr style=\"text-align: right;\">\n",
       "      <th></th>\n",
       "      <th>Area</th>\n",
       "      <th>Room</th>\n",
       "      <th>Parking</th>\n",
       "      <th>Warehouse</th>\n",
       "      <th>Elevator</th>\n",
       "      <th>Price</th>\n",
       "      <th>Abazar</th>\n",
       "      <th>Abbasabad</th>\n",
       "      <th>Absard</th>\n",
       "      <th>Abuzar</th>\n",
       "      <th>...</th>\n",
       "      <th>Waterfall</th>\n",
       "      <th>West Ferdows Boulevard</th>\n",
       "      <th>West Pars</th>\n",
       "      <th>Yaftabad</th>\n",
       "      <th>Yakhchiabad</th>\n",
       "      <th>Yousef Abad</th>\n",
       "      <th>Zafar</th>\n",
       "      <th>Zaferanieh</th>\n",
       "      <th>Zargandeh</th>\n",
       "      <th>Zibadasht</th>\n",
       "    </tr>\n",
       "  </thead>\n",
       "  <tbody>\n",
       "    <tr>\n",
       "      <th>0</th>\n",
       "      <td>63</td>\n",
       "      <td>1</td>\n",
       "      <td>1</td>\n",
       "      <td>1</td>\n",
       "      <td>1</td>\n",
       "      <td>1850000000</td>\n",
       "      <td>0</td>\n",
       "      <td>0</td>\n",
       "      <td>0</td>\n",
       "      <td>0</td>\n",
       "      <td>...</td>\n",
       "      <td>0</td>\n",
       "      <td>0</td>\n",
       "      <td>0</td>\n",
       "      <td>0</td>\n",
       "      <td>0</td>\n",
       "      <td>0</td>\n",
       "      <td>0</td>\n",
       "      <td>0</td>\n",
       "      <td>0</td>\n",
       "      <td>0</td>\n",
       "    </tr>\n",
       "    <tr>\n",
       "      <th>1</th>\n",
       "      <td>60</td>\n",
       "      <td>1</td>\n",
       "      <td>1</td>\n",
       "      <td>1</td>\n",
       "      <td>1</td>\n",
       "      <td>1850000000</td>\n",
       "      <td>0</td>\n",
       "      <td>0</td>\n",
       "      <td>0</td>\n",
       "      <td>0</td>\n",
       "      <td>...</td>\n",
       "      <td>0</td>\n",
       "      <td>0</td>\n",
       "      <td>0</td>\n",
       "      <td>0</td>\n",
       "      <td>0</td>\n",
       "      <td>0</td>\n",
       "      <td>0</td>\n",
       "      <td>0</td>\n",
       "      <td>0</td>\n",
       "      <td>0</td>\n",
       "    </tr>\n",
       "    <tr>\n",
       "      <th>2</th>\n",
       "      <td>79</td>\n",
       "      <td>2</td>\n",
       "      <td>1</td>\n",
       "      <td>1</td>\n",
       "      <td>1</td>\n",
       "      <td>550000000</td>\n",
       "      <td>0</td>\n",
       "      <td>0</td>\n",
       "      <td>0</td>\n",
       "      <td>0</td>\n",
       "      <td>...</td>\n",
       "      <td>0</td>\n",
       "      <td>0</td>\n",
       "      <td>0</td>\n",
       "      <td>0</td>\n",
       "      <td>0</td>\n",
       "      <td>0</td>\n",
       "      <td>0</td>\n",
       "      <td>0</td>\n",
       "      <td>0</td>\n",
       "      <td>0</td>\n",
       "    </tr>\n",
       "  </tbody>\n",
       "</table>\n",
       "<p>3 rows × 198 columns</p>\n",
       "</div>"
      ],
      "text/plain": [
       "   Area  Room  Parking  Warehouse  Elevator       Price  Abazar  Abbasabad  \\\n",
       "0    63     1        1          1         1  1850000000       0          0   \n",
       "1    60     1        1          1         1  1850000000       0          0   \n",
       "2    79     2        1          1         1   550000000       0          0   \n",
       "\n",
       "   Absard  Abuzar  ...  Waterfall  West Ferdows Boulevard  West Pars  \\\n",
       "0       0       0  ...          0                       0          0   \n",
       "1       0       0  ...          0                       0          0   \n",
       "2       0       0  ...          0                       0          0   \n",
       "\n",
       "   Yaftabad  Yakhchiabad  Yousef Abad  Zafar  Zaferanieh  Zargandeh  Zibadasht  \n",
       "0         0            0            0      0           0          0          0  \n",
       "1         0            0            0      0           0          0          0  \n",
       "2         0            0            0      0           0          0          0  \n",
       "\n",
       "[3 rows x 198 columns]"
      ]
     },
     "execution_count": 98,
     "metadata": {},
     "output_type": "execute_result"
    }
   ],
   "source": [
    "address_dummy = pd.get_dummies(df['Address'])\n",
    "df_final = df.merge(address_dummy, left_index = True, right_index = True)\n",
    "df_final.drop(columns = 'Address', inplace = True)\n",
    "df_final.head(3)\n"
   ]
  },
  {
   "cell_type": "code",
   "execution_count": 99,
   "id": "1e28105e",
   "metadata": {
    "execution": {
     "iopub.execute_input": "2022-08-10T05:51:02.233126Z",
     "iopub.status.busy": "2022-08-10T05:51:02.232695Z",
     "iopub.status.idle": "2022-08-10T05:51:02.259707Z",
     "shell.execute_reply": "2022-08-10T05:51:02.258494Z"
    },
    "papermill": {
     "duration": 0.056245,
     "end_time": "2022-08-10T05:51:02.262058",
     "exception": false,
     "start_time": "2022-08-10T05:51:02.205813",
     "status": "completed"
    },
    "tags": []
   },
   "outputs": [
    {
     "data": {
      "text/html": [
       "<div>\n",
       "<style scoped>\n",
       "    .dataframe tbody tr th:only-of-type {\n",
       "        vertical-align: middle;\n",
       "    }\n",
       "\n",
       "    .dataframe tbody tr th {\n",
       "        vertical-align: top;\n",
       "    }\n",
       "\n",
       "    .dataframe thead th {\n",
       "        text-align: right;\n",
       "    }\n",
       "</style>\n",
       "<table border=\"1\" class=\"dataframe\">\n",
       "  <thead>\n",
       "    <tr style=\"text-align: right;\">\n",
       "      <th></th>\n",
       "      <th>Area</th>\n",
       "      <th>Room</th>\n",
       "      <th>Parking</th>\n",
       "      <th>Warehouse</th>\n",
       "      <th>Elevator</th>\n",
       "      <th>Price</th>\n",
       "      <th>Abazar</th>\n",
       "      <th>Abbasabad</th>\n",
       "      <th>Absard</th>\n",
       "      <th>Abuzar</th>\n",
       "      <th>...</th>\n",
       "      <th>Waterfall</th>\n",
       "      <th>West Ferdows Boulevard</th>\n",
       "      <th>West Pars</th>\n",
       "      <th>Yaftabad</th>\n",
       "      <th>Yakhchiabad</th>\n",
       "      <th>Yousef Abad</th>\n",
       "      <th>Zafar</th>\n",
       "      <th>Zaferanieh</th>\n",
       "      <th>Zargandeh</th>\n",
       "      <th>Zibadasht</th>\n",
       "    </tr>\n",
       "  </thead>\n",
       "  <tbody>\n",
       "    <tr>\n",
       "      <th>0</th>\n",
       "      <td>63</td>\n",
       "      <td>1</td>\n",
       "      <td>1</td>\n",
       "      <td>1</td>\n",
       "      <td>1</td>\n",
       "      <td>1850000000</td>\n",
       "      <td>0</td>\n",
       "      <td>0</td>\n",
       "      <td>0</td>\n",
       "      <td>0</td>\n",
       "      <td>...</td>\n",
       "      <td>0</td>\n",
       "      <td>0</td>\n",
       "      <td>0</td>\n",
       "      <td>0</td>\n",
       "      <td>0</td>\n",
       "      <td>0</td>\n",
       "      <td>0</td>\n",
       "      <td>0</td>\n",
       "      <td>0</td>\n",
       "      <td>0</td>\n",
       "    </tr>\n",
       "    <tr>\n",
       "      <th>1</th>\n",
       "      <td>60</td>\n",
       "      <td>1</td>\n",
       "      <td>1</td>\n",
       "      <td>1</td>\n",
       "      <td>1</td>\n",
       "      <td>1850000000</td>\n",
       "      <td>0</td>\n",
       "      <td>0</td>\n",
       "      <td>0</td>\n",
       "      <td>0</td>\n",
       "      <td>...</td>\n",
       "      <td>0</td>\n",
       "      <td>0</td>\n",
       "      <td>0</td>\n",
       "      <td>0</td>\n",
       "      <td>0</td>\n",
       "      <td>0</td>\n",
       "      <td>0</td>\n",
       "      <td>0</td>\n",
       "      <td>0</td>\n",
       "      <td>0</td>\n",
       "    </tr>\n",
       "    <tr>\n",
       "      <th>2</th>\n",
       "      <td>79</td>\n",
       "      <td>2</td>\n",
       "      <td>1</td>\n",
       "      <td>1</td>\n",
       "      <td>1</td>\n",
       "      <td>550000000</td>\n",
       "      <td>0</td>\n",
       "      <td>0</td>\n",
       "      <td>0</td>\n",
       "      <td>0</td>\n",
       "      <td>...</td>\n",
       "      <td>0</td>\n",
       "      <td>0</td>\n",
       "      <td>0</td>\n",
       "      <td>0</td>\n",
       "      <td>0</td>\n",
       "      <td>0</td>\n",
       "      <td>0</td>\n",
       "      <td>0</td>\n",
       "      <td>0</td>\n",
       "      <td>0</td>\n",
       "    </tr>\n",
       "    <tr>\n",
       "      <th>3</th>\n",
       "      <td>95</td>\n",
       "      <td>2</td>\n",
       "      <td>1</td>\n",
       "      <td>1</td>\n",
       "      <td>1</td>\n",
       "      <td>902500000</td>\n",
       "      <td>0</td>\n",
       "      <td>0</td>\n",
       "      <td>0</td>\n",
       "      <td>0</td>\n",
       "      <td>...</td>\n",
       "      <td>0</td>\n",
       "      <td>0</td>\n",
       "      <td>0</td>\n",
       "      <td>0</td>\n",
       "      <td>0</td>\n",
       "      <td>0</td>\n",
       "      <td>0</td>\n",
       "      <td>0</td>\n",
       "      <td>0</td>\n",
       "      <td>0</td>\n",
       "    </tr>\n",
       "    <tr>\n",
       "      <th>4</th>\n",
       "      <td>123</td>\n",
       "      <td>2</td>\n",
       "      <td>1</td>\n",
       "      <td>1</td>\n",
       "      <td>1</td>\n",
       "      <td>7000000000</td>\n",
       "      <td>0</td>\n",
       "      <td>0</td>\n",
       "      <td>0</td>\n",
       "      <td>0</td>\n",
       "      <td>...</td>\n",
       "      <td>0</td>\n",
       "      <td>0</td>\n",
       "      <td>0</td>\n",
       "      <td>0</td>\n",
       "      <td>0</td>\n",
       "      <td>0</td>\n",
       "      <td>0</td>\n",
       "      <td>0</td>\n",
       "      <td>0</td>\n",
       "      <td>0</td>\n",
       "    </tr>\n",
       "    <tr>\n",
       "      <th>...</th>\n",
       "      <td>...</td>\n",
       "      <td>...</td>\n",
       "      <td>...</td>\n",
       "      <td>...</td>\n",
       "      <td>...</td>\n",
       "      <td>...</td>\n",
       "      <td>...</td>\n",
       "      <td>...</td>\n",
       "      <td>...</td>\n",
       "      <td>...</td>\n",
       "      <td>...</td>\n",
       "      <td>...</td>\n",
       "      <td>...</td>\n",
       "      <td>...</td>\n",
       "      <td>...</td>\n",
       "      <td>...</td>\n",
       "      <td>...</td>\n",
       "      <td>...</td>\n",
       "      <td>...</td>\n",
       "      <td>...</td>\n",
       "      <td>...</td>\n",
       "    </tr>\n",
       "    <tr>\n",
       "      <th>3474</th>\n",
       "      <td>86</td>\n",
       "      <td>2</td>\n",
       "      <td>1</td>\n",
       "      <td>1</td>\n",
       "      <td>1</td>\n",
       "      <td>3500000000</td>\n",
       "      <td>0</td>\n",
       "      <td>0</td>\n",
       "      <td>0</td>\n",
       "      <td>0</td>\n",
       "      <td>...</td>\n",
       "      <td>0</td>\n",
       "      <td>0</td>\n",
       "      <td>0</td>\n",
       "      <td>0</td>\n",
       "      <td>0</td>\n",
       "      <td>0</td>\n",
       "      <td>0</td>\n",
       "      <td>0</td>\n",
       "      <td>0</td>\n",
       "      <td>0</td>\n",
       "    </tr>\n",
       "    <tr>\n",
       "      <th>3475</th>\n",
       "      <td>83</td>\n",
       "      <td>2</td>\n",
       "      <td>1</td>\n",
       "      <td>1</td>\n",
       "      <td>1</td>\n",
       "      <td>6800000000</td>\n",
       "      <td>0</td>\n",
       "      <td>0</td>\n",
       "      <td>0</td>\n",
       "      <td>0</td>\n",
       "      <td>...</td>\n",
       "      <td>0</td>\n",
       "      <td>0</td>\n",
       "      <td>0</td>\n",
       "      <td>0</td>\n",
       "      <td>0</td>\n",
       "      <td>0</td>\n",
       "      <td>0</td>\n",
       "      <td>0</td>\n",
       "      <td>0</td>\n",
       "      <td>0</td>\n",
       "    </tr>\n",
       "    <tr>\n",
       "      <th>3476</th>\n",
       "      <td>75</td>\n",
       "      <td>2</td>\n",
       "      <td>0</td>\n",
       "      <td>0</td>\n",
       "      <td>0</td>\n",
       "      <td>365000000</td>\n",
       "      <td>0</td>\n",
       "      <td>0</td>\n",
       "      <td>0</td>\n",
       "      <td>0</td>\n",
       "      <td>...</td>\n",
       "      <td>0</td>\n",
       "      <td>0</td>\n",
       "      <td>0</td>\n",
       "      <td>0</td>\n",
       "      <td>0</td>\n",
       "      <td>0</td>\n",
       "      <td>0</td>\n",
       "      <td>0</td>\n",
       "      <td>0</td>\n",
       "      <td>0</td>\n",
       "    </tr>\n",
       "    <tr>\n",
       "      <th>3477</th>\n",
       "      <td>105</td>\n",
       "      <td>2</td>\n",
       "      <td>1</td>\n",
       "      <td>1</td>\n",
       "      <td>1</td>\n",
       "      <td>5600000000</td>\n",
       "      <td>0</td>\n",
       "      <td>0</td>\n",
       "      <td>0</td>\n",
       "      <td>0</td>\n",
       "      <td>...</td>\n",
       "      <td>0</td>\n",
       "      <td>0</td>\n",
       "      <td>0</td>\n",
       "      <td>0</td>\n",
       "      <td>0</td>\n",
       "      <td>0</td>\n",
       "      <td>0</td>\n",
       "      <td>0</td>\n",
       "      <td>0</td>\n",
       "      <td>0</td>\n",
       "    </tr>\n",
       "    <tr>\n",
       "      <th>3478</th>\n",
       "      <td>82</td>\n",
       "      <td>2</td>\n",
       "      <td>0</td>\n",
       "      <td>1</td>\n",
       "      <td>1</td>\n",
       "      <td>360000000</td>\n",
       "      <td>0</td>\n",
       "      <td>0</td>\n",
       "      <td>0</td>\n",
       "      <td>0</td>\n",
       "      <td>...</td>\n",
       "      <td>0</td>\n",
       "      <td>0</td>\n",
       "      <td>0</td>\n",
       "      <td>0</td>\n",
       "      <td>0</td>\n",
       "      <td>0</td>\n",
       "      <td>0</td>\n",
       "      <td>0</td>\n",
       "      <td>0</td>\n",
       "      <td>0</td>\n",
       "    </tr>\n",
       "  </tbody>\n",
       "</table>\n",
       "<p>3456 rows × 198 columns</p>\n",
       "</div>"
      ],
      "text/plain": [
       "      Area  Room  Parking  Warehouse  Elevator       Price  Abazar  Abbasabad  \\\n",
       "0       63     1        1          1         1  1850000000       0          0   \n",
       "1       60     1        1          1         1  1850000000       0          0   \n",
       "2       79     2        1          1         1   550000000       0          0   \n",
       "3       95     2        1          1         1   902500000       0          0   \n",
       "4      123     2        1          1         1  7000000000       0          0   \n",
       "...    ...   ...      ...        ...       ...         ...     ...        ...   \n",
       "3474    86     2        1          1         1  3500000000       0          0   \n",
       "3475    83     2        1          1         1  6800000000       0          0   \n",
       "3476    75     2        0          0         0   365000000       0          0   \n",
       "3477   105     2        1          1         1  5600000000       0          0   \n",
       "3478    82     2        0          1         1   360000000       0          0   \n",
       "\n",
       "      Absard  Abuzar  ...  Waterfall  West Ferdows Boulevard  West Pars  \\\n",
       "0          0       0  ...          0                       0          0   \n",
       "1          0       0  ...          0                       0          0   \n",
       "2          0       0  ...          0                       0          0   \n",
       "3          0       0  ...          0                       0          0   \n",
       "4          0       0  ...          0                       0          0   \n",
       "...      ...     ...  ...        ...                     ...        ...   \n",
       "3474       0       0  ...          0                       0          0   \n",
       "3475       0       0  ...          0                       0          0   \n",
       "3476       0       0  ...          0                       0          0   \n",
       "3477       0       0  ...          0                       0          0   \n",
       "3478       0       0  ...          0                       0          0   \n",
       "\n",
       "      Yaftabad  Yakhchiabad  Yousef Abad  Zafar  Zaferanieh  Zargandeh  \\\n",
       "0            0            0            0      0           0          0   \n",
       "1            0            0            0      0           0          0   \n",
       "2            0            0            0      0           0          0   \n",
       "3            0            0            0      0           0          0   \n",
       "4            0            0            0      0           0          0   \n",
       "...        ...          ...          ...    ...         ...        ...   \n",
       "3474         0            0            0      0           0          0   \n",
       "3475         0            0            0      0           0          0   \n",
       "3476         0            0            0      0           0          0   \n",
       "3477         0            0            0      0           0          0   \n",
       "3478         0            0            0      0           0          0   \n",
       "\n",
       "      Zibadasht  \n",
       "0             0  \n",
       "1             0  \n",
       "2             0  \n",
       "3             0  \n",
       "4             0  \n",
       "...         ...  \n",
       "3474          0  \n",
       "3475          0  \n",
       "3476          0  \n",
       "3477          0  \n",
       "3478          0  \n",
       "\n",
       "[3456 rows x 198 columns]"
      ]
     },
     "execution_count": 99,
     "metadata": {},
     "output_type": "execute_result"
    }
   ],
   "source": [
    "df_final"
   ]
  },
  {
   "cell_type": "code",
   "execution_count": 100,
   "id": "dce226e4",
   "metadata": {
    "execution": {
     "iopub.execute_input": "2022-08-10T05:51:02.316342Z",
     "iopub.status.busy": "2022-08-10T05:51:02.315825Z",
     "iopub.status.idle": "2022-08-10T05:51:02.332969Z",
     "shell.execute_reply": "2022-08-10T05:51:02.331215Z"
    },
    "papermill": {
     "duration": 0.047678,
     "end_time": "2022-08-10T05:51:02.335751",
     "exception": false,
     "start_time": "2022-08-10T05:51:02.288073",
     "status": "completed"
    },
    "tags": []
   },
   "outputs": [
    {
     "name": "stdout",
     "output_type": "stream",
     "text": [
      "shape of x train: (2764, 197)\n",
      "shape of y train: (2764,)\n",
      "shape of x test: (692, 197)\n",
      "shape of y train: (692,)\n"
     ]
    }
   ],
   "source": [
    "X = df_final.drop(columns = 'Price')\n",
    "y = df_final['Price']\n",
    "X_train, X_test, y_train, y_test = train_test_split(X, y, test_size = 0.2, random_state = 0)\n",
    "print(f\"shape of x train: {X_train.shape}\")\n",
    "print(f\"shape of y train: {y_train.shape}\")\n",
    "print(f\"shape of x test: {X_test.shape}\")\n",
    "print(f\"shape of y train: {y_test.shape}\")"
   ]
  },
  {
   "cell_type": "code",
   "execution_count": 101,
   "metadata": {},
   "outputs": [
    {
     "data": {
      "text/plain": [
       "Index(['Area', 'Room', 'Parking', 'Warehouse', 'Elevator', 'Abazar',\n",
       "       'Abbasabad', 'Absard', 'Abuzar', 'Afsarieh',\n",
       "       ...\n",
       "       'Waterfall', 'West Ferdows Boulevard', 'West Pars', 'Yaftabad',\n",
       "       'Yakhchiabad', 'Yousef Abad', 'Zafar', 'Zaferanieh', 'Zargandeh',\n",
       "       'Zibadasht'],\n",
       "      dtype='object', length=197)"
      ]
     },
     "execution_count": 101,
     "metadata": {},
     "output_type": "execute_result"
    }
   ],
   "source": [
    "X.columns"
   ]
  },
  {
   "cell_type": "code",
   "execution_count": 102,
   "id": "7c14fd1c",
   "metadata": {
    "execution": {
     "iopub.execute_input": "2022-08-10T05:51:02.391103Z",
     "iopub.status.busy": "2022-08-10T05:51:02.389927Z",
     "iopub.status.idle": "2022-08-10T05:51:02.400492Z",
     "shell.execute_reply": "2022-08-10T05:51:02.399217Z"
    },
    "papermill": {
     "duration": 0.04114,
     "end_time": "2022-08-10T05:51:02.403411",
     "exception": false,
     "start_time": "2022-08-10T05:51:02.362271",
     "status": "completed"
    },
    "tags": []
   },
   "outputs": [],
   "source": [
    "def parameter_finder (model, parameters):\n",
    "    \n",
    "    start = time.time()\n",
    "    \n",
    "    grid = GridSearchCV(model, \n",
    "                        param_grid = parameters, \n",
    "                        refit = True, \n",
    "                        cv = KFold(shuffle = True, random_state = 1), \n",
    "                        n_jobs = -1)\n",
    "    grid_fit = grid.fit(X_train, y_train)\n",
    "    y_train_pred = grid_fit.predict(X_train)\n",
    "    y_pred = grid_fit.predict(X_test)\n",
    "    \n",
    "    train_score =grid_fit.score(X_train, y_train)\n",
    "    test_score = grid_fit.score(X_test, y_test)\n",
    "    RMSE = np.sqrt(mean_squared_error(y_test, y_pred))\n",
    "    \n",
    "    model_name = str(model).split('(')[0]\n",
    "    \n",
    "    end = time.time()\n",
    "    \n",
    "    print(f\"The best parameters for {model_name} model is: {grid_fit.best_params_}\")\n",
    "    print(\"--\" * 10)\n",
    "    print(f\"(R2 score) in the training set is {train_score:0.2%} for {model_name} model.\")\n",
    "    print(f\"(R2 score) in the testing set is {test_score:0.2%} for {model_name} model.\")\n",
    "    print(f\"RMSE is {RMSE:,} for {model_name} model.\")\n",
    "    print(\"--\" * 10)\n",
    "    print(f\"Runtime of the program is: {end - start:0.2f}\")\n",
    "    \n",
    "       \n",
    "    return train_score, test_score, RMSE"
   ]
  },
  {
   "cell_type": "markdown",
   "metadata": {},
   "source": [
    "## LinearRegression "
   ]
  },
  {
   "cell_type": "code",
   "execution_count": 103,
   "id": "4f6e2273",
   "metadata": {
    "execution": {
     "iopub.execute_input": "2022-08-10T05:51:02.458378Z",
     "iopub.status.busy": "2022-08-10T05:51:02.457667Z",
     "iopub.status.idle": "2022-08-10T05:51:04.676096Z",
     "shell.execute_reply": "2022-08-10T05:51:04.671881Z"
    },
    "papermill": {
     "duration": 2.252312,
     "end_time": "2022-08-10T05:51:04.682074",
     "exception": false,
     "start_time": "2022-08-10T05:51:02.429762",
     "status": "completed"
    },
    "tags": []
   },
   "outputs": [
    {
     "name": "stdout",
     "output_type": "stream",
     "text": [
      "The best parameters for LinearRegression model is: {}\n",
      "--------------------\n",
      "(R2 score) in the training set is 60.40% for LinearRegression model.\n",
      "(R2 score) in the testing set is 53.35% for LinearRegression model.\n",
      "RMSE is 6,357,973,680.229975 for LinearRegression model.\n",
      "--------------------\n",
      "Runtime of the program is: 0.19\n"
     ]
    }
   ],
   "source": [
    "lr = LinearRegression(n_jobs = -1)\n",
    "\n",
    "lr_train_score, lr_test_score, lr_RMSE = parameter_finder(lr, {})\n"
   ]
  },
  {
   "cell_type": "markdown",
   "metadata": {},
   "source": [
    "## Ridge"
   ]
  },
  {
   "cell_type": "code",
   "execution_count": 55,
   "id": "14390963",
   "metadata": {
    "execution": {
     "iopub.execute_input": "2022-08-10T05:51:04.800616Z",
     "iopub.status.busy": "2022-08-10T05:51:04.800132Z",
     "iopub.status.idle": "2022-08-10T05:51:05.328719Z",
     "shell.execute_reply": "2022-08-10T05:51:05.326973Z"
    },
    "papermill": {
     "duration": 0.562024,
     "end_time": "2022-08-10T05:51:05.334245",
     "exception": false,
     "start_time": "2022-08-10T05:51:04.772221",
     "status": "completed"
    },
    "tags": []
   },
   "outputs": [
    {
     "name": "stdout",
     "output_type": "stream",
     "text": [
      "The best parameters for Ridge model is: {'alpha': 0.001}\n",
      "--------------------\n",
      "(R2 score) in the training set is 60.40% for Ridge model.\n",
      "(R2 score) in the testing set is 53.36% for Ridge model.\n",
      "RMSE is 6,357,553,945.625038 for Ridge model.\n",
      "--------------------\n",
      "Runtime of the program is: 0.24\n"
     ]
    }
   ],
   "source": [
    "ridge = Ridge(random_state = 1) # Linear least squares with l2 regularization.\n",
    "param_ridge = {'alpha': [0.001, 0.01, 0.1, 1, 10]}\n",
    "\n",
    "ridge_train_score, ridge_test_score, ridge_RMSE = parameter_finder(ridge, param_ridge)\n"
   ]
  },
  {
   "cell_type": "markdown",
   "metadata": {},
   "source": [
    "## Lasso"
   ]
  },
  {
   "cell_type": "code",
   "execution_count": 56,
   "id": "47aec61e",
   "metadata": {
    "execution": {
     "iopub.execute_input": "2022-08-10T05:51:05.483321Z",
     "iopub.status.busy": "2022-08-10T05:51:05.482864Z",
     "iopub.status.idle": "2022-08-10T05:51:14.502366Z",
     "shell.execute_reply": "2022-08-10T05:51:14.500047Z"
    },
    "papermill": {
     "duration": 9.069871,
     "end_time": "2022-08-10T05:51:14.508198",
     "exception": false,
     "start_time": "2022-08-10T05:51:05.438327",
     "status": "completed"
    },
    "tags": []
   },
   "outputs": [
    {
     "name": "stdout",
     "output_type": "stream",
     "text": [
      "The best parameters for Lasso model is: {'alpha': 0.001}\n",
      "--------------------\n",
      "(R2 score) in the training set is 60.40% for Lasso model.\n",
      "(R2 score) in the testing set is 53.35% for Lasso model.\n",
      "RMSE is 6,357,953,517.829563 for Lasso model.\n",
      "--------------------\n",
      "Runtime of the program is: 7.70\n"
     ]
    }
   ],
   "source": [
    "lasso = Lasso(random_state = 1) # Linear Model trained with L1 prior as regularizer.\n",
    "param_lasso = {'alpha': [0.001, 0.01, 0.1, 1, 10]}\n",
    "\n",
    "lasso_train_score, lasso_test_score, lasso_RMSE = parameter_finder(lasso, param_lasso)"
   ]
  },
  {
   "cell_type": "markdown",
   "metadata": {},
   "source": [
    "## ElasticNet"
   ]
  },
  {
   "cell_type": "code",
   "execution_count": 57,
   "id": "31c889e6",
   "metadata": {
    "execution": {
     "iopub.execute_input": "2022-08-10T05:51:14.633050Z",
     "iopub.status.busy": "2022-08-10T05:51:14.632644Z",
     "iopub.status.idle": "2022-08-10T05:51:33.740440Z",
     "shell.execute_reply": "2022-08-10T05:51:33.738196Z"
    },
    "papermill": {
     "duration": 19.146397,
     "end_time": "2022-08-10T05:51:33.746233",
     "exception": false,
     "start_time": "2022-08-10T05:51:14.599836",
     "status": "completed"
    },
    "tags": []
   },
   "outputs": [
    {
     "name": "stdout",
     "output_type": "stream",
     "text": [
      "The best parameters for ElasticNet model is: {'alpha': 0.001, 'l1_ratio': 0.7}\n",
      "--------------------\n",
      "(R2 score) in the training set is 59.51% for ElasticNet model.\n",
      "(R2 score) in the testing set is 55.36% for ElasticNet model.\n",
      "RMSE is 6,219,838,182.729824 for ElasticNet model.\n",
      "--------------------\n",
      "Runtime of the program is: 17.52\n"
     ]
    }
   ],
   "source": [
    "eln = ElasticNet(random_state = 1) # Linear regression with combined L1 and L2 priors as regularizer.\n",
    "param_eln = {'alpha': [0.001, 0.01, 0.1, 1, 10],\n",
    "            'l1_ratio': [0.3, 0.4, 0.5, 0.6, 0.7]}\n",
    "\n",
    "eln_train_score, eln_test_score, eln_RMSE = parameter_finder(eln, param_eln)"
   ]
  },
  {
   "cell_type": "markdown",
   "metadata": {},
   "source": [
    "## DecisionTreeRegressor"
   ]
  },
  {
   "cell_type": "code",
   "execution_count": 58,
   "id": "216ccf51",
   "metadata": {
    "execution": {
     "iopub.execute_input": "2022-08-10T05:51:33.879969Z",
     "iopub.status.busy": "2022-08-10T05:51:33.879339Z",
     "iopub.status.idle": "2022-08-10T05:51:34.859017Z",
     "shell.execute_reply": "2022-08-10T05:51:34.857526Z"
    },
    "papermill": {
     "duration": 1.015066,
     "end_time": "2022-08-10T05:51:34.863879",
     "exception": false,
     "start_time": "2022-08-10T05:51:33.848813",
     "status": "completed"
    },
    "tags": []
   },
   "outputs": [
    {
     "name": "stdout",
     "output_type": "stream",
     "text": [
      "The best parameters for DecisionTreeRegressor model is: {'min_samples_leaf': 1, 'min_samples_split': 3}\n",
      "--------------------\n",
      "(R2 score) in the training set is 97.91% for DecisionTreeRegressor model.\n",
      "(R2 score) in the testing set is 71.37% for DecisionTreeRegressor model.\n",
      "RMSE is 4,980,876,315.211948 for DecisionTreeRegressor model.\n",
      "--------------------\n",
      "Runtime of the program is: 0.65\n"
     ]
    }
   ],
   "source": [
    "dtr = DecisionTreeRegressor(random_state = 1)\n",
    "param_dtr = {'min_samples_split': [2, 3, 4, 5],\n",
    "            'min_samples_leaf': [1, 2, 3]}\n",
    "\n",
    "dtr_train_score, dtr_test_score, dtr_RMSE = parameter_finder(dtr, param_dtr)"
   ]
  },
  {
   "cell_type": "markdown",
   "metadata": {},
   "source": [
    "## RandomForestRegressor"
   ]
  },
  {
   "cell_type": "code",
   "execution_count": 59,
   "id": "fbad53c0",
   "metadata": {
    "execution": {
     "iopub.execute_input": "2022-08-10T05:51:34.925007Z",
     "iopub.status.busy": "2022-08-10T05:51:34.924254Z",
     "iopub.status.idle": "2022-08-10T05:52:10.427122Z",
     "shell.execute_reply": "2022-08-10T05:52:10.425681Z"
    },
    "papermill": {
     "duration": 35.562604,
     "end_time": "2022-08-10T05:52:10.458626",
     "exception": false,
     "start_time": "2022-08-10T05:51:34.896022",
     "status": "completed"
    },
    "tags": []
   },
   "outputs": [
    {
     "name": "stdout",
     "output_type": "stream",
     "text": [
      "The best parameters for RandomForestRegressor model is: {'min_samples_leaf': 1, 'min_samples_split': 3}\n",
      "--------------------\n",
      "(R2 score) in the training set is 94.05% for RandomForestRegressor model.\n",
      "(R2 score) in the testing set is 77.55% for RandomForestRegressor model.\n",
      "RMSE is 4,411,228,714.032563 for RandomForestRegressor model.\n",
      "--------------------\n",
      "Runtime of the program is: 22.04\n"
     ]
    }
   ],
   "source": [
    "rfr = RandomForestRegressor(random_state = 1, n_jobs = -1)\n",
    "param_rfr = {'min_samples_split': [2, 3, 4, 5],\n",
    "            'min_samples_leaf': [1, 2, 3]}\n",
    "\n",
    "rfr_train_score, rfr_test_score, rfr_RMSE = parameter_finder(rfr, param_rfr)"
   ]
  },
  {
   "cell_type": "markdown",
   "metadata": {},
   "source": [
    "## KNeighborsRegressor\n"
   ]
  },
  {
   "cell_type": "code",
   "execution_count": 104,
   "id": "9f891e2f",
   "metadata": {
    "execution": {
     "iopub.execute_input": "2022-08-10T05:52:10.514595Z",
     "iopub.status.busy": "2022-08-10T05:52:10.514175Z",
     "iopub.status.idle": "2022-08-10T05:52:13.253593Z",
     "shell.execute_reply": "2022-08-10T05:52:13.252303Z"
    },
    "papermill": {
     "duration": 2.770125,
     "end_time": "2022-08-10T05:52:13.256050",
     "exception": false,
     "start_time": "2022-08-10T05:52:10.485925",
     "status": "completed"
    },
    "tags": []
   },
   "outputs": [
    {
     "name": "stdout",
     "output_type": "stream",
     "text": [
      "The best parameters for KNeighborsRegressor model is: {'n_neighbors': 20, 'weights': 'uniform'}\n",
      "--------------------\n",
      "(R2 score) in the training set is 60.39% for KNeighborsRegressor model.\n",
      "(R2 score) in the testing set is 63.99% for KNeighborsRegressor model.\n",
      "RMSE is 5,586,254,776.237762 for KNeighborsRegressor model.\n",
      "--------------------\n",
      "Runtime of the program is: 2.00\n"
     ]
    }
   ],
   "source": [
    "knr = KNeighborsRegressor(n_jobs = -1)\n",
    "param_knr = {'n_neighbors': [5, 10, 15, 20],\n",
    "            'weights': ['uniform', 'distance']}\n",
    "\n",
    "knr_train_score, knr_test_score, knr_RMSE = parameter_finder(knr, param_knr)"
   ]
  },
  {
   "cell_type": "markdown",
   "id": "5b1e67e1",
   "metadata": {
    "papermill": {
     "duration": 0.026389,
     "end_time": "2022-08-10T05:52:13.309071",
     "exception": false,
     "start_time": "2022-08-10T05:52:13.282682",
     "status": "completed"
    },
    "tags": []
   },
   "source": [
    "## What is XGBoost?"
   ]
  },
  {
   "cell_type": "markdown",
   "id": "5f25a021",
   "metadata": {
    "papermill": {
     "duration": 0.026259,
     "end_time": "2022-08-10T05:52:13.361934",
     "exception": false,
     "start_time": "2022-08-10T05:52:13.335675",
     "status": "completed"
    },
    "tags": []
   },
   "source": [
    "eXtreme Gradient Boosting (XGBoost) is a scalable and improved version of the gradient boosting algorithm (terminology alert) designed for efficacy, computational speed and model performance. It is an open-source library and a part of the Distributed Machine Learning Community. XGBoost is a perfect blend of software and hardware capabilities designed to enhance existing boosting techniques with accuracy in the shortest amount of time. "
   ]
  },
  {
   "cell_type": "markdown",
   "id": "ccaa9ae6",
   "metadata": {
    "papermill": {
     "duration": 0.026599,
     "end_time": "2022-08-10T05:52:13.415801",
     "exception": false,
     "start_time": "2022-08-10T05:52:13.389202",
     "status": "completed"
    },
    "tags": []
   },
   "source": [
    "What makes XGBoost a go-to algorithm for winning Machine Learning and Kaggle competitions?"
   ]
  },
  {
   "cell_type": "markdown",
   "id": "c9aa5ca1",
   "metadata": {
    "papermill": {
     "duration": 0.026326,
     "end_time": "2022-08-10T05:52:13.469211",
     "exception": false,
     "start_time": "2022-08-10T05:52:13.442885",
     "status": "completed"
    },
    "tags": []
   },
   "source": [
    "<img src = \"https://miro.medium.com/max/3280/1*1kjLMDQMufaQoS-nNJfg1Q.png\" width=80%>"
   ]
  },
  {
   "cell_type": "code",
   "execution_count": 61,
   "id": "f215cf8d",
   "metadata": {
    "execution": {
     "iopub.execute_input": "2022-08-10T05:52:13.525684Z",
     "iopub.status.busy": "2022-08-10T05:52:13.524334Z",
     "iopub.status.idle": "2022-08-10T05:53:48.154202Z",
     "shell.execute_reply": "2022-08-10T05:53:48.153315Z"
    },
    "papermill": {
     "duration": 94.687623,
     "end_time": "2022-08-10T05:53:48.183500",
     "exception": false,
     "start_time": "2022-08-10T05:52:13.495877",
     "status": "completed"
    },
    "tags": []
   },
   "outputs": [
    {
     "name": "stdout",
     "output_type": "stream",
     "text": [
      "The best parameters for XGBRegressor model is: {'colsample_bytree': 1, 'gamma': 0, 'learning_rate': 0.05, 'max_depth': 6, 'n_estimators': 100, 'subsample': 0.75}\n",
      "--------------------\n",
      "(R2 score) in the training set is 92.52% for XGBRegressor model.\n",
      "(R2 score) in the testing set is 76.15% for XGBRegressor model.\n",
      "RMSE is 4,546,400,101.400556 for XGBRegressor model.\n",
      "--------------------\n",
      "Runtime of the program is: 71.66\n"
     ]
    }
   ],
   "source": [
    "xgboost = XGBRegressor(n_jobs = -1)\n",
    "param_xgboost = {'n_estimators': [100,300,500,1000],\n",
    "             'learning_rate': [0.2,0.1,0.05],\n",
    "             'subsample': [0.75],\n",
    "             'colsample_bytree': [1],\n",
    "             'max_depth': [3,4,5,6],\n",
    "             'gamma': [0]}\n",
    "\n",
    "xgboost_train_score, xgboost_test_score, xgboost_RMSE = parameter_finder(xgboost, param_xgboost)"
   ]
  },
  {
   "cell_type": "markdown",
   "metadata": {},
   "source": [
    "## ExtraTreesRegressor"
   ]
  },
  {
   "cell_type": "code",
   "execution_count": 62,
   "metadata": {},
   "outputs": [
    {
     "name": "stdout",
     "output_type": "stream",
     "text": [
      "The best parameters for ExtraTreesRegressor model is: {'min_samples_leaf': 1, 'min_samples_split': 2}\n",
      "--------------------\n",
      "(R2 score) in the training set is 99.18% for ExtraTreesRegressor model.\n",
      "(R2 score) in the testing set is 77.82% for ExtraTreesRegressor model.\n",
      "RMSE is 4,384,380,553.927444 for ExtraTreesRegressor model.\n",
      "--------------------\n",
      "Runtime of the program is: 44.56\n"
     ]
    }
   ],
   "source": [
    "et=ExtraTreesRegressor(random_state = 1, n_jobs = -1)\n",
    "param_et = {'min_samples_split': [2, 3, 4, 5],\n",
    "           'min_samples_leaf': [1, 2, 3]}\n",
    "\n",
    "\n",
    "et_train_score, et_test_score, et_RMSE = parameter_finder(et, param_et)            "
   ]
  },
  {
   "cell_type": "markdown",
   "metadata": {},
   "source": [
    "## GradientBoostingRegressor"
   ]
  },
  {
   "cell_type": "code",
   "execution_count": 63,
   "metadata": {},
   "outputs": [
    {
     "name": "stdout",
     "output_type": "stream",
     "text": [
      "The best parameters for GradientBoostingRegressor model is: {'min_samples_leaf': 1, 'min_samples_split': 5}\n",
      "--------------------\n",
      "(R2 score) in the training set is 87.78% for GradientBoostingRegressor model.\n",
      "(R2 score) in the testing set is 76.61% for GradientBoostingRegressor model.\n",
      "RMSE is 4,502,663,224.051602 for GradientBoostingRegressor model.\n",
      "--------------------\n",
      "Runtime of the program is: 13.41\n"
     ]
    }
   ],
   "source": [
    "gbr=GradientBoostingRegressor(random_state = 1)\n",
    "param_gbr = {'min_samples_split': [2, 3, 4, 5],\n",
    "           'min_samples_leaf': [1, 2, 3]}\n",
    "\n",
    "\n",
    "gbr_train_score, gbr_test_score, gbr_RMSE = parameter_finder(gbr, param_gbr)     "
   ]
  },
  {
   "cell_type": "code",
   "execution_count": 64,
   "id": "357e671f",
   "metadata": {
    "execution": {
     "iopub.execute_input": "2022-08-10T05:53:48.241411Z",
     "iopub.status.busy": "2022-08-10T05:53:48.240719Z",
     "iopub.status.idle": "2022-08-10T05:53:48.257764Z",
     "shell.execute_reply": "2022-08-10T05:53:48.256188Z"
    },
    "papermill": {
     "duration": 0.048823,
     "end_time": "2022-08-10T05:53:48.260490",
     "exception": false,
     "start_time": "2022-08-10T05:53:48.211667",
     "status": "completed"
    },
    "tags": []
   },
   "outputs": [
    {
     "data": {
      "text/html": [
       "<div>\n",
       "<style scoped>\n",
       "    .dataframe tbody tr th:only-of-type {\n",
       "        vertical-align: middle;\n",
       "    }\n",
       "\n",
       "    .dataframe tbody tr th {\n",
       "        vertical-align: top;\n",
       "    }\n",
       "\n",
       "    .dataframe thead th {\n",
       "        text-align: right;\n",
       "    }\n",
       "</style>\n",
       "<table border=\"1\" class=\"dataframe\">\n",
       "  <thead>\n",
       "    <tr style=\"text-align: right;\">\n",
       "      <th></th>\n",
       "      <th>Training score</th>\n",
       "      <th>Testing score</th>\n",
       "      <th>RMSE</th>\n",
       "    </tr>\n",
       "  </thead>\n",
       "  <tbody>\n",
       "    <tr>\n",
       "      <th>LinearRegression</th>\n",
       "      <td>1</td>\n",
       "      <td>1</td>\n",
       "      <td>6357973680</td>\n",
       "    </tr>\n",
       "    <tr>\n",
       "      <th>Ridge</th>\n",
       "      <td>1</td>\n",
       "      <td>1</td>\n",
       "      <td>6357553946</td>\n",
       "    </tr>\n",
       "    <tr>\n",
       "      <th>Lasso</th>\n",
       "      <td>1</td>\n",
       "      <td>1</td>\n",
       "      <td>6357953518</td>\n",
       "    </tr>\n",
       "    <tr>\n",
       "      <th>ElasticNet</th>\n",
       "      <td>1</td>\n",
       "      <td>1</td>\n",
       "      <td>6219838183</td>\n",
       "    </tr>\n",
       "    <tr>\n",
       "      <th>DecisionTreeRegressor</th>\n",
       "      <td>1</td>\n",
       "      <td>1</td>\n",
       "      <td>4980876315</td>\n",
       "    </tr>\n",
       "    <tr>\n",
       "      <th>RandomForestRegressor</th>\n",
       "      <td>1</td>\n",
       "      <td>1</td>\n",
       "      <td>4411228714</td>\n",
       "    </tr>\n",
       "    <tr>\n",
       "      <th>KNeighborsRegressor</th>\n",
       "      <td>1</td>\n",
       "      <td>1</td>\n",
       "      <td>5586254776</td>\n",
       "    </tr>\n",
       "    <tr>\n",
       "      <th>XGBoostRegressor</th>\n",
       "      <td>1</td>\n",
       "      <td>1</td>\n",
       "      <td>4546400101</td>\n",
       "    </tr>\n",
       "    <tr>\n",
       "      <th>ExtraTreesRegressor</th>\n",
       "      <td>1</td>\n",
       "      <td>1</td>\n",
       "      <td>4384380554</td>\n",
       "    </tr>\n",
       "    <tr>\n",
       "      <th>GradientBoostingRegressor</th>\n",
       "      <td>1</td>\n",
       "      <td>1</td>\n",
       "      <td>4502663224</td>\n",
       "    </tr>\n",
       "  </tbody>\n",
       "</table>\n",
       "</div>"
      ],
      "text/plain": [
       "                           Training score  Testing score       RMSE\n",
       "LinearRegression                        1              1 6357973680\n",
       "Ridge                                   1              1 6357553946\n",
       "Lasso                                   1              1 6357953518\n",
       "ElasticNet                              1              1 6219838183\n",
       "DecisionTreeRegressor                   1              1 4980876315\n",
       "RandomForestRegressor                   1              1 4411228714\n",
       "KNeighborsRegressor                     1              1 5586254776\n",
       "XGBoostRegressor                        1              1 4546400101\n",
       "ExtraTreesRegressor                     1              1 4384380554\n",
       "GradientBoostingRegressor               1              1 4502663224"
      ]
     },
     "execution_count": 64,
     "metadata": {},
     "output_type": "execute_result"
    }
   ],
   "source": [
    "models_score = pd.DataFrame({'Training score': [lr_train_score, ridge_train_score, lasso_train_score, eln_train_score, dtr_train_score, rfr_train_score, knr_train_score,xgboost_train_score,et_train_score,gbr_train_score],\n",
    "                             'Testing score': [lr_test_score, ridge_test_score, lasso_test_score, eln_test_score, dtr_test_score, rfr_test_score, knr_test_score,xgboost_test_score,et_test_score,gbr_test_score],\n",
    "                             'RMSE': [lr_RMSE, ridge_RMSE, lasso_RMSE, eln_RMSE, dtr_RMSE, rfr_RMSE, knr_RMSE,xgboost_RMSE,et_RMSE,gbr_RMSE]},\n",
    "                             index = ['LinearRegression', 'Ridge', 'Lasso','ElasticNet', 'DecisionTreeRegressor', 'RandomForestRegressor', 'KNeighborsRegressor','XGBoostRegressor','ExtraTreesRegressor','GradientBoostingRegressor'])\n",
    "\n",
    "models_score"
   ]
  },
  {
   "cell_type": "code",
   "execution_count": 65,
   "id": "21360484",
   "metadata": {
    "execution": {
     "iopub.execute_input": "2022-08-10T05:53:48.318535Z",
     "iopub.status.busy": "2022-08-10T05:53:48.318085Z",
     "iopub.status.idle": "2022-08-10T05:53:48.869526Z",
     "shell.execute_reply": "2022-08-10T05:53:48.868538Z"
    },
    "papermill": {
     "duration": 0.583639,
     "end_time": "2022-08-10T05:53:48.871863",
     "exception": false,
     "start_time": "2022-08-10T05:53:48.288224",
     "status": "completed"
    },
    "tags": []
   },
   "outputs": [
    {
     "data": {
      "image/png": "[encoded data removed]",
      "text/plain": [
       "<Figure size 2000x1000 with 2 Axes>"
      ]
     },
     "metadata": {},
     "output_type": "display_data"
    }
   ],
   "source": [
    "fig, ax = plt.subplots(figsize=(20,10))\n",
    "\n",
    "sns.set(style='white')\n",
    "\n",
    "ax.set_title(\"Camparison\", fontsize = 20)\n",
    "\n",
    "ax = sns.barplot(x = list(models_score.index), y = models_score['RMSE']/1000000000, alpha = 0.7, palette='Greens_r')\n",
    "\n",
    "ax.set_ylabel(\"RMSE\\n(billion tomans)\", fontsize = 20)\n",
    "\n",
    "sec_ax = ax.twinx()\n",
    "\n",
    "sec_ax = sns.lineplot(x = list(models_score.index), y = models_score['Training score'], linewidth = 3, color = 'blue')\n",
    "sec_ax = sns.scatterplot(x = list(models_score.index), y = models_score['Training score'], s = 200)\n",
    "\n",
    "sec_ax = sns.lineplot(x = list(models_score.index), y = models_score['Testing score'], linewidth = 3, color = 'red')\n",
    "sec_ax = sns.scatterplot(x = list(models_score.index), y = models_score['Testing score'], s = 200)\n",
    "\n",
    "sec_ax.set_ylabel(\"R2 scores\", fontsize = 20)\n",
    "\n",
    "sec_ax.legend(labels = ['Training score', 'Testing score'], fontsize = 20)\n",
    "\n",
    "\n",
    "sns.despine(offset = 10)\n",
    "\n",
    "plt.show()"
   ]
  },
  {
   "cell_type": "markdown",
   "id": "176b9aef",
   "metadata": {
    "papermill": {
     "duration": 0.028104,
     "end_time": "2022-08-10T05:53:48.929556",
     "exception": false,
     "start_time": "2022-08-10T05:53:48.901452",
     "status": "completed"
    },
    "tags": []
   },
   "source": [
    "# Save your Model"
   ]
  },
  {
   "cell_type": "code",
   "execution_count": null,
   "id": "5afc0108",
   "metadata": {
    "execution": {
     "iopub.execute_input": "2022-08-10T05:53:48.988771Z",
     "iopub.status.busy": "2022-08-10T05:53:48.987420Z",
     "iopub.status.idle": "2022-08-10T05:53:48.992258Z",
     "shell.execute_reply": "2022-08-10T05:53:48.991318Z"
    },
    "papermill": {
     "duration": 0.03663,
     "end_time": "2022-08-10T05:53:48.994512",
     "exception": false,
     "start_time": "2022-08-10T05:53:48.957882",
     "status": "completed"
    },
    "tags": []
   },
   "outputs": [],
   "source": []
  },
  {
   "cell_type": "code",
   "execution_count": null,
   "id": "62d9e9f1",
   "metadata": {
    "execution": {
     "iopub.execute_input": "2022-08-10T05:53:49.053981Z",
     "iopub.status.busy": "2022-08-10T05:53:49.052842Z",
     "iopub.status.idle": "2022-08-10T05:53:49.057535Z",
     "shell.execute_reply": "2022-08-10T05:53:49.056679Z"
    },
    "papermill": {
     "duration": 0.037196,
     "end_time": "2022-08-10T05:53:49.059731",
     "exception": false,
     "start_time": "2022-08-10T05:53:49.022535",
     "status": "completed"
    },
    "tags": []
   },
   "outputs": [],
   "source": []
  },
  {
   "cell_type": "code",
   "execution_count": 105,
   "metadata": {},
   "outputs": [
    {
     "name": "stdout",
     "output_type": "stream",
     "text": [
      "The best parameters for KNeighborsRegressor model is: {'n_neighbors': 20, 'weights': 'uniform'}\n",
      "--------------------\n",
      "(R2 score) in the training set is 60.39% for KNeighborsRegressor model.\n",
      "(R2 score) in the testing set is 63.99% for KNeighborsRegressor model.\n",
      "RMSE is 5,586,254,776.237762 for KNeighborsRegressor model.\n",
      "--------------------\n",
      "Runtime of the program is: 0.87\n"
     ]
    }
   ],
   "source": [
    "knr20 = KNeighborsRegressor(n_jobs = -1)\n",
    "param_knr = {'n_neighbors': [20],\n",
    "            'weights': ['uniform']}\n",
    "\n",
    "knr_train_score, knr_test_score, knr_RMSE = parameter_finder(knr, param_knr)"
   ]
  },
  {
   "cell_type": "code",
   "execution_count": 106,
   "metadata": {},
   "outputs": [],
   "source": [
    "knr20_1=KNeighborsRegressor(n_neighbors=20, weights='uniform',n_jobs = -1)\n",
    "knr20_1.fit(X_train,y_train)\n",
    "y_pred=knr20_1.predict(X_test)"
   ]
  },
  {
   "cell_type": "code",
   "execution_count": 107,
   "metadata": {},
   "outputs": [
    {
     "name": "stdout",
     "output_type": "stream",
     "text": [
      "R^2: 0.6399080296386985\n"
     ]
    }
   ],
   "source": [
    "print('R^2:',r2_score(y_test, y_pred))"
   ]
  },
  {
   "cell_type": "code",
   "execution_count": 69,
   "metadata": {},
   "outputs": [
    {
     "data": {
      "text/plain": [
       "['finalized_model.sav']"
      ]
     },
     "execution_count": 69,
     "metadata": {},
     "output_type": "execute_result"
    }
   ],
   "source": [
    "my_model = 'finalized_model.sav'\n",
    "joblib.dump(knr20_1, my_model)"
   ]
  },
  {
   "cell_type": "code",
   "execution_count": 108,
   "id": "8ffa5345",
   "metadata": {},
   "outputs": [
    {
     "data": {
      "text/plain": [
       "['tehrandivarprice.joblib']"
      ]
     },
     "execution_count": 108,
     "metadata": {},
     "output_type": "execute_result"
    }
   ],
   "source": [
    "joblib.dump(knr20_1, 'tehrandivarprice.joblib') "
   ]
  },
  {
   "cell_type": "code",
   "execution_count": 109,
   "metadata": {},
   "outputs": [],
   "source": [
    "# load the model from disk\n",
    "loaded_model = joblib.load('tehrandivarprice.joblib')\n",
    "# result = loaded_model.score(X_test, y_test)\n",
    "# print(result)"
   ]
  },
  {
   "cell_type": "code",
   "execution_count": 71,
   "metadata": {},
   "outputs": [
    {
     "data": {
      "text/plain": [
       "Index(['Area', 'Room', 'Parking', 'Warehouse', 'Elevator', 'Abazar',\n",
       "       'Abbasabad', 'Absard', 'Abuzar', 'Afsarieh',\n",
       "       ...\n",
       "       'Waterfall', 'West Ferdows Boulevard', 'West Pars', 'Yaftabad',\n",
       "       'Yakhchiabad', 'Yousef Abad', 'Zafar', 'Zaferanieh', 'Zargandeh',\n",
       "       'Zibadasht'],\n",
       "      dtype='object', length=197)"
      ]
     },
     "execution_count": 71,
     "metadata": {},
     "output_type": "execute_result"
    }
   ],
   "source": [
    "X_test.columns"
   ]
  },
  {
   "cell_type": "code",
   "execution_count": 72,
   "metadata": {},
   "outputs": [
    {
     "data": {
      "text/plain": [
       "'Zaferanieh'"
      ]
     },
     "execution_count": 72,
     "metadata": {},
     "output_type": "execute_result"
    }
   ],
   "source": [
    "len(X_test.columns)\n",
    "X_test.columns[194]"
   ]
  },
  {
   "cell_type": "code",
   "execution_count": 73,
   "metadata": {},
   "outputs": [
    {
     "data": {
      "text/plain": [
       "array([2.0811500e+09, 1.5125500e+09, 1.0632050e+09, 1.2018050e+09,\n",
       "       8.8798000e+09, 2.7442500e+09, 3.3051250e+09, 2.4244000e+09,\n",
       "       2.0387500e+09, 1.3411000e+09, 1.6410000e+10, 2.0185000e+09,\n",
       "       1.9327500e+09, 2.0547500e+09, 6.9394000e+09, 3.3556250e+09,\n",
       "       1.6824000e+10, 3.4204500e+09, 5.6360000e+09, 2.3251000e+09,\n",
       "       2.0257500e+09, 4.0140000e+09, 9.5680000e+08, 3.5517500e+09,\n",
       "       2.3064000e+09, 2.0335000e+09, 2.4980000e+09, 4.8441700e+09,\n",
       "       1.0013750e+10, 1.0473250e+10, 1.7669400e+10, 7.4615000e+09,\n",
       "       1.7371000e+09, 7.2195000e+08, 1.4775000e+09, 9.6752500e+09,\n",
       "       2.1322500e+09, 2.9242500e+09, 3.1468075e+09, 3.3908075e+09,\n",
       "       3.9082000e+09, 2.0838000e+09, 2.1369500e+09, 3.0724000e+09,\n",
       "       1.8958750e+09, 7.5375000e+08, 2.5142500e+09, 2.9727500e+09,\n",
       "       6.8249000e+09, 5.3790000e+09, 2.2855000e+09, 1.0640550e+09,\n",
       "       2.5016500e+09, 7.2590000e+08, 2.9986250e+09, 2.1265000e+09,\n",
       "       6.4606000e+09, 1.6499500e+09, 3.9770000e+09, 8.4225000e+08,\n",
       "       2.5149000e+09, 2.3110000e+09, 5.4017500e+09, 2.1253750e+09,\n",
       "       3.3230575e+09, 7.5600000e+08, 2.7725000e+09, 2.3822500e+09,\n",
       "       2.6020000e+09, 1.5727500e+09, 9.3380500e+09, 9.2865000e+08,\n",
       "       2.1485000e+09, 1.7061900e+10, 1.9875000e+09, 2.1795000e+09,\n",
       "       4.9403000e+09, 3.0668500e+09, 3.7064500e+09, 2.2608500e+09,\n",
       "       3.5640000e+08, 1.6880000e+09, 2.3504500e+09, 2.0337500e+09,\n",
       "       2.0795500e+09, 3.0982000e+09, 3.8417000e+09, 1.1856000e+09,\n",
       "       8.9928000e+09, 3.5640000e+08, 3.4682500e+09, 2.1607500e+09,\n",
       "       6.1053000e+09, 7.4750000e+08, 2.2344500e+09, 3.0202000e+09,\n",
       "       8.4640500e+09, 5.7897500e+09, 2.5121500e+09, 1.8220000e+09,\n",
       "       2.0562500e+09, 2.6239000e+09, 3.5930000e+10, 5.2939750e+09,\n",
       "       1.8970000e+09, 3.4835075e+09, 2.3780000e+09, 5.6360000e+09,\n",
       "       8.9207500e+09, 1.9596500e+09, 1.7260000e+09, 1.5720000e+10,\n",
       "       3.6825000e+10, 5.5906500e+09, 6.8249000e+09, 1.5236500e+09,\n",
       "       4.7485000e+09, 4.8102500e+08, 5.9645000e+09, 1.0033800e+10,\n",
       "       1.6600000e+09, 6.6610000e+09, 3.3255000e+10, 3.3687000e+09,\n",
       "       1.9371500e+09, 5.4899500e+09, 7.8592500e+09, 2.3185000e+09,\n",
       "       3.1234500e+09, 5.0979000e+09, 8.5250000e+08, 1.7810000e+09,\n",
       "       1.7340000e+09, 1.6824000e+10, 2.8844500e+10, 6.0043000e+09,\n",
       "       2.1685750e+09, 2.6070000e+10, 6.6610000e+09, 2.8557500e+10,\n",
       "       2.5102000e+09, 8.4225000e+08, 3.2432500e+09, 4.4081700e+09,\n",
       "       4.2596950e+09, 2.0871000e+09, 3.8791500e+09, 2.0600500e+09,\n",
       "       1.5720000e+10, 3.6723500e+09, 9.6332500e+09, 2.8057500e+10,\n",
       "       2.0862500e+09, 1.2165500e+09, 1.7544000e+09, 5.5743000e+09,\n",
       "       2.7067250e+09, 3.7775000e+09, 1.6824000e+10, 1.6142500e+09,\n",
       "       6.6610000e+09, 2.8165000e+09, 2.5267100e+09, 1.8469000e+09,\n",
       "       7.1307500e+09, 6.2565000e+09, 1.1940500e+09, 2.3282250e+10,\n",
       "       1.6014500e+09, 4.7852700e+09, 1.1318000e+09, 1.5074500e+09,\n",
       "       7.3899000e+09, 6.7075000e+08, 2.6877500e+09, 1.9197000e+09,\n",
       "       1.7286500e+10, 2.2887500e+09, 2.8344500e+10, 3.7438750e+09,\n",
       "       1.9015000e+09, 3.2257000e+09, 5.2073000e+09, 3.2502075e+09,\n",
       "       1.0671250e+10, 6.1200500e+09, 2.3297400e+09, 1.0273500e+09,\n",
       "       1.6574000e+10, 3.3959500e+10, 3.0455000e+09, 2.9747250e+09,\n",
       "       2.2639500e+09, 1.0865000e+10, 2.9617350e+09, 1.0962750e+10,\n",
       "       4.8355500e+09, 4.1482500e+09, 1.5834000e+10, 1.7915000e+09,\n",
       "       9.6465000e+08, 3.3888075e+09, 2.7812250e+09, 1.8630500e+09,\n",
       "       3.2255000e+10, 2.0530000e+09, 6.6326000e+09, 1.7441000e+09,\n",
       "       6.5952500e+09, 4.8865700e+09, 7.6075000e+08, 5.2422500e+09,\n",
       "       2.2790000e+09, 4.9510000e+09, 4.8110000e+09, 2.1015000e+09,\n",
       "       3.4205000e+10, 5.7023000e+09, 1.3974000e+09, 4.3782500e+09,\n",
       "       2.1337900e+09, 4.3458750e+09, 7.8365000e+09, 1.7096500e+09,\n",
       "       6.0745000e+09, 2.1871400e+09, 2.2093750e+09, 1.9686500e+09,\n",
       "       1.2505000e+09, 1.3133000e+09, 6.2670000e+08, 2.2993000e+09,\n",
       "       1.9587500e+10, 2.8540000e+09, 1.6947500e+09, 2.9760500e+09,\n",
       "       2.1700000e+09, 1.9875000e+09, 3.4662000e+09, 2.3347500e+09,\n",
       "       1.5160000e+09, 6.4106000e+09, 1.4050500e+09, 2.6301750e+10,\n",
       "       3.4433075e+09, 1.5792500e+09, 2.5142500e+09, 1.5545000e+09,\n",
       "       8.6675000e+08, 3.9795000e+09, 1.2258250e+10, 8.9312000e+09,\n",
       "       4.1868500e+09, 2.4350000e+09, 7.0157500e+09, 5.0615000e+09,\n",
       "       5.5313500e+09, 2.2790000e+09, 1.6574000e+10, 1.8440000e+09,\n",
       "       1.0955750e+10, 4.5462500e+09, 3.4204500e+09, 2.5444500e+10,\n",
       "       2.3175000e+09, 6.5120000e+09, 2.3405000e+09, 4.4081950e+09,\n",
       "       1.1178650e+10, 9.5492500e+09, 2.4242500e+09, 4.1482500e+09,\n",
       "       7.2195000e+08, 3.7755050e+09, 2.5813650e+09, 1.1167250e+10,\n",
       "       3.7755050e+09, 2.9838650e+09, 2.5020000e+09, 1.8355000e+09,\n",
       "       1.2909500e+09, 1.2165500e+09, 1.2258250e+10, 3.4433075e+09,\n",
       "       2.1794000e+09, 5.6777000e+09, 1.6667850e+10, 4.9202000e+09,\n",
       "       2.7069350e+10, 3.0005575e+09, 7.1744000e+09, 3.3888075e+09,\n",
       "       3.3405000e+10, 2.5745000e+09, 4.0389450e+09, 2.0493750e+09,\n",
       "       3.4155000e+10, 2.1555000e+09, 1.3569750e+09, 3.0658800e+09,\n",
       "       3.5142000e+09, 7.3850000e+08, 1.0303500e+09, 1.8520000e+09,\n",
       "       7.3320000e+08, 1.9722000e+09, 2.0590000e+09, 1.8555000e+09,\n",
       "       1.0865000e+10, 1.9558750e+09, 2.4557750e+09, 2.0038750e+09,\n",
       "       2.3282500e+09, 2.3625000e+09, 2.6190000e+09, 2.4964000e+09,\n",
       "       7.1392500e+09, 1.0618250e+10, 5.1642500e+09, 4.1085000e+09,\n",
       "       1.8644000e+09, 7.7877500e+09, 2.1025000e+09, 1.1501500e+09,\n",
       "       6.7075000e+08, 5.1840000e+09, 1.9633750e+09, 2.7532250e+09,\n",
       "       9.7430000e+08, 8.3900000e+08, 5.0328000e+09, 4.3445000e+09,\n",
       "       2.2737500e+09, 5.4017500e+09, 1.9624900e+09, 2.4415000e+09,\n",
       "       1.0782000e+09, 6.9494000e+09, 1.9740000e+09, 7.8122500e+09,\n",
       "       3.4292500e+09, 2.0990000e+09, 2.1857500e+09, 1.2258250e+10,\n",
       "       3.3230575e+09, 7.5954000e+09, 2.6159000e+09, 3.1069500e+10,\n",
       "       2.2093750e+09, 1.7312000e+09, 2.1360000e+09, 2.3802500e+09,\n",
       "       4.7513200e+09, 1.6211900e+09, 4.8102500e+08, 3.5675000e+10,\n",
       "       2.3779500e+09, 2.5377000e+09, 6.7649500e+09, 3.4433075e+09,\n",
       "       8.1598000e+09, 3.7755050e+09, 2.2185000e+09, 4.0285050e+09,\n",
       "       5.7180000e+09, 3.3948075e+09, 2.3405000e+09, 1.2565250e+10,\n",
       "       3.3588750e+09, 1.4953900e+10, 9.1655000e+08, 3.0892250e+09,\n",
       "       3.4360000e+09, 3.6097050e+09, 1.0781750e+10, 2.1253750e+09,\n",
       "       1.6209000e+10, 2.2690000e+09, 8.1598000e+09, 1.6640000e+09,\n",
       "       2.2140000e+09, 4.3458750e+09, 7.0632500e+09, 1.2258250e+10,\n",
       "       5.2140500e+09, 2.1133500e+09, 9.8980000e+08, 1.9688750e+09,\n",
       "       2.2790000e+09, 1.0810500e+09, 3.1393500e+09, 9.7900000e+09,\n",
       "       1.9226200e+10, 2.6526750e+10, 2.2225000e+09, 1.8195000e+09,\n",
       "       4.6787500e+09, 6.7902500e+09, 1.7776500e+09, 7.2195000e+08,\n",
       "       2.1454000e+09, 3.1067250e+09, 2.8841500e+09, 9.9380000e+08,\n",
       "       6.7490000e+09, 3.7775000e+09, 2.4504000e+09, 7.1272500e+09,\n",
       "       4.5462500e+09, 2.3703500e+09, 4.9492500e+09, 3.1833000e+09,\n",
       "       3.3959500e+10, 5.0222500e+09, 2.0871000e+09, 1.1679500e+09,\n",
       "       1.9685000e+09, 2.9419500e+10, 6.4494000e+09, 2.4400000e+09,\n",
       "       4.7325000e+08, 4.9072500e+09, 3.2744500e+09, 1.8877500e+09,\n",
       "       7.8025000e+08, 9.6752500e+09, 2.0708750e+09, 1.1322250e+10,\n",
       "       5.1587500e+09, 2.3386000e+09, 8.8648000e+09, 2.1795000e+09,\n",
       "       3.3459600e+09, 1.7960500e+10, 3.0202000e+09, 1.0697750e+10,\n",
       "       3.4433075e+09, 2.6082250e+09, 4.3445000e+09, 1.6492500e+09,\n",
       "       2.5907500e+09, 1.3071000e+10, 2.0376500e+09, 4.9815000e+09,\n",
       "       2.3282250e+10, 1.9286500e+09, 1.7889500e+09, 1.7195100e+10,\n",
       "       7.5385000e+09, 2.1454000e+09, 7.3320000e+08, 3.4433075e+09,\n",
       "       2.4287500e+09, 2.1030000e+09, 3.9770000e+09, 1.0166200e+10,\n",
       "       3.6700000e+09, 1.5737900e+10, 6.2670000e+08, 1.2606600e+10,\n",
       "       1.1075250e+10, 2.7400000e+10, 3.4255000e+10, 4.7325000e+08,\n",
       "       7.3897500e+09, 4.4125500e+09, 5.0699750e+09, 4.8319500e+09,\n",
       "       2.5485000e+09, 3.4079500e+09, 1.0870000e+10, 1.7090000e+09,\n",
       "       9.6332500e+09, 3.4588500e+10, 7.1739000e+09, 6.9750000e+08,\n",
       "       2.6997500e+10, 1.9375000e+09, 3.6700000e+09, 2.2767400e+09,\n",
       "       1.4146500e+10, 3.0536250e+09, 1.9987500e+09, 2.9144000e+09,\n",
       "       5.0328000e+09, 2.2600000e+09, 2.2990000e+09, 2.0967500e+09,\n",
       "       3.0849000e+09, 2.8310000e+09, 1.3115500e+09, 3.2744500e+09,\n",
       "       2.9747250e+09, 3.7011050e+09, 3.4767500e+10, 6.2853000e+09,\n",
       "       4.8330000e+09, 2.9067000e+09, 5.3377500e+09, 2.1027500e+09,\n",
       "       1.8665000e+09, 3.7438750e+09, 3.5675000e+10, 1.0858500e+09,\n",
       "       1.7638000e+09, 6.2565000e+09, 9.6350000e+08, 2.8057500e+10,\n",
       "       2.0871000e+09, 3.1444500e+09, 5.2439750e+09, 3.3830000e+10,\n",
       "       5.5610000e+09, 1.7340000e+09, 4.7575000e+08, 7.3327500e+09,\n",
       "       8.6587500e+09, 2.3539000e+09, 9.1915000e+08, 2.6682500e+09,\n",
       "       2.0245000e+09, 2.0473750e+09, 6.2797500e+09, 1.8705000e+09,\n",
       "       2.0825000e+09, 4.1868500e+09, 4.7600500e+09, 2.3282250e+10,\n",
       "       2.2353500e+09, 5.4227000e+09, 4.1153500e+09, 1.9497500e+09,\n",
       "       6.5952500e+09, 1.0865000e+10, 1.8751500e+09, 2.8807500e+09,\n",
       "       1.0068250e+10, 5.2422500e+09, 1.5845000e+09, 6.3712500e+09,\n",
       "       3.4433075e+09, 2.1935000e+09, 1.0721500e+10, 2.2705750e+09,\n",
       "       2.3544000e+09, 4.3998500e+09, 1.6574000e+10, 1.9550000e+09,\n",
       "       7.4615000e+09, 1.2565250e+10, 2.1965000e+09, 1.9387500e+09,\n",
       "       7.0646500e+09, 1.1527000e+09, 2.3957500e+09, 5.5443000e+09,\n",
       "       5.2422500e+09, 2.0372500e+09, 3.3948075e+09, 1.0093000e+09,\n",
       "       1.2897500e+09, 3.4588500e+10, 1.9994000e+09, 1.0858250e+10,\n",
       "       2.3514000e+09, 2.0962500e+09, 6.4819000e+09, 6.7902500e+09,\n",
       "       3.2772000e+09, 2.1879500e+09, 2.5990750e+09, 3.8109450e+09,\n",
       "       1.1502500e+09, 3.3888075e+09, 4.9453500e+09, 3.5217000e+09,\n",
       "       8.6367500e+09, 1.5040000e+09, 2.7067250e+09, 1.1495500e+09,\n",
       "       2.6909600e+09, 3.4433075e+09, 1.6424000e+10, 1.0540000e+09,\n",
       "       1.4321500e+09, 6.5952500e+09, 9.2405000e+08, 5.0432500e+09,\n",
       "       1.0865000e+10, 2.3550000e+09, 8.3548000e+09, 1.6482500e+09,\n",
       "       2.4494000e+09, 6.4499500e+09, 7.8265000e+08, 2.1337900e+09,\n",
       "       1.0363000e+09, 1.6391000e+09, 7.3747500e+09, 3.3959500e+10,\n",
       "       7.8122500e+09, 1.6131500e+09, 3.7769500e+09, 8.8002500e+09,\n",
       "       5.0025000e+09, 2.4287500e+09, 1.0867500e+09, 7.1307500e+09,\n",
       "       3.6064500e+09, 7.2195000e+08, 1.9567100e+10, 1.2073050e+09,\n",
       "       3.1729750e+09, 2.8201150e+09, 3.3459600e+09, 1.0865000e+10,\n",
       "       5.2477000e+09, 1.7094500e+09, 2.3822500e+09, 2.3957500e+09,\n",
       "       2.2110500e+09, 1.8890000e+09, 2.7905750e+09, 3.7438750e+09,\n",
       "       2.1826500e+09, 6.4756000e+09, 4.9976000e+09, 3.0724000e+09,\n",
       "       4.3352500e+09, 3.4693500e+09, 2.1047500e+09, 2.6501750e+10,\n",
       "       8.9928000e+09, 2.0005000e+09, 1.5642500e+09, 7.8900000e+08,\n",
       "       9.2792500e+09, 1.8090000e+09, 1.2945000e+09, 2.2560000e+09,\n",
       "       2.6250000e+09, 2.0547500e+09, 1.1575750e+10, 4.9510000e+09,\n",
       "       2.1370000e+09, 4.3612500e+09, 7.9165000e+09, 2.9702000e+09,\n",
       "       2.2742000e+09, 3.2502075e+09, 1.6574000e+10, 1.7502000e+09,\n",
       "       1.2565250e+10, 1.2381000e+09, 1.0068250e+10, 2.0104000e+09,\n",
       "       5.7525000e+09, 2.6954000e+09, 2.0315000e+09, 6.2970000e+09,\n",
       "       3.3773500e+10, 4.6795000e+09, 1.7855000e+09, 3.3405000e+10,\n",
       "       9.0997000e+09, 8.0767500e+09, 7.1507500e+09, 3.9560000e+09,\n",
       "       3.7127000e+09, 2.4279500e+09, 5.6360000e+09, 3.9862500e+09,\n",
       "       3.4794600e+09, 1.9907500e+09, 2.3386000e+09, 3.1234000e+09,\n",
       "       5.2967500e+09, 3.6986250e+09, 1.2258250e+10, 2.1027500e+09,\n",
       "       1.8920000e+09, 1.8195000e+09, 1.2242500e+09, 2.3696500e+09,\n",
       "       2.2705750e+09, 3.2432500e+09, 4.0420000e+09, 3.8303500e+09,\n",
       "       2.7310000e+09, 2.0020000e+09, 9.9600000e+08, 2.7725000e+09])"
      ]
     },
     "execution_count": 73,
     "metadata": {},
     "output_type": "execute_result"
    }
   ],
   "source": [
    "yhat =loaded_model.predict(X_test)\n",
    "yhat"
   ]
  },
  {
   "cell_type": "code",
   "execution_count": 74,
   "metadata": {},
   "outputs": [
    {
     "data": {
      "text/plain": [
       "array([1.063205e+09, 1.201805e+09])"
      ]
     },
     "execution_count": 74,
     "metadata": {},
     "output_type": "execute_result"
    }
   ],
   "source": [
    "y1_test =loaded_model.predict(X_test.iloc[2:4,])\n",
    "y1_test"
   ]
  },
  {
   "cell_type": "code",
   "execution_count": 75,
   "metadata": {},
   "outputs": [
    {
     "data": {
      "text/plain": [
       "Area           53\n",
       "Room            2\n",
       "Parking         0\n",
       "Warehouse       0\n",
       "Elevator        0\n",
       "               ..\n",
       "Yousef Abad     0\n",
       "Zafar           0\n",
       "Zaferanieh      0\n",
       "Zargandeh       0\n",
       "Zibadasht       0\n",
       "Name: 2845, Length: 197, dtype: int64"
      ]
     },
     "execution_count": 75,
     "metadata": {},
     "output_type": "execute_result"
    }
   ],
   "source": [
    "X_test.iloc[2,]"
   ]
  },
  {
   "cell_type": "code",
   "execution_count": 284,
   "metadata": {},
   "outputs": [
    {
     "data": {
      "text/html": [
       "<div>\n",
       "<style scoped>\n",
       "    .dataframe tbody tr th:only-of-type {\n",
       "        vertical-align: middle;\n",
       "    }\n",
       "\n",
       "    .dataframe tbody tr th {\n",
       "        vertical-align: top;\n",
       "    }\n",
       "\n",
       "    .dataframe thead th {\n",
       "        text-align: right;\n",
       "    }\n",
       "</style>\n",
       "<table border=\"1\" class=\"dataframe\">\n",
       "  <thead>\n",
       "    <tr style=\"text-align: right;\">\n",
       "      <th></th>\n",
       "      <th>Area</th>\n",
       "      <th>Room</th>\n",
       "      <th>Parking</th>\n",
       "      <th>Warehouse</th>\n",
       "      <th>Elevator</th>\n",
       "      <th>Abazar</th>\n",
       "      <th>Abbasabad</th>\n",
       "      <th>Absard</th>\n",
       "      <th>Abuzar</th>\n",
       "      <th>Afsarieh</th>\n",
       "      <th>...</th>\n",
       "      <th>Waterfall</th>\n",
       "      <th>West Ferdows Boulevard</th>\n",
       "      <th>West Pars</th>\n",
       "      <th>Yaftabad</th>\n",
       "      <th>Yakhchiabad</th>\n",
       "      <th>Yousef Abad</th>\n",
       "      <th>Zafar</th>\n",
       "      <th>Zaferanieh</th>\n",
       "      <th>Zargandeh</th>\n",
       "      <th>Zibadasht</th>\n",
       "    </tr>\n",
       "  </thead>\n",
       "  <tbody>\n",
       "    <tr>\n",
       "      <th>3079</th>\n",
       "      <td>73</td>\n",
       "      <td>1</td>\n",
       "      <td>1</td>\n",
       "      <td>1</td>\n",
       "      <td>0</td>\n",
       "      <td>0</td>\n",
       "      <td>0</td>\n",
       "      <td>0</td>\n",
       "      <td>0</td>\n",
       "      <td>0</td>\n",
       "      <td>...</td>\n",
       "      <td>0</td>\n",
       "      <td>0</td>\n",
       "      <td>0</td>\n",
       "      <td>0</td>\n",
       "      <td>0</td>\n",
       "      <td>0</td>\n",
       "      <td>0</td>\n",
       "      <td>0</td>\n",
       "      <td>0</td>\n",
       "      <td>0</td>\n",
       "    </tr>\n",
       "    <tr>\n",
       "      <th>2600</th>\n",
       "      <td>58</td>\n",
       "      <td>2</td>\n",
       "      <td>0</td>\n",
       "      <td>1</td>\n",
       "      <td>1</td>\n",
       "      <td>0</td>\n",
       "      <td>0</td>\n",
       "      <td>0</td>\n",
       "      <td>0</td>\n",
       "      <td>0</td>\n",
       "      <td>...</td>\n",
       "      <td>0</td>\n",
       "      <td>0</td>\n",
       "      <td>0</td>\n",
       "      <td>0</td>\n",
       "      <td>0</td>\n",
       "      <td>0</td>\n",
       "      <td>0</td>\n",
       "      <td>0</td>\n",
       "      <td>0</td>\n",
       "      <td>0</td>\n",
       "    </tr>\n",
       "    <tr>\n",
       "      <th>2845</th>\n",
       "      <td>53</td>\n",
       "      <td>2</td>\n",
       "      <td>0</td>\n",
       "      <td>0</td>\n",
       "      <td>0</td>\n",
       "      <td>0</td>\n",
       "      <td>0</td>\n",
       "      <td>0</td>\n",
       "      <td>0</td>\n",
       "      <td>0</td>\n",
       "      <td>...</td>\n",
       "      <td>0</td>\n",
       "      <td>0</td>\n",
       "      <td>0</td>\n",
       "      <td>0</td>\n",
       "      <td>0</td>\n",
       "      <td>0</td>\n",
       "      <td>0</td>\n",
       "      <td>0</td>\n",
       "      <td>0</td>\n",
       "      <td>0</td>\n",
       "    </tr>\n",
       "    <tr>\n",
       "      <th>3405</th>\n",
       "      <td>53</td>\n",
       "      <td>1</td>\n",
       "      <td>0</td>\n",
       "      <td>1</td>\n",
       "      <td>0</td>\n",
       "      <td>0</td>\n",
       "      <td>0</td>\n",
       "      <td>0</td>\n",
       "      <td>0</td>\n",
       "      <td>0</td>\n",
       "      <td>...</td>\n",
       "      <td>0</td>\n",
       "      <td>0</td>\n",
       "      <td>0</td>\n",
       "      <td>0</td>\n",
       "      <td>0</td>\n",
       "      <td>0</td>\n",
       "      <td>0</td>\n",
       "      <td>0</td>\n",
       "      <td>0</td>\n",
       "      <td>0</td>\n",
       "    </tr>\n",
       "    <tr>\n",
       "      <th>958</th>\n",
       "      <td>145</td>\n",
       "      <td>3</td>\n",
       "      <td>1</td>\n",
       "      <td>1</td>\n",
       "      <td>1</td>\n",
       "      <td>0</td>\n",
       "      <td>0</td>\n",
       "      <td>0</td>\n",
       "      <td>0</td>\n",
       "      <td>0</td>\n",
       "      <td>...</td>\n",
       "      <td>0</td>\n",
       "      <td>0</td>\n",
       "      <td>0</td>\n",
       "      <td>0</td>\n",
       "      <td>0</td>\n",
       "      <td>0</td>\n",
       "      <td>0</td>\n",
       "      <td>0</td>\n",
       "      <td>0</td>\n",
       "      <td>0</td>\n",
       "    </tr>\n",
       "    <tr>\n",
       "      <th>...</th>\n",
       "      <td>...</td>\n",
       "      <td>...</td>\n",
       "      <td>...</td>\n",
       "      <td>...</td>\n",
       "      <td>...</td>\n",
       "      <td>...</td>\n",
       "      <td>...</td>\n",
       "      <td>...</td>\n",
       "      <td>...</td>\n",
       "      <td>...</td>\n",
       "      <td>...</td>\n",
       "      <td>...</td>\n",
       "      <td>...</td>\n",
       "      <td>...</td>\n",
       "      <td>...</td>\n",
       "      <td>...</td>\n",
       "      <td>...</td>\n",
       "      <td>...</td>\n",
       "      <td>...</td>\n",
       "      <td>...</td>\n",
       "      <td>...</td>\n",
       "    </tr>\n",
       "    <tr>\n",
       "      <th>2836</th>\n",
       "      <td>100</td>\n",
       "      <td>2</td>\n",
       "      <td>1</td>\n",
       "      <td>1</td>\n",
       "      <td>1</td>\n",
       "      <td>0</td>\n",
       "      <td>0</td>\n",
       "      <td>0</td>\n",
       "      <td>0</td>\n",
       "      <td>0</td>\n",
       "      <td>...</td>\n",
       "      <td>0</td>\n",
       "      <td>0</td>\n",
       "      <td>0</td>\n",
       "      <td>0</td>\n",
       "      <td>0</td>\n",
       "      <td>0</td>\n",
       "      <td>0</td>\n",
       "      <td>0</td>\n",
       "      <td>0</td>\n",
       "      <td>0</td>\n",
       "    </tr>\n",
       "    <tr>\n",
       "      <th>9</th>\n",
       "      <td>71</td>\n",
       "      <td>1</td>\n",
       "      <td>1</td>\n",
       "      <td>1</td>\n",
       "      <td>1</td>\n",
       "      <td>0</td>\n",
       "      <td>0</td>\n",
       "      <td>0</td>\n",
       "      <td>0</td>\n",
       "      <td>0</td>\n",
       "      <td>...</td>\n",
       "      <td>0</td>\n",
       "      <td>1</td>\n",
       "      <td>0</td>\n",
       "      <td>0</td>\n",
       "      <td>0</td>\n",
       "      <td>0</td>\n",
       "      <td>0</td>\n",
       "      <td>0</td>\n",
       "      <td>0</td>\n",
       "      <td>0</td>\n",
       "    </tr>\n",
       "    <tr>\n",
       "      <th>1626</th>\n",
       "      <td>57</td>\n",
       "      <td>1</td>\n",
       "      <td>1</td>\n",
       "      <td>1</td>\n",
       "      <td>1</td>\n",
       "      <td>0</td>\n",
       "      <td>0</td>\n",
       "      <td>0</td>\n",
       "      <td>0</td>\n",
       "      <td>0</td>\n",
       "      <td>...</td>\n",
       "      <td>0</td>\n",
       "      <td>0</td>\n",
       "      <td>0</td>\n",
       "      <td>0</td>\n",
       "      <td>0</td>\n",
       "      <td>0</td>\n",
       "      <td>0</td>\n",
       "      <td>0</td>\n",
       "      <td>0</td>\n",
       "      <td>0</td>\n",
       "    </tr>\n",
       "    <tr>\n",
       "      <th>2103</th>\n",
       "      <td>43</td>\n",
       "      <td>0</td>\n",
       "      <td>0</td>\n",
       "      <td>1</td>\n",
       "      <td>0</td>\n",
       "      <td>0</td>\n",
       "      <td>0</td>\n",
       "      <td>0</td>\n",
       "      <td>0</td>\n",
       "      <td>0</td>\n",
       "      <td>...</td>\n",
       "      <td>0</td>\n",
       "      <td>0</td>\n",
       "      <td>0</td>\n",
       "      <td>0</td>\n",
       "      <td>0</td>\n",
       "      <td>0</td>\n",
       "      <td>0</td>\n",
       "      <td>0</td>\n",
       "      <td>0</td>\n",
       "      <td>0</td>\n",
       "    </tr>\n",
       "    <tr>\n",
       "      <th>3208</th>\n",
       "      <td>80</td>\n",
       "      <td>2</td>\n",
       "      <td>1</td>\n",
       "      <td>1</td>\n",
       "      <td>1</td>\n",
       "      <td>0</td>\n",
       "      <td>0</td>\n",
       "      <td>0</td>\n",
       "      <td>0</td>\n",
       "      <td>0</td>\n",
       "      <td>...</td>\n",
       "      <td>0</td>\n",
       "      <td>0</td>\n",
       "      <td>0</td>\n",
       "      <td>0</td>\n",
       "      <td>0</td>\n",
       "      <td>0</td>\n",
       "      <td>0</td>\n",
       "      <td>0</td>\n",
       "      <td>0</td>\n",
       "      <td>0</td>\n",
       "    </tr>\n",
       "  </tbody>\n",
       "</table>\n",
       "<p>692 rows × 197 columns</p>\n",
       "</div>"
      ],
      "text/plain": [
       "      Area  Room  Parking  Warehouse  Elevator  Abazar  Abbasabad  Absard  \\\n",
       "3079    73     1        1          1         0       0          0       0   \n",
       "2600    58     2        0          1         1       0          0       0   \n",
       "2845    53     2        0          0         0       0          0       0   \n",
       "3405    53     1        0          1         0       0          0       0   \n",
       "958    145     3        1          1         1       0          0       0   \n",
       "...    ...   ...      ...        ...       ...     ...        ...     ...   \n",
       "2836   100     2        1          1         1       0          0       0   \n",
       "9       71     1        1          1         1       0          0       0   \n",
       "1626    57     1        1          1         1       0          0       0   \n",
       "2103    43     0        0          1         0       0          0       0   \n",
       "3208    80     2        1          1         1       0          0       0   \n",
       "\n",
       "      Abuzar  Afsarieh  ...  Waterfall  West Ferdows Boulevard  West Pars  \\\n",
       "3079       0         0  ...          0                       0          0   \n",
       "2600       0         0  ...          0                       0          0   \n",
       "2845       0         0  ...          0                       0          0   \n",
       "3405       0         0  ...          0                       0          0   \n",
       "958        0         0  ...          0                       0          0   \n",
       "...      ...       ...  ...        ...                     ...        ...   \n",
       "2836       0         0  ...          0                       0          0   \n",
       "9          0         0  ...          0                       1          0   \n",
       "1626       0         0  ...          0                       0          0   \n",
       "2103       0         0  ...          0                       0          0   \n",
       "3208       0         0  ...          0                       0          0   \n",
       "\n",
       "      Yaftabad  Yakhchiabad  Yousef Abad  Zafar  Zaferanieh  Zargandeh  \\\n",
       "3079         0            0            0      0           0          0   \n",
       "2600         0            0            0      0           0          0   \n",
       "2845         0            0            0      0           0          0   \n",
       "3405         0            0            0      0           0          0   \n",
       "958          0            0            0      0           0          0   \n",
       "...        ...          ...          ...    ...         ...        ...   \n",
       "2836         0            0            0      0           0          0   \n",
       "9            0            0            0      0           0          0   \n",
       "1626         0            0            0      0           0          0   \n",
       "2103         0            0            0      0           0          0   \n",
       "3208         0            0            0      0           0          0   \n",
       "\n",
       "      Zibadasht  \n",
       "3079          0  \n",
       "2600          0  \n",
       "2845          0  \n",
       "3405          0  \n",
       "958           0  \n",
       "...         ...  \n",
       "2836          0  \n",
       "9             0  \n",
       "1626          0  \n",
       "2103          0  \n",
       "3208          0  \n",
       "\n",
       "[692 rows x 197 columns]"
      ]
     },
     "execution_count": 284,
     "metadata": {},
     "output_type": "execute_result"
    }
   ],
   "source": [
    "X_test"
   ]
  }
 ],
 "metadata": {
  "kernelspec": {
   "display_name": "pycaretm",
   "language": "python",
   "name": "python3"
  },
  "language_info": {
   "codemirror_mode": {
    "name": "ipython",
    "version": 3
   },
   "file_extension": ".py",
   "mimetype": "text/x-python",
   "name": "python",
   "nbconvert_exporter": "python",
   "pygments_lexer": "ipython3",
   "version": "3.8.8"
  },
  "papermill": {
   "default_parameters": {},
   "duration": 186.634179,
   "end_time": "2022-08-10T05:53:51.711178",
   "environment_variables": {},
   "exception": null,
   "input_path": "__notebook__.ipynb",
   "output_path": "__notebook__.ipynb",
   "parameters": {},
   "start_time": "2022-08-10T05:50:45.076999",
   "version": "2.3.4"
  }
 },
 "nbformat": 4,
 "nbformat_minor": 5
}
